{
 "cells": [
  {
   "cell_type": "code",
   "execution_count": 1,
   "metadata": {
    "collapsed": false
   },
   "outputs": [
    {
     "ename": "NameError",
     "evalue": "name 'h2o' is not defined",
     "output_type": "error",
     "traceback": [
      "\u001b[0;31m---------------------------------------------------------------------------\u001b[0m",
      "\u001b[0;31mNameError\u001b[0m                                 Traceback (most recent call last)",
      "\u001b[0;32m<ipython-input-1-bd1e984f485f>\u001b[0m in \u001b[0;36m<module>\u001b[0;34m()\u001b[0m\n\u001b[0;32m----> 1\u001b[0;31m \u001b[0mh2o\u001b[0m\u001b[0;34m.\u001b[0m\u001b[0mshutdown\u001b[0m\u001b[0;34m(\u001b[0m\u001b[0;34m)\u001b[0m\u001b[0;34m\u001b[0m\u001b[0m\n\u001b[0m",
      "\u001b[0;31mNameError\u001b[0m: name 'h2o' is not defined"
     ]
    }
   ],
   "source": [
    "h2o.shutdown()"
   ]
  },
  {
   "cell_type": "code",
   "execution_count": 2,
   "metadata": {
    "collapsed": false
   },
   "outputs": [
    {
     "name": "stdout",
     "output_type": "stream",
     "text": [
      "\n",
      "\n",
      "No instance found at ip and port: localhost:54321. Trying to start local jar...\n",
      "\n",
      "\n",
      "JVM stdout: /var/folders/55/rj4cny_s29q4vn1wjt_x08sm0000gn/T/tmpiCYLh1/h2o_navdeepgill_started_from_python.out\n",
      "JVM stderr: /var/folders/55/rj4cny_s29q4vn1wjt_x08sm0000gn/T/tmpCmJ7tc/h2o_navdeepgill_started_from_python.err\n",
      "Using ice_root: /var/folders/55/rj4cny_s29q4vn1wjt_x08sm0000gn/T/tmpYEXDXI\n",
      "\n",
      "\n",
      "Java Version: java version \"1.7.0_79\"\n",
      "Java(TM) SE Runtime Environment (build 1.7.0_79-b15)\n",
      "Java HotSpot(TM) 64-Bit Server VM (build 24.79-b02, mixed mode)\n",
      "\n",
      "\n",
      "Starting H2O JVM and connecting: ................ Connection successful!\n"
     ]
    },
    {
     "name": "stderr",
     "output_type": "stream",
     "text": [
      "/Users/navdeepgill/anaconda/lib/python2.7/site-packages/IPython/core/formatters.py:90: DeprecationWarning: DisplayFormatter._ipython_display_formatter_default is deprecated: use @default decorator instead.\n",
      "  def _ipython_display_formatter_default(self):\n",
      "/Users/navdeepgill/anaconda/lib/python2.7/site-packages/IPython/core/formatters.py:96: DeprecationWarning: DisplayFormatter._formatters_default is deprecated: use @default decorator instead.\n",
      "  def _formatters_default(self):\n",
      "/Users/navdeepgill/anaconda/lib/python2.7/site-packages/IPython/core/formatters.py:675: DeprecationWarning: PlainTextFormatter._deferred_printers_default is deprecated: use @default decorator instead.\n",
      "  def _deferred_printers_default(self):\n",
      "/Users/navdeepgill/anaconda/lib/python2.7/site-packages/IPython/core/formatters.py:667: DeprecationWarning: PlainTextFormatter._singleton_printers_default is deprecated: use @default decorator instead.\n",
      "  def _singleton_printers_default(self):\n",
      "/Users/navdeepgill/anaconda/lib/python2.7/site-packages/IPython/core/formatters.py:670: DeprecationWarning: PlainTextFormatter._type_printers_default is deprecated: use @default decorator instead.\n",
      "  def _type_printers_default(self):\n",
      "/Users/navdeepgill/anaconda/lib/python2.7/site-packages/IPython/core/formatters.py:667: DeprecationWarning: PlainTextFormatter._singleton_printers_default is deprecated: use @default decorator instead.\n",
      "  def _singleton_printers_default(self):\n",
      "/Users/navdeepgill/anaconda/lib/python2.7/site-packages/IPython/core/formatters.py:670: DeprecationWarning: PlainTextFormatter._type_printers_default is deprecated: use @default decorator instead.\n",
      "  def _type_printers_default(self):\n",
      "/Users/navdeepgill/anaconda/lib/python2.7/site-packages/IPython/core/formatters.py:675: DeprecationWarning: PlainTextFormatter._deferred_printers_default is deprecated: use @default decorator instead.\n",
      "  def _deferred_printers_default(self):\n"
     ]
    },
    {
     "data": {
      "text/html": [
       "<div style=\"overflow:auto\"><table style=\"width:50%\"><tr><td>H2O cluster uptime: </td>\n",
       "<td>1 seconds 792 milliseconds </td></tr>\n",
       "<tr><td>H2O cluster version: </td>\n",
       "<td>3.8.1.4</td></tr>\n",
       "<tr><td>H2O cluster name: </td>\n",
       "<td>H2O_started_from_python_navdeepgill_pch412</td></tr>\n",
       "<tr><td>H2O cluster total nodes: </td>\n",
       "<td>1</td></tr>\n",
       "<tr><td>H2O cluster total free memory: </td>\n",
       "<td>3.56 GB</td></tr>\n",
       "<tr><td>H2O cluster total cores: </td>\n",
       "<td>8</td></tr>\n",
       "<tr><td>H2O cluster allowed cores: </td>\n",
       "<td>8</td></tr>\n",
       "<tr><td>H2O cluster healthy: </td>\n",
       "<td>True</td></tr>\n",
       "<tr><td>H2O Connection ip: </td>\n",
       "<td>127.0.0.1</td></tr>\n",
       "<tr><td>H2O Connection port: </td>\n",
       "<td>54321</td></tr>\n",
       "<tr><td>H2O Connection proxy: </td>\n",
       "<td>None</td></tr>\n",
       "<tr><td>Python Version: </td>\n",
       "<td>2.7.11</td></tr></table></div>"
      ],
      "text/plain": [
       "------------------------------  ------------------------------------------\n",
       "H2O cluster uptime:             1 seconds 792 milliseconds\n",
       "H2O cluster version:            3.8.1.4\n",
       "H2O cluster name:               H2O_started_from_python_navdeepgill_pch412\n",
       "H2O cluster total nodes:        1\n",
       "H2O cluster total free memory:  3.56 GB\n",
       "H2O cluster total cores:        8\n",
       "H2O cluster allowed cores:      8\n",
       "H2O cluster healthy:            True\n",
       "H2O Connection ip:              127.0.0.1\n",
       "H2O Connection port:            54321\n",
       "H2O Connection proxy:\n",
       "Python Version:                 2.7.11\n",
       "------------------------------  ------------------------------------------"
      ]
     },
     "metadata": {},
     "output_type": "display_data"
    }
   ],
   "source": [
    "import h2o\n",
    "import numpy as np\n",
    "import math\n",
    "import warnings\n",
    "warnings.filterwarnings('ignore', category=DeprecationWarning, module='.*/jupyter/.*')\n",
    "h2o.init(nthreads = -1)\n"
   ]
  },
  {
   "cell_type": "markdown",
   "metadata": {},
   "source": [
    "# Summary Notes\n",
    "* should there be a learn_rate_annealing argument for python Grid Search?\n",
    "* use random forest and gbm\n",
    "* AUC to set threshold, and consider stopping methods\n",
    "\n",
    "* Focus on C onfusion matrix variables: like ac curacy, in class error, recall,...to compare models\n",
    "(transaction, demographics)\n",
    "* get the number of customers, that you can apply the churn rate to\n",
    "* remove the customerID since that is the same as a row index"
   ]
  },
  {
   "cell_type": "code",
   "execution_count": 2,
   "metadata": {
    "collapsed": false
   },
   "outputs": [
    {
     "name": "stdout",
     "output_type": "stream",
     "text": [
      "\n",
      "Parse Progress: [##################################################] 100%\n"
     ]
    }
   ],
   "source": [
    "# A small clean telecommunications sample dataset (https://www.ibm.com/communities/analytics/watson-analytics-blog/predictive-insights-in-the-telco-customer-churn-data-set/\n",
    "telco_dataset = h2o.import_file(\"/Users/laurend/Desktop/projects/WA_Fn-UseC_-Telco-Customer-Churn.csv\")"
   ]
  },
  {
   "cell_type": "code",
   "execution_count": 3,
   "metadata": {
    "collapsed": false
   },
   "outputs": [
    {
     "name": "stdout",
     "output_type": "stream",
     "text": [
      "[0.0, 0.0, 0.0, 0.0, 0.0, 0.0, 0.0, 0.0, 0.0, 0.0, 0.0, 0.0, 0.0, 0.0, 0.0, 0.0, 0.0, 0.0, 0.0, 11.0, 0.0]\n",
      "Rows:7,043 Cols:21\n",
      "\n",
      "Chunk compression summary: \n"
     ]
    },
    {
     "data": {
      "text/html": [
       "<div style=\"overflow:auto\"><table style=\"width:50%\"><tr><td><b>chunk_type</b></td>\n",
       "<td><b>chunk_name</b></td>\n",
       "<td><b>count</b></td>\n",
       "<td><b>count_percentage</b></td>\n",
       "<td><b>size</b></td>\n",
       "<td><b>size_percentage</b></td></tr>\n",
       "<tr><td>CBS</td>\n",
       "<td>Bits</td>\n",
       "<td>222</td>\n",
       "<td>33.035713</td>\n",
       "<td>   21.2 KB</td>\n",
       "<td>7.7945857</td></tr>\n",
       "<tr><td>CX0</td>\n",
       "<td>Zero Sparse Bits</td>\n",
       "<td>2</td>\n",
       "<td>0.2976190</td>\n",
       "<td>    254  B</td>\n",
       "<td>0.0910306</td></tr>\n",
       "<tr><td>C1N</td>\n",
       "<td>1-Byte Integers (w/o NAs)</td>\n",
       "<td>352</td>\n",
       "<td>52.380955</td>\n",
       "<td>   99.0 KB</td>\n",
       "<td>36.343796</td></tr>\n",
       "<tr><td>C2S</td>\n",
       "<td>2-Byte Fractions</td>\n",
       "<td>32</td>\n",
       "<td>4.7619047</td>\n",
       "<td>   16.4 KB</td>\n",
       "<td>6.0116043</td></tr>\n",
       "<tr><td>C4S</td>\n",
       "<td>4-Byte Fractions</td>\n",
       "<td>32</td>\n",
       "<td>4.7619047</td>\n",
       "<td>   30.1 KB</td>\n",
       "<td>11.059861</td></tr>\n",
       "<tr><td>CStr</td>\n",
       "<td>String</td>\n",
       "<td>32</td>\n",
       "<td>4.7619047</td>\n",
       "<td>  105.5 KB</td>\n",
       "<td>38.699123</td></tr></table></div>"
      ],
      "text/plain": [
       "chunk_type    chunk_name                 count    count_percentage    size      size_percentage\n",
       "------------  -------------------------  -------  ------------------  --------  -----------------\n",
       "CBS           Bits                       222      33.0357             21.2 KB   7.79459\n",
       "CX0           Zero Sparse Bits           2        0.297619            254  B    0.0910306\n",
       "C1N           1-Byte Integers (w/o NAs)  352      52.381              99.0 KB   36.3438\n",
       "C2S           2-Byte Fractions           32       4.7619              16.4 KB   6.0116\n",
       "C4S           4-Byte Fractions           32       4.7619              30.1 KB   11.0599\n",
       "CStr          String                     32       4.7619              105.5 KB  38.6991"
      ]
     },
     "metadata": {},
     "output_type": "display_data"
    },
    {
     "name": "stdout",
     "output_type": "stream",
     "text": [
      "\n",
      "Frame distribution summary: \n"
     ]
    },
    {
     "data": {
      "text/html": [
       "<div style=\"overflow:auto\"><table style=\"width:50%\"><tr><td><b></b></td>\n",
       "<td><b>size</b></td>\n",
       "<td><b>number_of_rows</b></td>\n",
       "<td><b>number_of_chunks_per_column</b></td>\n",
       "<td><b>number_of_chunks</b></td></tr>\n",
       "<tr><td>127.0.0.1:54321</td>\n",
       "<td>  272.5 KB</td>\n",
       "<td>7043.0</td>\n",
       "<td>32.0</td>\n",
       "<td>672.0</td></tr>\n",
       "<tr><td>mean</td>\n",
       "<td>  272.5 KB</td>\n",
       "<td>7043.0</td>\n",
       "<td>32.0</td>\n",
       "<td>672.0</td></tr>\n",
       "<tr><td>min</td>\n",
       "<td>  272.5 KB</td>\n",
       "<td>7043.0</td>\n",
       "<td>32.0</td>\n",
       "<td>672.0</td></tr>\n",
       "<tr><td>max</td>\n",
       "<td>  272.5 KB</td>\n",
       "<td>7043.0</td>\n",
       "<td>32.0</td>\n",
       "<td>672.0</td></tr>\n",
       "<tr><td>stddev</td>\n",
       "<td>      0  B</td>\n",
       "<td>0.0</td>\n",
       "<td>0.0</td>\n",
       "<td>0.0</td></tr>\n",
       "<tr><td>total</td>\n",
       "<td>  272.5 KB</td>\n",
       "<td>7043.0</td>\n",
       "<td>32.0</td>\n",
       "<td>672.0</td></tr></table></div>"
      ],
      "text/plain": [
       "                 size      number_of_rows    number_of_chunks_per_column    number_of_chunks\n",
       "---------------  --------  ----------------  -----------------------------  ------------------\n",
       "127.0.0.1:54321  272.5 KB  7043              32                             672\n",
       "mean             272.5 KB  7043              32                             672\n",
       "min              272.5 KB  7043              32                             672\n",
       "max              272.5 KB  7043              32                             672\n",
       "stddev           0  B      0                 0                              0\n",
       "total            272.5 KB  7043              32                             672"
      ]
     },
     "metadata": {},
     "output_type": "display_data"
    },
    {
     "name": "stdout",
     "output_type": "stream",
     "text": [
      "\n",
      "\n"
     ]
    },
    {
     "data": {
      "text/html": [
       "<table>\n",
       "<tr><th>       </th><th>customerID  </th><th>gender        </th><th>SeniorCitizen  </th><th>Partner       </th><th>Dependents    </th><th>tenure       </th><th>PhoneService  </th><th>MultipleLines   </th><th>InternetService  </th><th>OnlineSecurity  </th><th>OnlineBackup  </th><th>DeviceProtection  </th><th>TechSupport  </th><th>StreamingTV  </th><th>StreamingMovies  </th><th>Contract      </th><th>PaperlessBilling  </th><th>PaymentMethod            </th><th>MonthlyCharges  </th><th>TotalCharges  </th><th>Churn         </th></tr>\n",
       "<tr><td>type   </td><td>string      </td><td>enum          </td><td>int            </td><td>enum          </td><td>enum          </td><td>int          </td><td>enum          </td><td>enum            </td><td>enum             </td><td>enum            </td><td>enum          </td><td>enum              </td><td>enum         </td><td>enum         </td><td>enum             </td><td>enum          </td><td>enum              </td><td>enum                     </td><td>real            </td><td>real          </td><td>enum          </td></tr>\n",
       "<tr><td>mins   </td><td>NaN         </td><td>0.0           </td><td>0.0            </td><td>0.0           </td><td>0.0           </td><td>0.0          </td><td>0.0           </td><td>0.0             </td><td>0.0              </td><td>0.0             </td><td>0.0           </td><td>0.0               </td><td>0.0          </td><td>0.0          </td><td>0.0              </td><td>0.0           </td><td>0.0               </td><td>0.0                      </td><td>18.25           </td><td>18.8          </td><td>0.0           </td></tr>\n",
       "<tr><td>mean   </td><td>NaN         </td><td>0.504756495811</td><td>0.162146812438 </td><td>0.483032798523</td><td>0.299588243646</td><td>32.3711486582</td><td>0.903166264376</td><td>NaN             </td><td>NaN              </td><td>NaN             </td><td>NaN           </td><td>NaN               </td><td>NaN          </td><td>NaN          </td><td>NaN              </td><td>NaN           </td><td>0.592219224762    </td><td>NaN                      </td><td>64.7616924606   </td><td>2283.30044084 </td><td>0.265369870794</td></tr>\n",
       "<tr><td>maxs   </td><td>NaN         </td><td>1.0           </td><td>1.0            </td><td>1.0           </td><td>1.0           </td><td>72.0         </td><td>1.0           </td><td>2.0             </td><td>2.0              </td><td>2.0             </td><td>2.0           </td><td>2.0               </td><td>2.0          </td><td>2.0          </td><td>2.0              </td><td>2.0           </td><td>1.0               </td><td>3.0                      </td><td>118.75          </td><td>8684.8        </td><td>1.0           </td></tr>\n",
       "<tr><td>sigma  </td><td>NaN         </td><td>0.500012873647</td><td>0.36861160561  </td><td>0.49974751072 </td><td>0.45811016751 </td><td>24.5594810231</td><td>0.295752231784</td><td>NaN             </td><td>NaN              </td><td>NaN             </td><td>NaN           </td><td>NaN               </td><td>NaN          </td><td>NaN          </td><td>NaN              </td><td>NaN           </td><td>0.491456924049    </td><td>NaN                      </td><td>30.0900470977   </td><td>2266.77136188 </td><td>0.441561305122</td></tr>\n",
       "<tr><td>zeros  </td><td>0           </td><td>3488          </td><td>5901           </td><td>3641          </td><td>4933          </td><td>11           </td><td>682           </td><td>3390            </td><td>2421             </td><td>3498            </td><td>3088          </td><td>3095              </td><td>3473         </td><td>2810         </td><td>2785             </td><td>3875          </td><td>2872              </td><td>1544                     </td><td>0               </td><td>0             </td><td>5174          </td></tr>\n",
       "<tr><td>missing</td><td>0           </td><td>0             </td><td>0              </td><td>0             </td><td>0             </td><td>0            </td><td>0             </td><td>0               </td><td>0                </td><td>0               </td><td>0             </td><td>0                 </td><td>0            </td><td>0            </td><td>0                </td><td>0             </td><td>0                 </td><td>0                        </td><td>0               </td><td>11            </td><td>0             </td></tr>\n",
       "<tr><td>0      </td><td>7590-VHVEG  </td><td>Female        </td><td>0.0            </td><td>Yes           </td><td>No            </td><td>1.0          </td><td>No            </td><td>No phone service</td><td>DSL              </td><td>No              </td><td>Yes           </td><td>No                </td><td>No           </td><td>No           </td><td>No               </td><td>Month-to-month</td><td>Yes               </td><td>Electronic check         </td><td>29.85           </td><td>29.85         </td><td>No            </td></tr>\n",
       "<tr><td>1      </td><td>5575-GNVDE  </td><td>Male          </td><td>0.0            </td><td>No            </td><td>No            </td><td>34.0         </td><td>Yes           </td><td>No              </td><td>DSL              </td><td>Yes             </td><td>No            </td><td>Yes               </td><td>No           </td><td>No           </td><td>No               </td><td>One year      </td><td>No                </td><td>Mailed check             </td><td>56.95           </td><td>1889.5        </td><td>No            </td></tr>\n",
       "<tr><td>2      </td><td>3668-QPYBK  </td><td>Male          </td><td>0.0            </td><td>No            </td><td>No            </td><td>2.0          </td><td>Yes           </td><td>No              </td><td>DSL              </td><td>Yes             </td><td>Yes           </td><td>No                </td><td>No           </td><td>No           </td><td>No               </td><td>Month-to-month</td><td>Yes               </td><td>Mailed check             </td><td>53.85           </td><td>108.15        </td><td>Yes           </td></tr>\n",
       "<tr><td>3      </td><td>7795-CFOCW  </td><td>Male          </td><td>0.0            </td><td>No            </td><td>No            </td><td>45.0         </td><td>No            </td><td>No phone service</td><td>DSL              </td><td>Yes             </td><td>No            </td><td>Yes               </td><td>Yes          </td><td>No           </td><td>No               </td><td>One year      </td><td>No                </td><td>Bank transfer (automatic)</td><td>42.3            </td><td>1840.75       </td><td>No            </td></tr>\n",
       "<tr><td>4      </td><td>9237-HQITU  </td><td>Female        </td><td>0.0            </td><td>No            </td><td>No            </td><td>2.0          </td><td>Yes           </td><td>No              </td><td>Fiber optic      </td><td>No              </td><td>No            </td><td>No                </td><td>No           </td><td>No           </td><td>No               </td><td>Month-to-month</td><td>Yes               </td><td>Electronic check         </td><td>70.7            </td><td>151.65        </td><td>Yes           </td></tr>\n",
       "<tr><td>5      </td><td>9305-CDSKC  </td><td>Female        </td><td>0.0            </td><td>No            </td><td>No            </td><td>8.0          </td><td>Yes           </td><td>Yes             </td><td>Fiber optic      </td><td>No              </td><td>No            </td><td>Yes               </td><td>No           </td><td>Yes          </td><td>Yes              </td><td>Month-to-month</td><td>Yes               </td><td>Electronic check         </td><td>99.65           </td><td>820.5         </td><td>Yes           </td></tr>\n",
       "<tr><td>6      </td><td>1452-KIOVK  </td><td>Male          </td><td>0.0            </td><td>No            </td><td>Yes           </td><td>22.0         </td><td>Yes           </td><td>Yes             </td><td>Fiber optic      </td><td>No              </td><td>Yes           </td><td>No                </td><td>No           </td><td>Yes          </td><td>No               </td><td>Month-to-month</td><td>Yes               </td><td>Credit card (automatic)  </td><td>89.1            </td><td>1949.4        </td><td>No            </td></tr>\n",
       "<tr><td>7      </td><td>6713-OKOMC  </td><td>Female        </td><td>0.0            </td><td>No            </td><td>No            </td><td>10.0         </td><td>No            </td><td>No phone service</td><td>DSL              </td><td>Yes             </td><td>No            </td><td>No                </td><td>No           </td><td>No           </td><td>No               </td><td>Month-to-month</td><td>No                </td><td>Mailed check             </td><td>29.75           </td><td>301.9         </td><td>No            </td></tr>\n",
       "<tr><td>8      </td><td>7892-POOKP  </td><td>Female        </td><td>0.0            </td><td>Yes           </td><td>No            </td><td>28.0         </td><td>Yes           </td><td>Yes             </td><td>Fiber optic      </td><td>No              </td><td>No            </td><td>Yes               </td><td>Yes          </td><td>Yes          </td><td>Yes              </td><td>Month-to-month</td><td>Yes               </td><td>Electronic check         </td><td>104.8           </td><td>3046.05       </td><td>Yes           </td></tr>\n",
       "<tr><td>9      </td><td>6388-TABGU  </td><td>Male          </td><td>0.0            </td><td>No            </td><td>Yes           </td><td>62.0         </td><td>Yes           </td><td>No              </td><td>DSL              </td><td>Yes             </td><td>Yes           </td><td>No                </td><td>No           </td><td>No           </td><td>No               </td><td>One year      </td><td>No                </td><td>Bank transfer (automatic)</td><td>56.15           </td><td>3487.95       </td><td>No            </td></tr>\n",
       "</table>"
      ]
     },
     "metadata": {},
     "output_type": "display_data"
    }
   ],
   "source": [
    "# get a summary of the dataset\n",
    "print telco_dataset.nacnt()\n",
    "telco_dataset.describe()"
   ]
  },
  {
   "cell_type": "code",
   "execution_count": 45,
   "metadata": {
    "collapsed": false
   },
   "outputs": [
    {
     "data": {
      "text/plain": [
       "[u'customerID',\n",
       " u'gender',\n",
       " u'SeniorCitizen',\n",
       " u'Partner',\n",
       " u'Dependents',\n",
       " u'tenure',\n",
       " u'PhoneService',\n",
       " u'MultipleLines',\n",
       " u'InternetService',\n",
       " u'OnlineSecurity',\n",
       " u'OnlineBackup',\n",
       " u'DeviceProtection',\n",
       " u'TechSupport',\n",
       " u'StreamingTV',\n",
       " u'StreamingMovies',\n",
       " u'Contract',\n",
       " u'PaperlessBilling',\n",
       " u'PaymentMethod',\n",
       " u'MonthlyCharges',\n",
       " u'TotalCharges',\n",
       " u'Churn']"
      ]
     },
     "execution_count": 45,
     "metadata": {},
     "output_type": "execute_result"
    }
   ],
   "source": [
    "# what does each column tell you, make sure type is correct, and see if new features need to be created with strings\n",
    "telco_dataset.columns"
   ]
  },
  {
   "cell_type": "code",
   "execution_count": 18,
   "metadata": {
    "collapsed": false
   },
   "outputs": [
    {
     "data": {
      "text/plain": [
       "7043"
      ]
     },
     "execution_count": 18,
     "metadata": {},
     "output_type": "execute_result"
    }
   ],
   "source": [
    "# check whether the customerID column is unique per row, if so use as an index and remove from the predictors\n",
    "telco_dataset['customerID'].asfactor().unique().nrow\n"
   ]
  },
  {
   "cell_type": "code",
   "execution_count": null,
   "metadata": {
    "collapsed": false
   },
   "outputs": [],
   "source": [
    "# # missing values in the TotalCharges colum could be caluculated using tenure * MonthlyCharges\n",
    "# mask = telco_dataset[-2].isna()\n",
    "# cols = telco_dataset[mask,:]\n",
    "# cols\n"
   ]
  },
  {
   "cell_type": "code",
   "execution_count": 27,
   "metadata": {
    "collapsed": false
   },
   "outputs": [],
   "source": [
    "# select all columns as predictors except the customerID (which is like an index) and the response column\n",
    "features_list = list(telco_dataset.columns[1:-1])\n",
    "response_name = 'Churn'"
   ]
  },
  {
   "cell_type": "code",
   "execution_count": 28,
   "metadata": {
    "collapsed": false
   },
   "outputs": [
    {
     "name": "stdout",
     "output_type": "stream",
     "text": [
      "the response classes are: [['No', 'Yes']]\n",
      "number of classes: [2]\n",
      "\n",
      "Is the response column a categorical: [True]\n",
      "\n",
      "there are 11.0 missing values in the dataset\n",
      "there are 0.0 missing values in the labels\n",
      "\n",
      "check for class imbalace\n",
      "------------------------\n"
     ]
    },
    {
     "data": {
      "text/html": [
       "<table>\n",
       "<tr><th>Churn  </th><th style=\"text-align: right;\">  Count</th></tr>\n",
       "<tr><td>No     </td><td style=\"text-align: right;\">   5174</td></tr>\n",
       "<tr><td>Yes    </td><td style=\"text-align: right;\">   1869</td></tr>\n",
       "</table>"
      ]
     },
     "metadata": {},
     "output_type": "display_data"
    },
    {
     "data": {
      "text/plain": []
     },
     "execution_count": 28,
     "metadata": {},
     "output_type": "execute_result"
    }
   ],
   "source": [
    "# specify the response column\n",
    "response_col = telco_dataset['Churn']\n",
    "# get a list of the categorical levels in your response column\n",
    "print 'the response classes are:',response_col.levels()\n",
    "print 'number of classes:', response_col.nlevels()\n",
    "print ''\n",
    "# check that the response column is already interpreted as a factor (i.e. enum/categorical)\n",
    "print 'Is the response column a categorical:',response_col.isfactor()\n",
    "# check that there are two levels in our response column:\n",
    "response_col.nlevels()\n",
    "print ''\n",
    "# check for missing values in the training set and specifically the response column\n",
    "print 'there are {0} missing values in the dataset'.format(telco_dataset.isna().sum())\n",
    "print 'there are {0} missing values in the labels'.format(telco_dataset[response_col].isna().sum())\n",
    "print ''\n",
    "\n",
    "print 'check for class imbalace'\n",
    "print '------------------------'\n",
    "telco_dataset['Churn'].table()\n"
   ]
  },
  {
   "cell_type": "code",
   "execution_count": 31,
   "metadata": {
    "collapsed": false
   },
   "outputs": [
    {
     "name": "stdout",
     "output_type": "stream",
     "text": [
      "Question: How imbalanced is this dataset? Ans: no the dataset is not imbalanced\n"
     ]
    },
    {
     "data": {
      "text/html": [
       "<table>\n",
       "<tr><th style=\"text-align: right;\">  Count</th></tr>\n",
       "<tr><td style=\"text-align: right;\">0.73463</td></tr>\n",
       "<tr><td style=\"text-align: right;\">0.26537</td></tr>\n",
       "</table>"
      ]
     },
     "metadata": {},
     "output_type": "display_data"
    },
    {
     "data": {
      "text/plain": []
     },
     "execution_count": 31,
     "metadata": {},
     "output_type": "execute_result"
    }
   ],
   "source": [
    "print 'Question: How imbalanced is this dataset? Ans: no the dataset is not imbalanced'\n",
    "num_train_samples = telco_dataset.shape[0]  # Total number of training samples\n",
    "telco_dataset['Churn'].table()['Count']/num_train_samples"
   ]
  },
  {
   "cell_type": "code",
   "execution_count": 32,
   "metadata": {
    "collapsed": false
   },
   "outputs": [
    {
     "name": "stdout",
     "output_type": "stream",
     "text": [
      "gender      Count\n",
      "--------  -------\n",
      "Female       3488\n",
      "Male         3555\n",
      "\n",
      "[2 rows x 2 columns]\n",
      "~~~~~~~~~~~~~~~~~~~~~~~~~~~~~~~~~~~~~~\n",
      "  SeniorCitizen    Count\n",
      "---------------  -------\n",
      "              0     5901\n",
      "              1     1142\n",
      "\n",
      "[2 rows x 2 columns]\n",
      "~~~~~~~~~~~~~~~~~~~~~~~~~~~~~~~~~~~~~~\n",
      "Partner      Count\n",
      "---------  -------\n",
      "No            3641\n",
      "Yes           3402\n",
      "\n",
      "[2 rows x 2 columns]\n",
      "~~~~~~~~~~~~~~~~~~~~~~~~~~~~~~~~~~~~~~\n",
      "Dependents      Count\n",
      "------------  -------\n",
      "No               4933\n",
      "Yes              2110\n",
      "\n",
      "[2 rows x 2 columns]\n",
      "~~~~~~~~~~~~~~~~~~~~~~~~~~~~~~~~~~~~~~\n",
      "  tenure    Count\n",
      "--------  -------\n",
      "       0       11\n",
      "       1      613\n",
      "       2      238\n",
      "       3      200\n",
      "       4      176\n",
      "       5      133\n",
      "       6      110\n",
      "       7      131\n",
      "       8      123\n",
      "       9      119\n",
      "\n",
      "[73 rows x 2 columns]\n",
      "~~~~~~~~~~~~~~~~~~~~~~~~~~~~~~~~~~~~~~\n",
      "PhoneService      Count\n",
      "--------------  -------\n",
      "No                  682\n",
      "Yes                6361\n",
      "\n",
      "[2 rows x 2 columns]\n",
      "~~~~~~~~~~~~~~~~~~~~~~~~~~~~~~~~~~~~~~\n",
      "MultipleLines       Count\n",
      "----------------  -------\n",
      "No                   3390\n",
      "No phone service      682\n",
      "Yes                  2971\n",
      "\n",
      "[3 rows x 2 columns]\n",
      "~~~~~~~~~~~~~~~~~~~~~~~~~~~~~~~~~~~~~~\n",
      "InternetService      Count\n",
      "-----------------  -------\n",
      "DSL                   2421\n",
      "Fiber optic           3096\n",
      "No                    1526\n",
      "\n",
      "[3 rows x 2 columns]\n",
      "~~~~~~~~~~~~~~~~~~~~~~~~~~~~~~~~~~~~~~\n",
      "OnlineSecurity         Count\n",
      "-------------------  -------\n",
      "No                      3498\n",
      "No internet service     1526\n",
      "Yes                     2019\n",
      "\n",
      "[3 rows x 2 columns]\n",
      "~~~~~~~~~~~~~~~~~~~~~~~~~~~~~~~~~~~~~~\n",
      "OnlineBackup           Count\n",
      "-------------------  -------\n",
      "No                      3088\n",
      "No internet service     1526\n",
      "Yes                     2429\n",
      "\n",
      "[3 rows x 2 columns]\n",
      "~~~~~~~~~~~~~~~~~~~~~~~~~~~~~~~~~~~~~~\n",
      "DeviceProtection       Count\n",
      "-------------------  -------\n",
      "No                      3095\n",
      "No internet service     1526\n",
      "Yes                     2422\n",
      "\n",
      "[3 rows x 2 columns]\n",
      "~~~~~~~~~~~~~~~~~~~~~~~~~~~~~~~~~~~~~~\n",
      "TechSupport            Count\n",
      "-------------------  -------\n",
      "No                      3473\n",
      "No internet service     1526\n",
      "Yes                     2044\n",
      "\n",
      "[3 rows x 2 columns]\n",
      "~~~~~~~~~~~~~~~~~~~~~~~~~~~~~~~~~~~~~~\n",
      "StreamingTV            Count\n",
      "-------------------  -------\n",
      "No                      2810\n",
      "No internet service     1526\n",
      "Yes                     2707\n",
      "\n",
      "[3 rows x 2 columns]\n",
      "~~~~~~~~~~~~~~~~~~~~~~~~~~~~~~~~~~~~~~\n",
      "StreamingMovies        Count\n",
      "-------------------  -------\n",
      "No                      2785\n",
      "No internet service     1526\n",
      "Yes                     2732\n",
      "\n",
      "[3 rows x 2 columns]\n",
      "~~~~~~~~~~~~~~~~~~~~~~~~~~~~~~~~~~~~~~\n",
      "Contract          Count\n",
      "--------------  -------\n",
      "Month-to-month     3875\n",
      "One year           1473\n",
      "Two year           1695\n",
      "\n",
      "[3 rows x 2 columns]\n",
      "~~~~~~~~~~~~~~~~~~~~~~~~~~~~~~~~~~~~~~\n",
      "PaperlessBilling      Count\n",
      "------------------  -------\n",
      "No                     2872\n",
      "Yes                    4171\n",
      "\n",
      "[2 rows x 2 columns]\n",
      "~~~~~~~~~~~~~~~~~~~~~~~~~~~~~~~~~~~~~~\n",
      "PaymentMethod                Count\n",
      "-------------------------  -------\n",
      "Bank transfer (automatic)     1544\n",
      "Credit card (automatic)       1522\n",
      "Electronic check              2365\n",
      "Mailed check                  1612\n",
      "\n",
      "[4 rows x 2 columns]\n",
      "~~~~~~~~~~~~~~~~~~~~~~~~~~~~~~~~~~~~~~\n",
      "  MonthlyCharges    Counts\n",
      "----------------  --------\n",
      "           18.25         1\n",
      "           18.4          1\n",
      "           18.55         1\n",
      "           18.7          2\n",
      "           18.75         1\n",
      "           18.8          7\n",
      "           18.85         5\n",
      "           18.9          2\n",
      "           18.95         6\n",
      "           19            7\n",
      "\n",
      "[1585 rows x 2 columns]\n",
      "~~~~~~~~~~~~~~~~~~~~~~~~~~~~~~~~~~~~~~\n",
      "  TotalCharges    Counts\n",
      "--------------  --------\n",
      "         18.8          1\n",
      "         18.85         2\n",
      "         18.9          1\n",
      "         19            1\n",
      "         19.05         1\n",
      "         19.1          3\n",
      "         19.15         1\n",
      "         19.2          4\n",
      "         19.25         3\n",
      "         19.3          4\n",
      "\n",
      "[6530 rows x 2 columns]\n",
      "~~~~~~~~~~~~~~~~~~~~~~~~~~~~~~~~~~~~~~\n"
     ]
    }
   ],
   "source": [
    "for column_name in telco_dataset.columns[1:-1]:\n",
    "    print telco_dataset[str(column_name)].table()\n",
    "    print '~~~~~~~~~~~~~~~~~~~~~~~~~~~~~~~~~~~~~~'\n",
    "    "
   ]
  },
  {
   "cell_type": "code",
   "execution_count": null,
   "metadata": {
    "collapsed": true
   },
   "outputs": [],
   "source": [
    "# try a manual split with the following and then use the stratified split in the Estimator parameters\n",
    "# split_frame(ratios=None, destination_frames=None, seed=None)\n",
    "# stratified_kfold_column(n_folds=3, seed=-1)\n",
    "# stratified_split(test_frac=0.2, seed=-1)"
   ]
  },
  {
   "cell_type": "code",
   "execution_count": null,
   "metadata": {
    "collapsed": false
   },
   "outputs": [],
   "source": [
    "# # Import H2O GBM:\n",
    "# from h2o.estimators.gbm import H2OGradientBoostingEstimator\n",
    "# model = H2OGradientBoostingEstimator(nfolds=3,\n",
    "#                                     distribution='bernoulli',\n",
    "#                                     ntrees=100,\n",
    "#                                     max_depth=4,\n",
    "#                                     learn_rate=0.1,\n",
    "#                                     fold_assignment=\"Stratified\",\n",
    "#                                     seed = 1234,\n",
    "#                                     keep_cross_validation_fold_assignment=True)\n",
    "\n",
    "# model.train(x=feature_list, y=response_name, training_frame=train, validation_frame=valid)"
   ]
  },
  {
   "cell_type": "code",
   "execution_count": null,
   "metadata": {
    "collapsed": false
   },
   "outputs": [],
   "source": [
    "# # Not sure why this cell doesn't work breaks because of table_count\n",
    "# # set or unset nfolds = 3\n",
    "# nfolds =3\n",
    "\n",
    "# fold_assignment_col = model.cross_validation_fold_assignment()\n",
    "# tel_w_fold_assignment = telco_dataset.cbind(fold_assignment_col)\n",
    "# response_col_w_fold_assignment = tel_w_fold_assignment[-2:-1]\n",
    "# response_col_w_fold_assignment\n",
    "# # get the number of counts per fold\n",
    "# fold_group = response_col_w_fold_assignment.group_by(by=[\"fold_assignment\"])\n",
    "# fold_group.count()\n",
    "# fold_count = fold_group .get_frame()\n",
    "# # fold_count.describe()\n",
    "# fold_count\n",
    "\n",
    "# # get the count of each class for each fold (so you can compare it to the training set)\n",
    "# # this is a work around until .apply() works again\n",
    "# fold_data_w_nas = []\n",
    "# count_col = []\n",
    "# #fold_data_w_count = []\n",
    "\n",
    "# # loop through the dataframe that contains fold assignments and create a dataframe for each fold_assignment\n",
    "# for fold in range(0,nfolds):\n",
    "#     group_prep = response_col_w_fold_assignment[response_col_w_fold_assignment['fold_assignment'] == fold]\n",
    "    \n",
    "#     group_response = group_prep.group_by(response_col)\n",
    "    \n",
    "#     get_response_count = group_response.count()\n",
    "#     print get_response_count\n",
    "#     table_count = get_response_count.get_frame()\n",
    "#     print table_count\n",
    "#     # fold_data_w_nas.append(response_col_w_fold_assignment[response_col_w_fold_assignment['fold_assignment'] == fold])\n",
    "#     fold_data_w_nas.append(table_count)\n",
    "\n",
    "# #fold_data_w_nas"
   ]
  },
  {
   "cell_type": "code",
   "execution_count": 33,
   "metadata": {
    "collapsed": true
   },
   "outputs": [],
   "source": [
    "# split your datasets\n",
    "train, valid, test = telco_dataset.split_frame(ratios=[0.6,0.2], seed=1234)"
   ]
  },
  {
   "cell_type": "code",
   "execution_count": 35,
   "metadata": {
    "collapsed": false
   },
   "outputs": [
    {
     "name": "stdout",
     "output_type": "stream",
     "text": [
      "(4248, 21)\n",
      "(1415, 21)\n",
      "(1380, 21)\n",
      "7043\n"
     ]
    }
   ],
   "source": [
    "print train.shape\n",
    "print valid.shape\n",
    "print test.shape\n",
    "print train.shape[0] + valid.shape[0] + test.shape[0]"
   ]
  },
  {
   "cell_type": "code",
   "execution_count": 36,
   "metadata": {
    "collapsed": true
   },
   "outputs": [],
   "source": [
    "# Import H2O GBM:\n",
    "from h2o.estimators.gbm import H2OGradientBoostingEstimator\n",
    "\n",
    "\n",
    "model_1 = H2OGradientBoostingEstimator(distribution='bernoulli',\n",
    "                                    ntrees=100,\n",
    "                                    max_depth=4,\n",
    "                                    learn_rate=0.1,\n",
    "                                    seed = 1234)"
   ]
  },
  {
   "cell_type": "code",
   "execution_count": 37,
   "metadata": {
    "collapsed": false
   },
   "outputs": [
    {
     "name": "stdout",
     "output_type": "stream",
     "text": [
      "\n",
      "gbm Model Build Progress: [##################################################] 100%\n"
     ]
    }
   ],
   "source": [
    "model_1.train(x=features_list, y=response_name, training_frame=train)"
   ]
  },
  {
   "cell_type": "code",
   "execution_count": 38,
   "metadata": {
    "collapsed": false
   },
   "outputs": [
    {
     "name": "stdout",
     "output_type": "stream",
     "text": [
      "0.900360265527\n",
      "0.847355017425\n"
     ]
    }
   ],
   "source": [
    "# Get the AUC for the train and validation set\n",
    "print model_1.auc() \n",
    "test_perf = model_1.model_performance(valid)\n",
    "print test_perf.auc()"
   ]
  },
  {
   "cell_type": "code",
   "execution_count": 39,
   "metadata": {
    "collapsed": true
   },
   "outputs": [],
   "source": [
    "# using parameters from https://github.com/h2oai/h2o-3/blob/master/h2o-docs/src/product/tutorials/gbm/gbmTuning.Rmd\n",
    "# this model overfits less on the training set\n",
    "model_2 = H2OGradientBoostingEstimator(distribution='bernoulli',\n",
    "                                    ntrees=10000,\n",
    "                                    max_depth=4,\n",
    "                                    learn_rate=0.01,\n",
    "                                    stopping_rounds = 5, stopping_tolerance = 1e-4, stopping_metric = \"AUC\",\n",
    "                                    sample_rate = 0.8,\n",
    "                                    col_sample_rate = 0.8,\n",
    "                                    seed = 1234,\n",
    "                                    score_tree_interval = 10)"
   ]
  },
  {
   "cell_type": "code",
   "execution_count": 40,
   "metadata": {
    "collapsed": false
   },
   "outputs": [
    {
     "name": "stdout",
     "output_type": "stream",
     "text": [
      "\n",
      "gbm Model Build Progress: [##################################################] 100%\n"
     ]
    }
   ],
   "source": [
    "model_2.train(x=features_list, \n",
    "              y=response_name, \n",
    "              training_frame=train,\n",
    "              validation_frame = valid,\n",
    "             )"
   ]
  },
  {
   "cell_type": "code",
   "execution_count": 42,
   "metadata": {
    "collapsed": false
   },
   "outputs": [
    {
     "name": "stdout",
     "output_type": "stream",
     "text": [
      "0.868352080745\n",
      "0.848603394534\n"
     ]
    }
   ],
   "source": [
    "# Get the AUC for the train and validation set\n",
    "print model_2.auc() \n",
    "test_perf = model_2.model_performance(valid)\n",
    "print test_perf.auc()"
   ]
  },
  {
   "cell_type": "code",
   "execution_count": null,
   "metadata": {
    "collapsed": true
   },
   "outputs": [],
   "source": [
    "# Performe a grid search"
   ]
  },
  {
   "cell_type": "code",
   "execution_count": null,
   "metadata": {
    "collapsed": true
   },
   "outputs": [],
   "source": [
    "# ntrees_opt = [5,50,100]\n",
    "# max_depth_opt = [1:20]\n",
    "# learn_rate_opt = [0.1,0.2]\n",
    "\n",
    "# hyper_params = {'ntrees': ntrees_opt, \n",
    "#                 'max_depth': max_depth_opt,\n",
    "#                 'learn_rate': learn_rate_opt}\n",
    "\n"
   ]
  },
  {
   "cell_type": "markdown",
   "metadata": {},
   "source": [
    "Parameters\n",
    "    ----------\n",
    "* *model* : \n",
    "    H2OEstimator The type of model to be explored initialized with optiona parameters that will be unchanged across explored models.\n",
    "* hyper_params: dict A dictionary of string parameters (keys) and a list of values to be explored by grid search (values).\n",
    "* *grid_id*: \n",
    "    str, optional The unique id assigned to the resulting grid object. If none is given, an id will automatically be generated.\n",
    "* *search_criteria*:\n",
    "    dict, optional A dictionary of directives which control the search of the hyperparameter space. The default strategy 'Cartesian' covers the entire space of hyperparameter combinations. Specify the 'RandomDiscrete' strategy to get random search of all the combinations of your hyperparameters.  RandomDiscrete should usually be combined with at least one early stopping criterion, max_models and/or max_runtime_secs, e.g. \n",
    "\n",
    "    search_criteria = {strategy: 'RandomDiscrete', max_models: 42, max_runtime_secs: 28800} or\n",
    "\n",
    "    search_criteria = {strategy: 'RandomDiscrete', stopping_metric: 'AUTO', stopping_tolerance: 0.001, stopping_rounds: 10} or\n",
    "\n",
    "    search_criteria = {strategy: 'RandomDiscrete', stopping_metric: 'misclassification', stopping_tolerance: 0.00001, stopping_rounds: 5}."
   ]
  },
  {
   "cell_type": "code",
   "execution_count": 43,
   "metadata": {
    "collapsed": false
   },
   "outputs": [],
   "source": [
    "# using grid to get the best max_depths\n",
    "hyper_params = {'max_depth' : range(1,21)}\n",
    "search_criteria = {'strategy': \"Cartesian\"}\n",
    "\n",
    "                \n"
   ]
  },
  {
   "cell_type": "code",
   "execution_count": 44,
   "metadata": {
    "collapsed": false
   },
   "outputs": [],
   "source": [
    "from h2o.grid.grid_search import H2OGridSearch\n",
    "gs_1 = H2OGridSearch(H2OGradientBoostingEstimator(distribution='bernoulli',\n",
    "                                    ntrees=10000,\n",
    "                                    learn_rate=0.05,\n",
    "                                    #learn_rate_annealing = 0.99, Is not an option for Python only exists in R?\n",
    "                                    sample_rate = 0.8,\n",
    "                                    col_sample_rate = 0.8,\n",
    "                                    seed = 1234,\n",
    "                                    stopping_rounds = 5,\n",
    "                                    stopping_tolerance = 1e-4,\n",
    "                                    stopping_metric = \"AUC\", \n",
    "                                    score_tree_interval = 10),\n",
    "                                    hyper_params,\n",
    "                                    grid_id = 'grid_determines_max_depth',\n",
    "                                    search_criteria = search_criteria)"
   ]
  },
  {
   "cell_type": "code",
   "execution_count": 45,
   "metadata": {
    "collapsed": false
   },
   "outputs": [
    {
     "name": "stdout",
     "output_type": "stream",
     "text": [
      "\n",
      "gbm Grid Build Progress: [##################################################] 100%\n"
     ]
    }
   ],
   "source": [
    "gs_1.train(x=features_list, \n",
    "           y=response_name, \n",
    "           training_frame=train,\n",
    "           validation_frame = valid)"
   ]
  },
  {
   "cell_type": "code",
   "execution_count": 46,
   "metadata": {
    "collapsed": false
   },
   "outputs": [
    {
     "name": "stdout",
     "output_type": "stream",
     "text": [
      "      max_depth                           model_ids   logloss\n",
      "0             2   grid_determines_max_depth_model_1  0.402680\n",
      "1             1   grid_determines_max_depth_model_0  0.402824\n",
      "2             3   grid_determines_max_depth_model_2  0.405411\n",
      "3             4   grid_determines_max_depth_model_3  0.407335\n",
      "4             5   grid_determines_max_depth_model_4  0.410130\n",
      "5             6   grid_determines_max_depth_model_5  0.414758\n",
      "6             7   grid_determines_max_depth_model_6  0.420164\n",
      "7             8   grid_determines_max_depth_model_7  0.431665\n",
      "8             9   grid_determines_max_depth_model_8  0.449661\n",
      "9            11  grid_determines_max_depth_model_10  0.449793\n",
      "10           10   grid_determines_max_depth_model_9  0.451582\n",
      "11           12  grid_determines_max_depth_model_11  0.457606\n",
      "12           13  grid_determines_max_depth_model_12  0.459783\n",
      "13           15  grid_determines_max_depth_model_14  0.461172\n",
      "14           16  grid_determines_max_depth_model_15  0.462006\n",
      "15           14  grid_determines_max_depth_model_13  0.462592\n",
      "16           19  grid_determines_max_depth_model_18  0.462638\n",
      "17           18  grid_determines_max_depth_model_17  0.465036\n",
      "18           17  grid_determines_max_depth_model_16  0.465534\n",
      "19           20  grid_determines_max_depth_model_19  0.467204\n",
      "\n"
     ]
    }
   ],
   "source": [
    "print(gs_1)"
   ]
  },
  {
   "cell_type": "code",
   "execution_count": 47,
   "metadata": {
    "collapsed": false
   },
   "outputs": [
    {
     "name": "stdout",
     "output_type": "stream",
     "text": [
      "\n",
      "Grid Search Results for H2OGradientBoostingEstimator: \n"
     ]
    },
    {
     "data": {
      "text/html": [
       "<div style=\"overflow:auto\"><table style=\"width:50%\"><tr><td><b>Model Id</b></td>\n",
       "<td><b>Hyperparameters: [max_depth]</b></td>\n",
       "<td><b>auc(valid=True)</b></td></tr>\n",
       "<tr><td>grid_determines_max_depth_model_1</td>\n",
       "<td>[2]</td>\n",
       "<td>0.8513419</td></tr>\n",
       "<tr><td>grid_determines_max_depth_model_0</td>\n",
       "<td>[1]</td>\n",
       "<td>0.8507848</td></tr>\n",
       "<tr><td>grid_determines_max_depth_model_2</td>\n",
       "<td>[3]</td>\n",
       "<td>0.8483866</td></tr>\n",
       "<tr><td>grid_determines_max_depth_model_3</td>\n",
       "<td>[4]</td>\n",
       "<td>0.8470042</td></tr>\n",
       "<tr><td>grid_determines_max_depth_model_4</td>\n",
       "<td>[5]</td>\n",
       "<td>0.8442249</td></tr>\n",
       "<tr><td>grid_determines_max_depth_model_5</td>\n",
       "<td>[6]</td>\n",
       "<td>0.8402879</td></tr>\n",
       "<tr><td>grid_determines_max_depth_model_6</td>\n",
       "<td>[7]</td>\n",
       "<td>0.8389147</td></tr>\n",
       "<tr><td>grid_determines_max_depth_model_7</td>\n",
       "<td>[8]</td>\n",
       "<td>0.8329645</td></tr>\n",
       "<tr><td>grid_determines_max_depth_model_8</td>\n",
       "<td>[9]</td>\n",
       "<td>0.8278475</td></tr>\n",
       "<tr><td>grid_determines_max_depth_model_10</td>\n",
       "<td>[11]</td>\n",
       "<td>0.8256214</td></tr>\n",
       "<tr><td>grid_determines_max_depth_model_9</td>\n",
       "<td>[10]</td>\n",
       "<td>0.8247187</td></tr>\n",
       "<tr><td>grid_determines_max_depth_model_15</td>\n",
       "<td>[16]</td>\n",
       "<td>0.8241260</td></tr>\n",
       "<tr><td>grid_determines_max_depth_model_18</td>\n",
       "<td>[19]</td>\n",
       "<td>0.8240774</td></tr>\n",
       "<tr><td>grid_determines_max_depth_model_14</td>\n",
       "<td>[15]</td>\n",
       "<td>0.8237686</td></tr>\n",
       "<tr><td>grid_determines_max_depth_model_16</td>\n",
       "<td>[17]</td>\n",
       "<td>0.8234190</td></tr>\n",
       "<tr><td>grid_determines_max_depth_model_12</td>\n",
       "<td>[13]</td>\n",
       "<td>0.8227396</td></tr>\n",
       "<tr><td>grid_determines_max_depth_model_13</td>\n",
       "<td>[14]</td>\n",
       "<td>0.8226424</td></tr>\n",
       "<tr><td>grid_determines_max_depth_model_17</td>\n",
       "<td>[18]</td>\n",
       "<td>0.8225149</td></tr>\n",
       "<tr><td>grid_determines_max_depth_model_19</td>\n",
       "<td>[20]</td>\n",
       "<td>0.8221063</td></tr>\n",
       "<tr><td>grid_determines_max_depth_model_11</td>\n",
       "<td>[12]</td>\n",
       "<td>0.8219814</td></tr></table></div>"
      ],
      "text/plain": [
       "Model Id                            Hyperparameters: [max_depth]    auc(valid=True)\n",
       "----------------------------------  ------------------------------  -----------------\n",
       "grid_determines_max_depth_model_1   [2]                             0.851342\n",
       "grid_determines_max_depth_model_0   [1]                             0.850785\n",
       "grid_determines_max_depth_model_2   [3]                             0.848387\n",
       "grid_determines_max_depth_model_3   [4]                             0.847004\n",
       "grid_determines_max_depth_model_4   [5]                             0.844225\n",
       "grid_determines_max_depth_model_5   [6]                             0.840288\n",
       "grid_determines_max_depth_model_6   [7]                             0.838915\n",
       "grid_determines_max_depth_model_7   [8]                             0.832965\n",
       "grid_determines_max_depth_model_8   [9]                             0.827847\n",
       "grid_determines_max_depth_model_10  [11]                            0.825621\n",
       "grid_determines_max_depth_model_9   [10]                            0.824719\n",
       "grid_determines_max_depth_model_15  [16]                            0.824126\n",
       "grid_determines_max_depth_model_18  [19]                            0.824077\n",
       "grid_determines_max_depth_model_14  [15]                            0.823769\n",
       "grid_determines_max_depth_model_16  [17]                            0.823419\n",
       "grid_determines_max_depth_model_12  [13]                            0.82274\n",
       "grid_determines_max_depth_model_13  [14]                            0.822642\n",
       "grid_determines_max_depth_model_17  [18]                            0.822515\n",
       "grid_determines_max_depth_model_19  [20]                            0.822106\n",
       "grid_determines_max_depth_model_11  [12]                            0.821981"
      ]
     },
     "metadata": {},
     "output_type": "display_data"
    },
    {
     "name": "stdout",
     "output_type": "stream",
     "text": [
      "\n"
     ]
    }
   ],
   "source": [
    "# print out the auc for all of the models\n",
    "auc_table = gs_1.sort_by('auc(valid=True)',increasing=False)\n",
    "print(auc_table)"
   ]
  },
  {
   "cell_type": "code",
   "execution_count": 48,
   "metadata": {
    "collapsed": false
   },
   "outputs": [
    {
     "name": "stdout",
     "output_type": "stream",
     "text": [
      "<class 'h2o.two_dim_table.H2OTwoDimTable'>\n"
     ]
    },
    {
     "data": {
      "text/plain": [
       "([1], [3], [4], [5], [6], [7], [8], [9], [11])"
      ]
     },
     "execution_count": 48,
     "metadata": {},
     "output_type": "execute_result"
    }
   ],
   "source": [
    "## find the range of the max_depth for the top ten models\n",
    "# auc_table[auc_table[1:10],['Hyperparameters: [max_depth]']]\n",
    "# auc_table['Hyperparameters: [max_depth]']\n",
    "new_auc_table = auc_table[1:10]\n",
    "print type(new_auc_table)\n",
    "max_depths_to_use = new_auc_table['Hyperparameters: [max_depth]']\n",
    "max_depths_to_use"
   ]
  },
  {
   "cell_type": "code",
   "execution_count": 49,
   "metadata": {
    "collapsed": false
   },
   "outputs": [],
   "source": [
    "# get the max depths as a list\n",
    "new_maxmin_list = []\n",
    "for element in max_depths_to_use:\n",
    "    new_maxmin_list.append(element[0])\n",
    "new_max = max(new_maxmin_list)\n",
    "new_min = min(new_maxmin_list)"
   ]
  },
  {
   "cell_type": "code",
   "execution_count": 50,
   "metadata": {
    "collapsed": false
   },
   "outputs": [],
   "source": [
    "# variable used in the dictionary:\n",
    "log_val = math.log(train.nrow,2)-1\n",
    "\n",
    "# using grid to get the best max_depths\n",
    "hyper_params = {'max_depth' : list(np.arange(new_min,new_max,1)),\n",
    "                'sample_rate': list(np.arange(0.3,1,0.01)),\n",
    "                'col_sample_rate' : list(np.arange(0.3,1,0.01)),\n",
    "                'col_sample_rate_per_tree': list(np.arange(0.3,1,0.01)),\n",
    "                'col_sample_rate_change_per_level': list(np.arange(0.9,1.1,0.01)),\n",
    "                'min_rows': list(2**np.arange(0,log_val,1)),\n",
    "                'nbins': list(2**np.arange(4,10,1)),\n",
    "                'nbins_cats': list(2**np.arange(4,12,1)),\n",
    "                'min_split_improvement': [0,1e-8,1e-6,1e-4],\n",
    "                'histogram_type': [\"UniformAdaptive\",\"QuantilesGlobal\",\"RoundRobin\"]}\n",
    "search_criteria = {'strategy': \"RandomDiscrete\",\n",
    "                   'max_runtime_secs': 36000,\n",
    "                   'max_models' :50,\n",
    "                   'seed' : 1234,\n",
    "                   'stopping_rounds' : 5,\n",
    "                   'stopping_metric' : \"AUC\",\n",
    "                   }"
   ]
  },
  {
   "cell_type": "code",
   "execution_count": 51,
   "metadata": {
    "collapsed": true
   },
   "outputs": [],
   "source": [
    "from h2o.grid.grid_search import H2OGridSearch\n",
    "gs_2 = H2OGridSearch(H2OGradientBoostingEstimator(distribution='bernoulli',\n",
    "                                    ntrees=10000,\n",
    "                                    learn_rate=0.05,\n",
    "                                    #learn_rate_annealing = 0.99,\n",
    "                                    stopping_rounds = 5,\n",
    "                                    stopping_tolerance = 1e-4,\n",
    "                                    stopping_metric = \"AUC\", \n",
    "                                    score_tree_interval = 10),\n",
    "                                    hyper_params,\n",
    "                                    grid_id = 'grid_determines_max_depth',\n",
    "                                    search_criteria = search_criteria)"
   ]
  },
  {
   "cell_type": "code",
   "execution_count": 52,
   "metadata": {
    "collapsed": false
   },
   "outputs": [
    {
     "name": "stdout",
     "output_type": "stream",
     "text": [
      "\n",
      "gbm Grid Build Progress: [##################################################] 100%\n",
      "      max_depth                           model_ids   logloss\n",
      "0             1  grid_determines_max_depth_model_32  0.401925\n",
      "1             2   grid_determines_max_depth_model_1  0.402680\n",
      "2             2  grid_determines_max_depth_model_29  0.402718\n",
      "3             1   grid_determines_max_depth_model_0  0.402824\n",
      "4             2  grid_determines_max_depth_model_30  0.403948\n",
      "5             4  grid_determines_max_depth_model_38  0.404196\n",
      "6             4  grid_determines_max_depth_model_23  0.404276\n",
      "7             6  grid_determines_max_depth_model_27  0.404299\n",
      "8             3  grid_determines_max_depth_model_26  0.404364\n",
      "9             2  grid_determines_max_depth_model_31  0.404520\n",
      "10            5  grid_determines_max_depth_model_41  0.404590\n",
      "11            3  grid_determines_max_depth_model_28  0.404853\n",
      "12            4  grid_determines_max_depth_model_22  0.405199\n",
      "13            3   grid_determines_max_depth_model_2  0.405411\n",
      "14            5  grid_determines_max_depth_model_20  0.405657\n",
      "15            4  grid_determines_max_depth_model_36  0.406073\n",
      "16            7  grid_determines_max_depth_model_25  0.406264\n",
      "17            3  grid_determines_max_depth_model_33  0.406300\n",
      "18            4   grid_determines_max_depth_model_3  0.407335\n",
      "19            7  grid_determines_max_depth_model_37  0.409471\n",
      "20            5   grid_determines_max_depth_model_4  0.410130\n",
      "21            6   grid_determines_max_depth_model_5  0.414758\n",
      "22            9  grid_determines_max_depth_model_21  0.418324\n",
      "23            7   grid_determines_max_depth_model_6  0.420164\n",
      "24            8  grid_determines_max_depth_model_35  0.425492\n",
      "25            8   grid_determines_max_depth_model_7  0.431665\n",
      "26           10  grid_determines_max_depth_model_24  0.437908\n",
      "27            9  grid_determines_max_depth_model_39  0.438089\n",
      "28            9   grid_determines_max_depth_model_8  0.449661\n",
      "29           11  grid_determines_max_depth_model_10  0.449793\n",
      "30            7  grid_determines_max_depth_model_40  0.450745\n",
      "31           10   grid_determines_max_depth_model_9  0.451582\n",
      "32           10  grid_determines_max_depth_model_34  0.455220\n",
      "33           12  grid_determines_max_depth_model_11  0.457606\n",
      "34           13  grid_determines_max_depth_model_12  0.459783\n",
      "35           15  grid_determines_max_depth_model_14  0.461172\n",
      "36           16  grid_determines_max_depth_model_15  0.462006\n",
      "37           14  grid_determines_max_depth_model_13  0.462592\n",
      "38           19  grid_determines_max_depth_model_18  0.462638\n",
      "39           18  grid_determines_max_depth_model_17  0.465036\n",
      "40           17  grid_determines_max_depth_model_16  0.465534\n",
      "41           20  grid_determines_max_depth_model_19  0.467204\n",
      "\n"
     ]
    }
   ],
   "source": [
    "gs_2.train(x=features_list, \n",
    "           y=response_name, \n",
    "           training_frame=train,\n",
    "           validation_frame = valid)\n",
    "print(gs_2)"
   ]
  },
  {
   "cell_type": "code",
   "execution_count": 53,
   "metadata": {
    "collapsed": false
   },
   "outputs": [
    {
     "name": "stdout",
     "output_type": "stream",
     "text": [
      "\n",
      "Grid Search Results for H2OGradientBoostingEstimator: \n"
     ]
    },
    {
     "data": {
      "text/html": [
       "<div style=\"overflow:auto\"><table style=\"width:50%\"><tr><td><b>Model Id</b></td>\n",
       "<td><b>Hyperparameters: [nbins, col_sample_rate, min_split_improvement, col_sample_rate_per_tree, min_rows, col_sample_rate_change_per_level, nbins_cats, sample_rate, histogram_type, max_depth]</b></td>\n",
       "<td><b>auc(valid=True)</b></td></tr>\n",
       "<tr><td>grid_determines_max_depth_model_1</td>\n",
       "<td>[20, 0.8, 0.0, 1.0, 10.0, 1.0, 1024, 0.8, u'AUTO', 2]</td>\n",
       "<td>0.8513419</td></tr>\n",
       "<tr><td>grid_determines_max_depth_model_32</td>\n",
       "<td>[16, 0.48000000000000015, 0.0001, 0.9600000000000006, 256.0, 0.91, 64, 0.33, u'RoundRobin', 1]</td>\n",
       "<td>0.8510844</td></tr>\n",
       "<tr><td>grid_determines_max_depth_model_27</td>\n",
       "<td>[512, 0.9700000000000006, 1e-06, 0.39000000000000007, 1024.0, 1.08, 256, 0.7700000000000005, u'RoundRobin', 6]</td>\n",
       "<td>0.8509241</td></tr>\n",
       "<tr><td>grid_determines_max_depth_model_29</td>\n",
       "<td>[64, 0.5700000000000003, 1e-08, 0.7200000000000004, 256.0, 1.0300000000000002, 2048, 0.9400000000000006, u'UniformAdaptive', 2]</td>\n",
       "<td>0.8509201</td></tr>\n",
       "<tr><td>grid_determines_max_depth_model_0</td>\n",
       "<td>[20, 0.8, 0.0, 1.0, 10.0, 1.0, 1024, 0.8, u'AUTO', 1]</td>\n",
       "<td>0.8507848</td></tr>\n",
       "<tr><td>---</td>\n",
       "<td>---</td>\n",
       "<td>---</td></tr>\n",
       "<tr><td>grid_determines_max_depth_model_13</td>\n",
       "<td>[20, 0.8, 0.0, 1.0, 10.0, 1.0, 1024, 0.8, u'AUTO', 14]</td>\n",
       "<td>0.8226424</td></tr>\n",
       "<tr><td>grid_determines_max_depth_model_17</td>\n",
       "<td>[20, 0.8, 0.0, 1.0, 10.0, 1.0, 1024, 0.8, u'AUTO', 18]</td>\n",
       "<td>0.8225149</td></tr>\n",
       "<tr><td>grid_determines_max_depth_model_19</td>\n",
       "<td>[20, 0.8, 0.0, 1.0, 10.0, 1.0, 1024, 0.8, u'AUTO', 20]</td>\n",
       "<td>0.8221063</td></tr>\n",
       "<tr><td>grid_determines_max_depth_model_11</td>\n",
       "<td>[20, 0.8, 0.0, 1.0, 10.0, 1.0, 1024, 0.8, u'AUTO', 12]</td>\n",
       "<td>0.8219814</td></tr>\n",
       "<tr><td>grid_determines_max_depth_model_40</td>\n",
       "<td>[16, 0.3, 0.0001, 0.6400000000000003, 2048.0, 0.9500000000000001, 512, 0.8700000000000006, u'UniformAdaptive', 7]</td>\n",
       "<td>0.8126712</td></tr></table></div>"
      ],
      "text/plain": [
       "Model Id                            Hyperparameters: [nbins, col_sample_rate, min_split_improvement, col_sample_rate_per_tree, min_rows, col_sample_rate_change_per_level, nbins_cats, sample_rate, histogram_type, max_depth]    auc(valid=True)\n",
       "----------------------------------  --------------------------------------------------------------------------------------------------------------------------------------------------------------------------------------------  -----------------\n",
       "grid_determines_max_depth_model_1   [20, 0.8, 0.0, 1.0, 10.0, 1.0, 1024, 0.8, u'AUTO', 2]                                                                                                                                         0.851341939689\n",
       "grid_determines_max_depth_model_32  [16, 0.48000000000000015, 0.0001, 0.9600000000000006, 256.0, 0.91, 64, 0.33, u'RoundRobin', 1]                                                                                                0.85108437978\n",
       "grid_determines_max_depth_model_27  [512, 0.9700000000000006, 1e-06, 0.39000000000000007, 1024.0, 1.08, 256, 0.7700000000000005, u'RoundRobin', 6]                                                                                0.850924061877\n",
       "grid_determines_max_depth_model_29  [64, 0.5700000000000003, 1e-08, 0.7200000000000004, 256.0, 1.0300000000000002, 2048, 0.9400000000000006, u'UniformAdaptive', 2]                                                               0.850920119634\n",
       "grid_determines_max_depth_model_0   [20, 0.8, 0.0, 1.0, 10.0, 1.0, 1024, 0.8, u'AUTO', 1]                                                                                                                                         0.850784769274\n",
       "---                                 ---                                                                                                                                                                                           ---\n",
       "grid_determines_max_depth_model_13  [20, 0.8, 0.0, 1.0, 10.0, 1.0, 1024, 0.8, u'AUTO', 14]                                                                                                                                        0.822642406976\n",
       "grid_determines_max_depth_model_17  [20, 0.8, 0.0, 1.0, 10.0, 1.0, 1024, 0.8, u'AUTO', 18]                                                                                                                                        0.822514941103\n",
       "grid_determines_max_depth_model_19  [20, 0.8, 0.0, 1.0, 10.0, 1.0, 1024, 0.8, u'AUTO', 20]                                                                                                                                        0.82210626186\n",
       "grid_determines_max_depth_model_11  [20, 0.8, 0.0, 1.0, 10.0, 1.0, 1024, 0.8, u'AUTO', 12]                                                                                                                                        0.821981424149\n",
       "grid_determines_max_depth_model_40  [16, 0.3, 0.0001, 0.6400000000000003, 2048.0, 0.9500000000000001, 512, 0.8700000000000006, u'UniformAdaptive', 7]                                                                             0.812671159072"
      ]
     },
     "metadata": {},
     "output_type": "display_data"
    },
    {
     "name": "stdout",
     "output_type": "stream",
     "text": [
      "\n",
      "See the whole table with table.as_data_frame()\n",
      "\n"
     ]
    }
   ],
   "source": [
    "# print out the auc for all of the models\n",
    "auc_table_2 = gs_2.sort_by('auc(valid=True)',increasing=False)\n",
    "print(auc_table_2)\n"
   ]
  },
  {
   "cell_type": "code",
   "execution_count": null,
   "metadata": {
    "collapsed": true
   },
   "outputs": [],
   "source": []
  }
 ],
 "metadata": {
  "kernelspec": {
   "display_name": "Python 2",
   "language": "python",
   "name": "python2"
  },
  "language_info": {
   "codemirror_mode": {
    "name": "ipython",
    "version": 2
   },
   "file_extension": ".py",
   "mimetype": "text/x-python",
   "name": "python",
   "nbconvert_exporter": "python",
   "pygments_lexer": "ipython2",
   "version": "2.7.11"
  }
 },
 "nbformat": 4,
 "nbformat_minor": 0
}
