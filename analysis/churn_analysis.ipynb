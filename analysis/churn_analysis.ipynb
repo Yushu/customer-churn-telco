{
 "cells": [
  {
   "cell_type": "code",
   "execution_count": 1,
   "metadata": {
    "collapsed": false
   },
   "outputs": [],
   "source": [
    "# h2o.shutdown()"
   ]
  },
  {
   "cell_type": "code",
   "execution_count": 2,
   "metadata": {
    "collapsed": false
   },
   "outputs": [
    {
     "name": "stderr",
     "output_type": "stream",
     "text": [
      "/usr/local/lib/python2.7/site-packages/IPython/core/formatters.py:92: DeprecationWarning: DisplayFormatter._ipython_display_formatter_default is deprecated: use @default decorator instead.\n",
      "  def _ipython_display_formatter_default(self):\n",
      "/usr/local/lib/python2.7/site-packages/IPython/core/formatters.py:98: DeprecationWarning: DisplayFormatter._formatters_default is deprecated: use @default decorator instead.\n",
      "  def _formatters_default(self):\n",
      "/usr/local/lib/python2.7/site-packages/IPython/core/formatters.py:677: DeprecationWarning: PlainTextFormatter._deferred_printers_default is deprecated: use @default decorator instead.\n",
      "  def _deferred_printers_default(self):\n",
      "/usr/local/lib/python2.7/site-packages/IPython/core/formatters.py:669: DeprecationWarning: PlainTextFormatter._singleton_printers_default is deprecated: use @default decorator instead.\n",
      "  def _singleton_printers_default(self):\n",
      "/usr/local/lib/python2.7/site-packages/IPython/core/formatters.py:672: DeprecationWarning: PlainTextFormatter._type_printers_default is deprecated: use @default decorator instead.\n",
      "  def _type_printers_default(self):\n",
      "/usr/local/lib/python2.7/site-packages/IPython/core/formatters.py:669: DeprecationWarning: PlainTextFormatter._singleton_printers_default is deprecated: use @default decorator instead.\n",
      "  def _singleton_printers_default(self):\n",
      "/usr/local/lib/python2.7/site-packages/IPython/core/formatters.py:672: DeprecationWarning: PlainTextFormatter._type_printers_default is deprecated: use @default decorator instead.\n",
      "  def _type_printers_default(self):\n",
      "/usr/local/lib/python2.7/site-packages/IPython/core/formatters.py:677: DeprecationWarning: PlainTextFormatter._deferred_printers_default is deprecated: use @default decorator instead.\n",
      "  def _deferred_printers_default(self):\n"
     ]
    },
    {
     "data": {
      "text/html": [
       "<div style=\"overflow:auto\"><table style=\"width:50%\"><tr><td>H2O cluster uptime: </td>\n",
       "<td>1 hours 6 minutes 58 seconds 662 milliseconds </td></tr>\n",
       "<tr><td>H2O cluster version: </td>\n",
       "<td>3.8.2.9</td></tr>\n",
       "<tr><td>H2O cluster name: </td>\n",
       "<td>H2O_started_from_R_laurend_fzg786</td></tr>\n",
       "<tr><td>H2O cluster total nodes: </td>\n",
       "<td>1</td></tr>\n",
       "<tr><td>H2O cluster total free memory: </td>\n",
       "<td>3.53 GB</td></tr>\n",
       "<tr><td>H2O cluster total cores: </td>\n",
       "<td>8</td></tr>\n",
       "<tr><td>H2O cluster allowed cores: </td>\n",
       "<td>2</td></tr>\n",
       "<tr><td>H2O cluster healthy: </td>\n",
       "<td>True</td></tr>\n",
       "<tr><td>H2O Connection ip: </td>\n",
       "<td>127.0.0.1</td></tr>\n",
       "<tr><td>H2O Connection port: </td>\n",
       "<td>54321</td></tr>\n",
       "<tr><td>H2O Connection proxy: </td>\n",
       "<td>None</td></tr>\n",
       "<tr><td>Python Version: </td>\n",
       "<td>2.7.11</td></tr></table></div>"
      ],
      "text/plain": [
       "------------------------------  ---------------------------------------------\n",
       "H2O cluster uptime:             1 hours 6 minutes 58 seconds 662 milliseconds\n",
       "H2O cluster version:            3.8.2.9\n",
       "H2O cluster name:               H2O_started_from_R_laurend_fzg786\n",
       "H2O cluster total nodes:        1\n",
       "H2O cluster total free memory:  3.53 GB\n",
       "H2O cluster total cores:        8\n",
       "H2O cluster allowed cores:      2\n",
       "H2O cluster healthy:            True\n",
       "H2O Connection ip:              127.0.0.1\n",
       "H2O Connection port:            54321\n",
       "H2O Connection proxy:\n",
       "Python Version:                 2.7.11\n",
       "------------------------------  ---------------------------------------------"
      ]
     },
     "metadata": {},
     "output_type": "display_data"
    }
   ],
   "source": [
    "import h2o\n",
    "import numpy as np\n",
    "import math\n",
    "import warnings\n",
    "warnings.filterwarnings('ignore', category=DeprecationWarning, module='.*/jupyter/.*')\n",
    "h2o.init(nthreads = -1)\n"
   ]
  },
  {
   "cell_type": "markdown",
   "metadata": {},
   "source": [
    "# Summary Notes\n",
    "\n",
    "* use gbm (consider all options, for comparison)\n",
    "* AUC to set threshold\n",
    "* Compare machine learning models to regular group by models\n",
    "* remove the customerID since that is the same as a row index\n",
    "* todo: fill in missing values for TotalCharges column\n",
    "* todo: compare different stratified functions and parameter to see if they stratify in the same way *(i.e. split_frame(ratios=None, destination_frames=None, seed=None), stratified_kfold_column(n_folds=3, seed=-1), stratified_split(test_frac=0.2, seed=-1, and fold_assignment=\"Stratified\" for the GBM estimator)*\n",
    "\n",
    "### questions\n",
    "* should there be a learn_rate_annealing argument for python Grid Search?"
   ]
  },
  {
   "cell_type": "code",
   "execution_count": 3,
   "metadata": {
    "collapsed": false
   },
   "outputs": [
    {
     "name": "stdout",
     "output_type": "stream",
     "text": [
      "\n",
      "Parse Progress: [##################################################] 100%\n"
     ]
    }
   ],
   "source": [
    "# A small clean telecommunications sample dataset (https://www.ibm.com/communities/analytics/watson-analytics-blog/predictive-insights-in-the-telco-customer-churn-data-set/\n",
    "telco_dataset = h2o.import_file(\"/Users/laurend/Desktop/projects/WA_Fn-UseC_-Telco-Customer-Churn.csv\")"
   ]
  },
  {
   "cell_type": "code",
   "execution_count": 4,
   "metadata": {
    "collapsed": false
   },
   "outputs": [
    {
     "name": "stdout",
     "output_type": "stream",
     "text": [
      "[0.0, 0.0, 0.0, 0.0, 0.0, 0.0, 0.0, 0.0, 0.0, 0.0, 0.0, 0.0, 0.0, 0.0, 0.0, 0.0, 0.0, 0.0, 0.0, 11.0, 0.0]\n",
      "Rows:7,043 Cols:21\n",
      "\n",
      "Chunk compression summary: \n"
     ]
    },
    {
     "data": {
      "text/html": [
       "<div style=\"overflow:auto\"><table style=\"width:50%\"><tr><td><b>chunk_type</b></td>\n",
       "<td><b>chunk_name</b></td>\n",
       "<td><b>count</b></td>\n",
       "<td><b>count_percentage</b></td>\n",
       "<td><b>size</b></td>\n",
       "<td><b>size_percentage</b></td></tr>\n",
       "<tr><td>CBS</td>\n",
       "<td>Bits</td>\n",
       "<td>222</td>\n",
       "<td>33.035713</td>\n",
       "<td>   21.2 KB</td>\n",
       "<td>7.7945857</td></tr>\n",
       "<tr><td>CX0</td>\n",
       "<td>Zero Sparse Bits</td>\n",
       "<td>2</td>\n",
       "<td>0.2976190</td>\n",
       "<td>    254  B</td>\n",
       "<td>0.0910306</td></tr>\n",
       "<tr><td>C1N</td>\n",
       "<td>1-Byte Integers (w/o NAs)</td>\n",
       "<td>352</td>\n",
       "<td>52.380955</td>\n",
       "<td>   99.0 KB</td>\n",
       "<td>36.343796</td></tr>\n",
       "<tr><td>C2S</td>\n",
       "<td>2-Byte Fractions</td>\n",
       "<td>32</td>\n",
       "<td>4.7619047</td>\n",
       "<td>   16.4 KB</td>\n",
       "<td>6.0116043</td></tr>\n",
       "<tr><td>C4S</td>\n",
       "<td>4-Byte Fractions</td>\n",
       "<td>32</td>\n",
       "<td>4.7619047</td>\n",
       "<td>   30.1 KB</td>\n",
       "<td>11.059861</td></tr>\n",
       "<tr><td>CStr</td>\n",
       "<td>String</td>\n",
       "<td>32</td>\n",
       "<td>4.7619047</td>\n",
       "<td>  105.5 KB</td>\n",
       "<td>38.699123</td></tr></table></div>"
      ],
      "text/plain": [
       "chunk_type    chunk_name                 count    count_percentage    size      size_percentage\n",
       "------------  -------------------------  -------  ------------------  --------  -----------------\n",
       "CBS           Bits                       222      33.0357             21.2 KB   7.79459\n",
       "CX0           Zero Sparse Bits           2        0.297619            254  B    0.0910306\n",
       "C1N           1-Byte Integers (w/o NAs)  352      52.381              99.0 KB   36.3438\n",
       "C2S           2-Byte Fractions           32       4.7619              16.4 KB   6.0116\n",
       "C4S           4-Byte Fractions           32       4.7619              30.1 KB   11.0599\n",
       "CStr          String                     32       4.7619              105.5 KB  38.6991"
      ]
     },
     "metadata": {},
     "output_type": "display_data"
    },
    {
     "name": "stdout",
     "output_type": "stream",
     "text": [
      "\n",
      "Frame distribution summary: \n"
     ]
    },
    {
     "data": {
      "text/html": [
       "<div style=\"overflow:auto\"><table style=\"width:50%\"><tr><td><b></b></td>\n",
       "<td><b>size</b></td>\n",
       "<td><b>number_of_rows</b></td>\n",
       "<td><b>number_of_chunks_per_column</b></td>\n",
       "<td><b>number_of_chunks</b></td></tr>\n",
       "<tr><td>127.0.0.1:54321</td>\n",
       "<td>  272.5 KB</td>\n",
       "<td>7043.0</td>\n",
       "<td>32.0</td>\n",
       "<td>672.0</td></tr>\n",
       "<tr><td>mean</td>\n",
       "<td>  272.5 KB</td>\n",
       "<td>7043.0</td>\n",
       "<td>32.0</td>\n",
       "<td>672.0</td></tr>\n",
       "<tr><td>min</td>\n",
       "<td>  272.5 KB</td>\n",
       "<td>7043.0</td>\n",
       "<td>32.0</td>\n",
       "<td>672.0</td></tr>\n",
       "<tr><td>max</td>\n",
       "<td>  272.5 KB</td>\n",
       "<td>7043.0</td>\n",
       "<td>32.0</td>\n",
       "<td>672.0</td></tr>\n",
       "<tr><td>stddev</td>\n",
       "<td>      0  B</td>\n",
       "<td>0.0</td>\n",
       "<td>0.0</td>\n",
       "<td>0.0</td></tr>\n",
       "<tr><td>total</td>\n",
       "<td>  272.5 KB</td>\n",
       "<td>7043.0</td>\n",
       "<td>32.0</td>\n",
       "<td>672.0</td></tr></table></div>"
      ],
      "text/plain": [
       "                 size      number_of_rows    number_of_chunks_per_column    number_of_chunks\n",
       "---------------  --------  ----------------  -----------------------------  ------------------\n",
       "127.0.0.1:54321  272.5 KB  7043              32                             672\n",
       "mean             272.5 KB  7043              32                             672\n",
       "min              272.5 KB  7043              32                             672\n",
       "max              272.5 KB  7043              32                             672\n",
       "stddev           0  B      0                 0                              0\n",
       "total            272.5 KB  7043              32                             672"
      ]
     },
     "metadata": {},
     "output_type": "display_data"
    },
    {
     "name": "stdout",
     "output_type": "stream",
     "text": [
      "\n",
      "\n"
     ]
    },
    {
     "data": {
      "text/html": [
       "<table>\n",
       "<tr><th>       </th><th>customerID  </th><th>gender        </th><th>SeniorCitizen  </th><th>Partner       </th><th>Dependents    </th><th>tenure       </th><th>PhoneService  </th><th>MultipleLines   </th><th>InternetService  </th><th>OnlineSecurity  </th><th>OnlineBackup  </th><th>DeviceProtection  </th><th>TechSupport  </th><th>StreamingTV  </th><th>StreamingMovies  </th><th>Contract      </th><th>PaperlessBilling  </th><th>PaymentMethod            </th><th>MonthlyCharges  </th><th>TotalCharges  </th><th>Churn         </th></tr>\n",
       "<tr><td>type   </td><td>string      </td><td>enum          </td><td>int            </td><td>enum          </td><td>enum          </td><td>int          </td><td>enum          </td><td>enum            </td><td>enum             </td><td>enum            </td><td>enum          </td><td>enum              </td><td>enum         </td><td>enum         </td><td>enum             </td><td>enum          </td><td>enum              </td><td>enum                     </td><td>real            </td><td>real          </td><td>enum          </td></tr>\n",
       "<tr><td>mins   </td><td>NaN         </td><td>0.0           </td><td>0.0            </td><td>0.0           </td><td>0.0           </td><td>0.0          </td><td>0.0           </td><td>0.0             </td><td>0.0              </td><td>0.0             </td><td>0.0           </td><td>0.0               </td><td>0.0          </td><td>0.0          </td><td>0.0              </td><td>0.0           </td><td>0.0               </td><td>0.0                      </td><td>18.25           </td><td>18.8          </td><td>0.0           </td></tr>\n",
       "<tr><td>mean   </td><td>NaN         </td><td>0.504756495811</td><td>0.162146812438 </td><td>0.483032798523</td><td>0.299588243646</td><td>32.3711486582</td><td>0.903166264376</td><td>NaN             </td><td>NaN              </td><td>NaN             </td><td>NaN           </td><td>NaN               </td><td>NaN          </td><td>NaN          </td><td>NaN              </td><td>NaN           </td><td>0.592219224762    </td><td>NaN                      </td><td>64.7616924606   </td><td>2283.30044084 </td><td>0.265369870794</td></tr>\n",
       "<tr><td>maxs   </td><td>NaN         </td><td>1.0           </td><td>1.0            </td><td>1.0           </td><td>1.0           </td><td>72.0         </td><td>1.0           </td><td>2.0             </td><td>2.0              </td><td>2.0             </td><td>2.0           </td><td>2.0               </td><td>2.0          </td><td>2.0          </td><td>2.0              </td><td>2.0           </td><td>1.0               </td><td>3.0                      </td><td>118.75          </td><td>8684.8        </td><td>1.0           </td></tr>\n",
       "<tr><td>sigma  </td><td>NaN         </td><td>0.500012873647</td><td>0.36861160561  </td><td>0.49974751072 </td><td>0.45811016751 </td><td>24.5594810231</td><td>0.295752231784</td><td>NaN             </td><td>NaN              </td><td>NaN             </td><td>NaN           </td><td>NaN               </td><td>NaN          </td><td>NaN          </td><td>NaN              </td><td>NaN           </td><td>0.491456924049    </td><td>NaN                      </td><td>30.0900470977   </td><td>2266.77136188 </td><td>0.441561305122</td></tr>\n",
       "<tr><td>zeros  </td><td>0           </td><td>3488          </td><td>5901           </td><td>3641          </td><td>4933          </td><td>11           </td><td>682           </td><td>3390            </td><td>2421             </td><td>3498            </td><td>3088          </td><td>3095              </td><td>3473         </td><td>2810         </td><td>2785             </td><td>3875          </td><td>2872              </td><td>1544                     </td><td>0               </td><td>0             </td><td>5174          </td></tr>\n",
       "<tr><td>missing</td><td>0           </td><td>0             </td><td>0              </td><td>0             </td><td>0             </td><td>0            </td><td>0             </td><td>0               </td><td>0                </td><td>0               </td><td>0             </td><td>0                 </td><td>0            </td><td>0            </td><td>0                </td><td>0             </td><td>0                 </td><td>0                        </td><td>0               </td><td>11            </td><td>0             </td></tr>\n",
       "<tr><td>0      </td><td>7590-VHVEG  </td><td>Female        </td><td>0.0            </td><td>Yes           </td><td>No            </td><td>1.0          </td><td>No            </td><td>No phone service</td><td>DSL              </td><td>No              </td><td>Yes           </td><td>No                </td><td>No           </td><td>No           </td><td>No               </td><td>Month-to-month</td><td>Yes               </td><td>Electronic check         </td><td>29.85           </td><td>29.85         </td><td>No            </td></tr>\n",
       "<tr><td>1      </td><td>5575-GNVDE  </td><td>Male          </td><td>0.0            </td><td>No            </td><td>No            </td><td>34.0         </td><td>Yes           </td><td>No              </td><td>DSL              </td><td>Yes             </td><td>No            </td><td>Yes               </td><td>No           </td><td>No           </td><td>No               </td><td>One year      </td><td>No                </td><td>Mailed check             </td><td>56.95           </td><td>1889.5        </td><td>No            </td></tr>\n",
       "<tr><td>2      </td><td>3668-QPYBK  </td><td>Male          </td><td>0.0            </td><td>No            </td><td>No            </td><td>2.0          </td><td>Yes           </td><td>No              </td><td>DSL              </td><td>Yes             </td><td>Yes           </td><td>No                </td><td>No           </td><td>No           </td><td>No               </td><td>Month-to-month</td><td>Yes               </td><td>Mailed check             </td><td>53.85           </td><td>108.15        </td><td>Yes           </td></tr>\n",
       "<tr><td>3      </td><td>7795-CFOCW  </td><td>Male          </td><td>0.0            </td><td>No            </td><td>No            </td><td>45.0         </td><td>No            </td><td>No phone service</td><td>DSL              </td><td>Yes             </td><td>No            </td><td>Yes               </td><td>Yes          </td><td>No           </td><td>No               </td><td>One year      </td><td>No                </td><td>Bank transfer (automatic)</td><td>42.3            </td><td>1840.75       </td><td>No            </td></tr>\n",
       "<tr><td>4      </td><td>9237-HQITU  </td><td>Female        </td><td>0.0            </td><td>No            </td><td>No            </td><td>2.0          </td><td>Yes           </td><td>No              </td><td>Fiber optic      </td><td>No              </td><td>No            </td><td>No                </td><td>No           </td><td>No           </td><td>No               </td><td>Month-to-month</td><td>Yes               </td><td>Electronic check         </td><td>70.7            </td><td>151.65        </td><td>Yes           </td></tr>\n",
       "<tr><td>5      </td><td>9305-CDSKC  </td><td>Female        </td><td>0.0            </td><td>No            </td><td>No            </td><td>8.0          </td><td>Yes           </td><td>Yes             </td><td>Fiber optic      </td><td>No              </td><td>No            </td><td>Yes               </td><td>No           </td><td>Yes          </td><td>Yes              </td><td>Month-to-month</td><td>Yes               </td><td>Electronic check         </td><td>99.65           </td><td>820.5         </td><td>Yes           </td></tr>\n",
       "<tr><td>6      </td><td>1452-KIOVK  </td><td>Male          </td><td>0.0            </td><td>No            </td><td>Yes           </td><td>22.0         </td><td>Yes           </td><td>Yes             </td><td>Fiber optic      </td><td>No              </td><td>Yes           </td><td>No                </td><td>No           </td><td>Yes          </td><td>No               </td><td>Month-to-month</td><td>Yes               </td><td>Credit card (automatic)  </td><td>89.1            </td><td>1949.4        </td><td>No            </td></tr>\n",
       "<tr><td>7      </td><td>6713-OKOMC  </td><td>Female        </td><td>0.0            </td><td>No            </td><td>No            </td><td>10.0         </td><td>No            </td><td>No phone service</td><td>DSL              </td><td>Yes             </td><td>No            </td><td>No                </td><td>No           </td><td>No           </td><td>No               </td><td>Month-to-month</td><td>No                </td><td>Mailed check             </td><td>29.75           </td><td>301.9         </td><td>No            </td></tr>\n",
       "<tr><td>8      </td><td>7892-POOKP  </td><td>Female        </td><td>0.0            </td><td>Yes           </td><td>No            </td><td>28.0         </td><td>Yes           </td><td>Yes             </td><td>Fiber optic      </td><td>No              </td><td>No            </td><td>Yes               </td><td>Yes          </td><td>Yes          </td><td>Yes              </td><td>Month-to-month</td><td>Yes               </td><td>Electronic check         </td><td>104.8           </td><td>3046.05       </td><td>Yes           </td></tr>\n",
       "<tr><td>9      </td><td>6388-TABGU  </td><td>Male          </td><td>0.0            </td><td>No            </td><td>Yes           </td><td>62.0         </td><td>Yes           </td><td>No              </td><td>DSL              </td><td>Yes             </td><td>Yes           </td><td>No                </td><td>No           </td><td>No           </td><td>No               </td><td>One year      </td><td>No                </td><td>Bank transfer (automatic)</td><td>56.15           </td><td>3487.95       </td><td>No            </td></tr>\n",
       "</table>"
      ]
     },
     "metadata": {},
     "output_type": "display_data"
    }
   ],
   "source": [
    "# get a summary of the dataset\n",
    "print telco_dataset.nacnt()\n",
    "telco_dataset.describe()"
   ]
  },
  {
   "cell_type": "code",
   "execution_count": 5,
   "metadata": {
    "collapsed": false
   },
   "outputs": [
    {
     "data": {
      "text/plain": [
       "[u'customerID',\n",
       " u'gender',\n",
       " u'SeniorCitizen',\n",
       " u'Partner',\n",
       " u'Dependents',\n",
       " u'tenure',\n",
       " u'PhoneService',\n",
       " u'MultipleLines',\n",
       " u'InternetService',\n",
       " u'OnlineSecurity',\n",
       " u'OnlineBackup',\n",
       " u'DeviceProtection',\n",
       " u'TechSupport',\n",
       " u'StreamingTV',\n",
       " u'StreamingMovies',\n",
       " u'Contract',\n",
       " u'PaperlessBilling',\n",
       " u'PaymentMethod',\n",
       " u'MonthlyCharges',\n",
       " u'TotalCharges',\n",
       " u'Churn']"
      ]
     },
     "execution_count": 5,
     "metadata": {},
     "output_type": "execute_result"
    }
   ],
   "source": [
    "# what does each column tell you, make sure type is correct, and see if new features need to be created with strings\n",
    "telco_dataset.columns"
   ]
  },
  {
   "cell_type": "code",
   "execution_count": 6,
   "metadata": {
    "collapsed": false
   },
   "outputs": [
    {
     "data": {
      "text/plain": [
       "7043"
      ]
     },
     "execution_count": 6,
     "metadata": {},
     "output_type": "execute_result"
    }
   ],
   "source": [
    "# check whether the customerID column is unique per row, if so use as an index and remove from the predictors\n",
    "telco_dataset['customerID'].asfactor().unique().nrow\n"
   ]
  },
  {
   "cell_type": "code",
   "execution_count": 7,
   "metadata": {
    "collapsed": false
   },
   "outputs": [],
   "source": [
    "# select all columns as predictors except the customerID (which is like an index) and the response column\n",
    "features_list = list(telco_dataset.columns[1:-1])\n",
    "response_name = 'Churn'"
   ]
  },
  {
   "cell_type": "code",
   "execution_count": 8,
   "metadata": {
    "collapsed": false
   },
   "outputs": [
    {
     "name": "stdout",
     "output_type": "stream",
     "text": [
      "the response classes are: [['No', 'Yes']]\n",
      "number of classes: [2]\n",
      "\n",
      "Is the response column a categorical: [True]\n",
      "\n",
      "there are 11.0 missing values in the dataset\n",
      "there are 0.0 missing values in the labels\n",
      "\n",
      "check for class imbalace\n",
      "------------------------\n"
     ]
    },
    {
     "data": {
      "text/html": [
       "<table>\n",
       "<tr><th>Churn  </th><th style=\"text-align: right;\">  Count</th></tr>\n",
       "<tr><td>No     </td><td style=\"text-align: right;\">   5174</td></tr>\n",
       "<tr><td>Yes    </td><td style=\"text-align: right;\">   1869</td></tr>\n",
       "</table>"
      ]
     },
     "metadata": {},
     "output_type": "display_data"
    },
    {
     "data": {
      "text/plain": []
     },
     "execution_count": 8,
     "metadata": {},
     "output_type": "execute_result"
    }
   ],
   "source": [
    "# specify the response column\n",
    "response_col = telco_dataset['Churn']\n",
    "# get a list of the categorical levels in your response column\n",
    "print 'the response classes are:',response_col.levels()\n",
    "print 'number of classes:', response_col.nlevels()\n",
    "print ''\n",
    "# check that the response column is already interpreted as a factor (i.e. enum/categorical)\n",
    "print 'Is the response column a categorical:',response_col.isfactor()\n",
    "# check that there are two levels in our response column:\n",
    "response_col.nlevels()\n",
    "print ''\n",
    "# check for missing values in the training set and specifically the response column\n",
    "print 'there are {0} missing values in the dataset'.format(telco_dataset.isna().sum())\n",
    "print 'there are {0} missing values in the labels'.format(telco_dataset[response_col].isna().sum())\n",
    "print ''\n",
    "\n",
    "print 'check for class imbalace'\n",
    "print '------------------------'\n",
    "telco_dataset['Churn'].table()\n"
   ]
  },
  {
   "cell_type": "code",
   "execution_count": 9,
   "metadata": {
    "collapsed": false
   },
   "outputs": [
    {
     "name": "stdout",
     "output_type": "stream",
     "text": [
      "Question: How imbalanced is this dataset? Ans: no the dataset is not imbalanced\n"
     ]
    },
    {
     "data": {
      "text/html": [
       "<table>\n",
       "<tr><th style=\"text-align: right;\">  Count</th></tr>\n",
       "<tr><td style=\"text-align: right;\">0.73463</td></tr>\n",
       "<tr><td style=\"text-align: right;\">0.26537</td></tr>\n",
       "</table>"
      ]
     },
     "metadata": {},
     "output_type": "display_data"
    },
    {
     "data": {
      "text/plain": []
     },
     "execution_count": 9,
     "metadata": {},
     "output_type": "execute_result"
    }
   ],
   "source": [
    "print 'Question: How imbalanced is this dataset? Ans: no the dataset is not imbalanced'\n",
    "num_train_samples = telco_dataset.shape[0]  # Total number of training samples\n",
    "telco_dataset['Churn'].table()['Count']/num_train_samples"
   ]
  },
  {
   "cell_type": "code",
   "execution_count": 10,
   "metadata": {
    "collapsed": false
   },
   "outputs": [
    {
     "name": "stdout",
     "output_type": "stream",
     "text": [
      "gender      Count\n",
      "--------  -------\n",
      "Female       3488\n",
      "Male         3555\n",
      "\n",
      "[2 rows x 2 columns]\n",
      "~~~~~~~~~~~~~~~~~~~~~~~~~~~~~~~~~~~~~~\n",
      "  SeniorCitizen    Count\n",
      "---------------  -------\n",
      "              0     5901\n",
      "              1     1142\n",
      "\n",
      "[2 rows x 2 columns]\n",
      "~~~~~~~~~~~~~~~~~~~~~~~~~~~~~~~~~~~~~~\n",
      "Partner      Count\n",
      "---------  -------\n",
      "No            3641\n",
      "Yes           3402\n",
      "\n",
      "[2 rows x 2 columns]\n",
      "~~~~~~~~~~~~~~~~~~~~~~~~~~~~~~~~~~~~~~\n",
      "Dependents      Count\n",
      "------------  -------\n",
      "No               4933\n",
      "Yes              2110\n",
      "\n",
      "[2 rows x 2 columns]\n",
      "~~~~~~~~~~~~~~~~~~~~~~~~~~~~~~~~~~~~~~\n",
      "  tenure    Count\n",
      "--------  -------\n",
      "       0       11\n",
      "       1      613\n",
      "       2      238\n",
      "       3      200\n",
      "       4      176\n",
      "       5      133\n",
      "       6      110\n",
      "       7      131\n",
      "       8      123\n",
      "       9      119\n",
      "\n",
      "[73 rows x 2 columns]\n",
      "~~~~~~~~~~~~~~~~~~~~~~~~~~~~~~~~~~~~~~\n",
      "PhoneService      Count\n",
      "--------------  -------\n",
      "No                  682\n",
      "Yes                6361\n",
      "\n",
      "[2 rows x 2 columns]\n",
      "~~~~~~~~~~~~~~~~~~~~~~~~~~~~~~~~~~~~~~\n",
      "MultipleLines       Count\n",
      "----------------  -------\n",
      "No                   3390\n",
      "No phone service      682\n",
      "Yes                  2971\n",
      "\n",
      "[3 rows x 2 columns]\n",
      "~~~~~~~~~~~~~~~~~~~~~~~~~~~~~~~~~~~~~~\n",
      "InternetService      Count\n",
      "-----------------  -------\n",
      "DSL                   2421\n",
      "Fiber optic           3096\n",
      "No                    1526\n",
      "\n",
      "[3 rows x 2 columns]\n",
      "~~~~~~~~~~~~~~~~~~~~~~~~~~~~~~~~~~~~~~\n",
      "OnlineSecurity         Count\n",
      "-------------------  -------\n",
      "No                      3498\n",
      "No internet service     1526\n",
      "Yes                     2019\n",
      "\n",
      "[3 rows x 2 columns]\n",
      "~~~~~~~~~~~~~~~~~~~~~~~~~~~~~~~~~~~~~~\n",
      "OnlineBackup           Count\n",
      "-------------------  -------\n",
      "No                      3088\n",
      "No internet service     1526\n",
      "Yes                     2429\n",
      "\n",
      "[3 rows x 2 columns]\n",
      "~~~~~~~~~~~~~~~~~~~~~~~~~~~~~~~~~~~~~~\n",
      "DeviceProtection       Count\n",
      "-------------------  -------\n",
      "No                      3095\n",
      "No internet service     1526\n",
      "Yes                     2422\n",
      "\n",
      "[3 rows x 2 columns]\n",
      "~~~~~~~~~~~~~~~~~~~~~~~~~~~~~~~~~~~~~~\n",
      "TechSupport            Count\n",
      "-------------------  -------\n",
      "No                      3473\n",
      "No internet service     1526\n",
      "Yes                     2044\n",
      "\n",
      "[3 rows x 2 columns]\n",
      "~~~~~~~~~~~~~~~~~~~~~~~~~~~~~~~~~~~~~~\n",
      "StreamingTV            Count\n",
      "-------------------  -------\n",
      "No                      2810\n",
      "No internet service     1526\n",
      "Yes                     2707\n",
      "\n",
      "[3 rows x 2 columns]\n",
      "~~~~~~~~~~~~~~~~~~~~~~~~~~~~~~~~~~~~~~\n",
      "StreamingMovies        Count\n",
      "-------------------  -------\n",
      "No                      2785\n",
      "No internet service     1526\n",
      "Yes                     2732\n",
      "\n",
      "[3 rows x 2 columns]\n",
      "~~~~~~~~~~~~~~~~~~~~~~~~~~~~~~~~~~~~~~\n",
      "Contract          Count\n",
      "--------------  -------\n",
      "Month-to-month     3875\n",
      "One year           1473\n",
      "Two year           1695\n",
      "\n",
      "[3 rows x 2 columns]\n",
      "~~~~~~~~~~~~~~~~~~~~~~~~~~~~~~~~~~~~~~\n",
      "PaperlessBilling      Count\n",
      "------------------  -------\n",
      "No                     2872\n",
      "Yes                    4171\n",
      "\n",
      "[2 rows x 2 columns]\n",
      "~~~~~~~~~~~~~~~~~~~~~~~~~~~~~~~~~~~~~~\n",
      "PaymentMethod                Count\n",
      "-------------------------  -------\n",
      "Bank transfer (automatic)     1544\n",
      "Credit card (automatic)       1522\n",
      "Electronic check              2365\n",
      "Mailed check                  1612\n",
      "\n",
      "[4 rows x 2 columns]\n",
      "~~~~~~~~~~~~~~~~~~~~~~~~~~~~~~~~~~~~~~\n",
      "  MonthlyCharges    Counts\n",
      "----------------  --------\n",
      "           18.25         1\n",
      "           18.4          1\n",
      "           18.55         1\n",
      "           18.7          2\n",
      "           18.75         1\n",
      "           18.8          7\n",
      "           18.85         5\n",
      "           18.9          2\n",
      "           18.95         6\n",
      "           19            7\n",
      "\n",
      "[1585 rows x 2 columns]\n",
      "~~~~~~~~~~~~~~~~~~~~~~~~~~~~~~~~~~~~~~\n",
      "  TotalCharges    Counts\n",
      "--------------  --------\n",
      "         18.8          1\n",
      "         18.85         2\n",
      "         18.9          1\n",
      "         19            1\n",
      "         19.05         1\n",
      "         19.1          3\n",
      "         19.15         1\n",
      "         19.2          4\n",
      "         19.25         3\n",
      "         19.3          4\n",
      "\n",
      "[6530 rows x 2 columns]\n",
      "~~~~~~~~~~~~~~~~~~~~~~~~~~~~~~~~~~~~~~\n"
     ]
    }
   ],
   "source": [
    "for column_name in telco_dataset.columns[1:-1]:\n",
    "    print telco_dataset[str(column_name)].table()\n",
    "    print '~~~~~~~~~~~~~~~~~~~~~~~~~~~~~~~~~~~~~~'\n",
    "    "
   ]
  },
  {
   "cell_type": "code",
   "execution_count": 11,
   "metadata": {
    "collapsed": true
   },
   "outputs": [],
   "source": [
    "# split your datasets\n",
    "train, valid, test = telco_dataset.split_frame(ratios=[0.6,0.2], seed=1234)"
   ]
  },
  {
   "cell_type": "code",
   "execution_count": 12,
   "metadata": {
    "collapsed": false
   },
   "outputs": [
    {
     "name": "stdout",
     "output_type": "stream",
     "text": [
      "(4248, 21)\n",
      "(1415, 21)\n",
      "(1380, 21)\n",
      "7043\n"
     ]
    }
   ],
   "source": [
    "# check that the split went as expected\n",
    "print train.shape\n",
    "print valid.shape\n",
    "print test.shape\n",
    "print train.shape[0] + valid.shape[0] + test.shape[0]"
   ]
  },
  {
   "cell_type": "code",
   "execution_count": 13,
   "metadata": {
    "collapsed": true
   },
   "outputs": [],
   "source": [
    "# run gbm estimator with the default parameters to establish a benchmark model (set seed for reproducibility)\n",
    "# import GBM\n",
    "from h2o.estimators.gbm import H2OGradientBoostingEstimator\n",
    "default_model = H2OGradientBoostingEstimator(seed = 1234)\n",
    "\n",
    "# model_1 = H2OGradientBoostingEstimator(distribution='bernoulli',\n",
    "#                                     ntrees=100,\n",
    "#                                     max_depth=4,\n",
    "#                                     learn_rate=0.1,\n",
    "#                                     seed = 1234)"
   ]
  },
  {
   "cell_type": "code",
   "execution_count": 14,
   "metadata": {
    "collapsed": false
   },
   "outputs": [
    {
     "name": "stdout",
     "output_type": "stream",
     "text": [
      "\n",
      "gbm Model Build Progress: [##################################################] 100%\n"
     ]
    }
   ],
   "source": [
    "# train the default model\n",
    "default_model.train(x=features_list, y=response_name, training_frame=train)"
   ]
  },
  {
   "cell_type": "code",
   "execution_count": 15,
   "metadata": {
    "collapsed": false
   },
   "outputs": [
    {
     "name": "stdout",
     "output_type": "stream",
     "text": [
      "train auc: 0.908830586543\n",
      "validation auc: 0.847424663727\n"
     ]
    }
   ],
   "source": [
    "# get the AUC for the training set\n",
    "print 'train auc:', default_model.auc() \n",
    "\n",
    "# get the AUC for the validation set\n",
    "default_perf_on_valid = default_model.model_performance(valid)\n",
    "print 'validation auc:', default_perf_on_valid.auc()"
   ]
  },
  {
   "cell_type": "code",
   "execution_count": 16,
   "metadata": {
    "collapsed": true
   },
   "outputs": [],
   "source": [
    "# using parameters from https://github.com/h2oai/h2o-3/blob/master/h2o-docs/src/product/tutorials/gbm/gbmTuning.Rmd\n",
    "# this model overfits less on the training set\n",
    "model_0 = H2OGradientBoostingEstimator(distribution='bernoulli',\n",
    "                                    ntrees=10000,\n",
    "                                    max_depth=4,\n",
    "                                    learn_rate=0.01,\n",
    "                                    stopping_rounds = 5, stopping_tolerance = 1e-4, stopping_metric = \"AUC\",\n",
    "                                    sample_rate = 0.8,\n",
    "                                    col_sample_rate = 0.8,\n",
    "                                    seed = 1234,\n",
    "                                    score_tree_interval = 10)"
   ]
  },
  {
   "cell_type": "code",
   "execution_count": 17,
   "metadata": {
    "collapsed": false
   },
   "outputs": [
    {
     "name": "stdout",
     "output_type": "stream",
     "text": [
      "\n",
      "gbm Model Build Progress: [##################################################] 100%\n"
     ]
    }
   ],
   "source": [
    "model_0.train(x=features_list, \n",
    "              y=response_name, \n",
    "              training_frame=train,\n",
    "              validation_frame = valid)"
   ]
  },
  {
   "cell_type": "code",
   "execution_count": 18,
   "metadata": {
    "collapsed": false
   },
   "outputs": [
    {
     "name": "stdout",
     "output_type": "stream",
     "text": [
      "train auc: 0.868352080745\n",
      "validation auc: 0.848603394534\n"
     ]
    }
   ],
   "source": [
    "# get the AUC for the training set\n",
    "print 'train auc:', model_0.auc() \n",
    "\n",
    "# get the AUC for the validation set\n",
    "model_0_perf_on_valid = model_0.model_performance(valid)\n",
    "print 'validation auc:', model_0_perf_on_valid.auc()"
   ]
  },
  {
   "cell_type": "markdown",
   "metadata": {},
   "source": [
    "## Grid Search\n",
    "First we want to know what value of max_depth to use because it has a big impact on the model training time and optimal values depend strongly on the dataset. We'll do a quick Cartesian grid search to get a rough idea of good candidate max_depth values. Each model in the grid search will use early stopping to tune the number of trees using the validation set AUC, as before."
   ]
  },
  {
   "cell_type": "code",
   "execution_count": 19,
   "metadata": {
    "collapsed": false
   },
   "outputs": [],
   "source": [
    "# using grid to get the best max_depths\n",
    "hyper_params = {'max_depth' : range(1,30,2)}\n",
    "search_criteria = {'strategy': \"Cartesian\"}"
   ]
  },
  {
   "cell_type": "code",
   "execution_count": 20,
   "metadata": {
    "collapsed": false
   },
   "outputs": [],
   "source": [
    "# todo: check why learn_rate_annealing breaks\n",
    "from h2o.grid.grid_search import H2OGridSearch\n",
    "gs_1 = H2OGridSearch(H2OGradientBoostingEstimator(distribution='bernoulli',\n",
    "                                    ntrees=10000,\n",
    "                                    learn_rate=0.05,\n",
    "                                    # learn_rate_annealing = 0.99, \n",
    "                                    sample_rate = 0.8,\n",
    "                                    col_sample_rate = 0.8,\n",
    "                                    seed = 1234,\n",
    "                                    score_tree_interval = 10,              \n",
    "                                    stopping_rounds = 5,\n",
    "                                    stopping_metric = \"AUC\",\n",
    "                                    stopping_tolerance = 1e-4),\n",
    "                                    hyper_params = hyper_params,\n",
    "                                    grid_id = 'grid_determines_max_depth',\n",
    "                                    search_criteria = search_criteria)"
   ]
  },
  {
   "cell_type": "code",
   "execution_count": 21,
   "metadata": {
    "collapsed": false
   },
   "outputs": [
    {
     "name": "stdout",
     "output_type": "stream",
     "text": [
      "\n",
      "gbm Grid Build Progress: [##################################################] 100%\n"
     ]
    }
   ],
   "source": [
    "# train grid search\n",
    "gs_1.train(x=features_list, \n",
    "           y=response_name, \n",
    "           training_frame=train,\n",
    "           validation_frame = valid)"
   ]
  },
  {
   "cell_type": "code",
   "execution_count": 22,
   "metadata": {
    "collapsed": false
   },
   "outputs": [
    {
     "name": "stdout",
     "output_type": "stream",
     "text": [
      "     max_depth                           model_ids              logloss\n",
      "0            1   grid_determines_max_depth_model_0   0.4028237180623319\n",
      "1            3   grid_determines_max_depth_model_1  0.40541131949118514\n",
      "2            5   grid_determines_max_depth_model_2  0.41012982432581363\n",
      "3            7   grid_determines_max_depth_model_3   0.4201635329296258\n",
      "4            9   grid_determines_max_depth_model_4  0.44099414547781474\n",
      "5           11   grid_determines_max_depth_model_5   0.4502050937706764\n",
      "6           13   grid_determines_max_depth_model_6  0.45941858208804986\n",
      "7           17   grid_determines_max_depth_model_8   0.4638066131954029\n",
      "8           15   grid_determines_max_depth_model_7   0.4638805716581195\n",
      "9           23  grid_determines_max_depth_model_11   0.4650776614640909\n",
      "10          19   grid_determines_max_depth_model_9  0.46636096088940876\n",
      "11          21  grid_determines_max_depth_model_10   0.4666626470506088\n",
      "12          27  grid_determines_max_depth_model_13   0.4668704657679751\n",
      "13          29  grid_determines_max_depth_model_14  0.46759686912356774\n",
      "14          25  grid_determines_max_depth_model_12   0.4686628623301511\n",
      "\n"
     ]
    }
   ],
   "source": [
    "# get the grid search results to see which max_depth performed the best\n",
    "print(gs_1)"
   ]
  },
  {
   "cell_type": "code",
   "execution_count": 23,
   "metadata": {
    "collapsed": false
   },
   "outputs": [
    {
     "name": "stdout",
     "output_type": "stream",
     "text": [
      "\n",
      "Grid Search Results for H2OGradientBoostingEstimator: \n"
     ]
    },
    {
     "data": {
      "text/html": [
       "<div style=\"overflow:auto\"><table style=\"width:50%\"><tr><td><b>Model Id</b></td>\n",
       "<td><b>Hyperparameters: [max_depth]</b></td>\n",
       "<td><b>auc(valid=True)</b></td></tr>\n",
       "<tr><td>grid_determines_max_depth_model_0</td>\n",
       "<td>[1]</td>\n",
       "<td>0.8507848</td></tr>\n",
       "<tr><td>grid_determines_max_depth_model_1</td>\n",
       "<td>[3]</td>\n",
       "<td>0.8483866</td></tr>\n",
       "<tr><td>grid_determines_max_depth_model_2</td>\n",
       "<td>[5]</td>\n",
       "<td>0.8442249</td></tr>\n",
       "<tr><td>grid_determines_max_depth_model_3</td>\n",
       "<td>[7]</td>\n",
       "<td>0.8389147</td></tr>\n",
       "<tr><td>grid_determines_max_depth_model_4</td>\n",
       "<td>[9]</td>\n",
       "<td>0.8295361</td></tr>\n",
       "<tr><td>grid_determines_max_depth_model_5</td>\n",
       "<td>[11]</td>\n",
       "<td>0.8254979</td></tr>\n",
       "<tr><td>grid_determines_max_depth_model_11</td>\n",
       "<td>[23]</td>\n",
       "<td>0.8240235</td></tr>\n",
       "<tr><td>grid_determines_max_depth_model_8</td>\n",
       "<td>[17]</td>\n",
       "<td>0.8230958</td></tr>\n",
       "<tr><td>grid_determines_max_depth_model_13</td>\n",
       "<td>[27]</td>\n",
       "<td>0.8227580</td></tr>\n",
       "<tr><td>grid_determines_max_depth_model_14</td>\n",
       "<td>[29]</td>\n",
       "<td>0.8226148</td></tr>\n",
       "<tr><td>grid_determines_max_depth_model_6</td>\n",
       "<td>[13]</td>\n",
       "<td>0.8225977</td></tr>\n",
       "<tr><td>grid_determines_max_depth_model_7</td>\n",
       "<td>[15]</td>\n",
       "<td>0.8222640</td></tr>\n",
       "<tr><td>grid_determines_max_depth_model_9</td>\n",
       "<td>[19]</td>\n",
       "<td>0.8222390</td></tr>\n",
       "<tr><td>grid_determines_max_depth_model_10</td>\n",
       "<td>[21]</td>\n",
       "<td>0.8219749</td></tr>\n",
       "<tr><td>grid_determines_max_depth_model_12</td>\n",
       "<td>[25]</td>\n",
       "<td>0.8217725</td></tr></table></div>"
      ],
      "text/plain": [
       "Model Id                            Hyperparameters: [max_depth]    auc(valid=True)\n",
       "----------------------------------  ------------------------------  -----------------\n",
       "grid_determines_max_depth_model_0   [1]                             0.850785\n",
       "grid_determines_max_depth_model_1   [3]                             0.848387\n",
       "grid_determines_max_depth_model_2   [5]                             0.844225\n",
       "grid_determines_max_depth_model_3   [7]                             0.838915\n",
       "grid_determines_max_depth_model_4   [9]                             0.829536\n",
       "grid_determines_max_depth_model_5   [11]                            0.825498\n",
       "grid_determines_max_depth_model_11  [23]                            0.824024\n",
       "grid_determines_max_depth_model_8   [17]                            0.823096\n",
       "grid_determines_max_depth_model_13  [27]                            0.822758\n",
       "grid_determines_max_depth_model_14  [29]                            0.822615\n",
       "grid_determines_max_depth_model_6   [13]                            0.822598\n",
       "grid_determines_max_depth_model_7   [15]                            0.822264\n",
       "grid_determines_max_depth_model_9   [19]                            0.822239\n",
       "grid_determines_max_depth_model_10  [21]                            0.821975\n",
       "grid_determines_max_depth_model_12  [25]                            0.821772"
      ]
     },
     "metadata": {},
     "output_type": "display_data"
    },
    {
     "name": "stdout",
     "output_type": "stream",
     "text": [
      "\n"
     ]
    }
   ],
   "source": [
    "# print out the auc for all models, sorted from best to worst\n",
    "auc_table = gs_1.sort_by('auc(valid=True)',increasing=False)\n",
    "print(auc_table)"
   ]
  },
  {
   "cell_type": "code",
   "execution_count": 24,
   "metadata": {
    "collapsed": false
   },
   "outputs": [
    {
     "name": "stdout",
     "output_type": "stream",
     "text": [
      "([3], [5], [7], [9], [11], [23], [17], [27], [29])\n"
     ]
    }
   ],
   "source": [
    "# find the range of the max_depth for the top ten models\n",
    "new_auc_table = auc_table[1:10]\n",
    "max_depths_to_use = new_auc_table['Hyperparameters: [max_depth]']\n",
    "print max_depths_to_use\n",
    "\n",
    "# get the max depths as a list\n",
    "new_maxmin_list = []\n",
    "for element in max_depths_to_use:\n",
    "    new_maxmin_list.append(element[0])\n",
    "new_max = max(new_maxmin_list)\n",
    "new_min = min(new_maxmin_list)"
   ]
  },
  {
   "cell_type": "markdown",
   "metadata": {},
   "source": [
    "Now that we know a good range for max_depth, we can tune all other parameters in more detail. Since we don't know what combinations of hyper-parameters will result in the best model, we'll use random hyper-parameter search to \"let the machine get luckier than a best guess of any human\"."
   ]
  },
  {
   "cell_type": "code",
   "execution_count": 25,
   "metadata": {
    "collapsed": false
   },
   "outputs": [],
   "source": [
    "# variable used in the dictionary:\n",
    "log_val = math.log(train.nrow,2)-1\n",
    "\n",
    "# create hyperameter and search criteria lists\n",
    "hyper_params_2 = {'max_depth' : list(np.arange(new_min,new_max,1)),\n",
    "                'sample_rate': list(np.arange(0.3,1,0.01)),\n",
    "                'col_sample_rate' : list(np.arange(0.3,1,0.01)),\n",
    "                'col_sample_rate_per_tree': list(np.arange(0.3,1,0.01)),\n",
    "                'col_sample_rate_change_per_level': list(np.arange(0.9,1.1,0.01)),\n",
    "                'min_rows': list(2**np.arange(0,log_val,1)),\n",
    "                'nbins': list(2**np.arange(4,10,1)),\n",
    "                'nbins_cats': list(2**np.arange(4,12,1)),\n",
    "                'min_split_improvement': [0,1e-8,1e-6,1e-4],\n",
    "                'histogram_type': [\"UniformAdaptive\",\"QuantilesGlobal\",\"RoundRobin\"]}\n",
    "search_criteria_2 = {'strategy': \"RandomDiscrete\",\n",
    "                   'max_runtime_secs': 36000,\n",
    "                   'max_models' :50,\n",
    "                   'seed' : 1234,\n",
    "                   'stopping_rounds' : 5,\n",
    "                   'stopping_metric' : \"AUC\",\n",
    "                   }"
   ]
  },
  {
   "cell_type": "code",
   "execution_count": 26,
   "metadata": {
    "collapsed": false
   },
   "outputs": [],
   "source": [
    "gs_2 = H2OGridSearch(H2OGradientBoostingEstimator(distribution='bernoulli',\n",
    "                                    ntrees=10000,\n",
    "                                    learn_rate=0.05,\n",
    "                                    #learn_rate_annealing = 0.99,\n",
    "                                    stopping_rounds = 5,\n",
    "                                    stopping_tolerance = 1e-4,\n",
    "                                    stopping_metric = \"AUC\", \n",
    "                                    score_tree_interval = 10),\n",
    "                                    hyper_params = hyper_params_2,\n",
    "                                    grid_id = 'grid_2',\n",
    "                                    search_criteria = search_criteria_2)"
   ]
  },
  {
   "cell_type": "code",
   "execution_count": 27,
   "metadata": {
    "collapsed": false
   },
   "outputs": [
    {
     "name": "stdout",
     "output_type": "stream",
     "text": [
      "\n",
      "gbm Grid Build Progress: [##################################################] 100%\n",
      "          col_sample_rate col_sample_rate_change_per_level  \\\n",
      "0                    0.33               1.0700000000000003   \n",
      "1      0.6300000000000003                             0.93   \n",
      "2     0.46000000000000013               0.9700000000000001   \n",
      "3      0.8700000000000006               0.9600000000000001   \n",
      "4      0.7800000000000005                             0.91   \n",
      "5      0.4500000000000001               1.0300000000000002   \n",
      "6     0.46000000000000013               0.9800000000000001   \n",
      "7      0.6500000000000004               1.0100000000000002   \n",
      "8                    0.34                             0.92   \n",
      "9                    0.33               1.0500000000000003   \n",
      "10     0.7700000000000005                             0.93   \n",
      "11     0.5600000000000003               1.0500000000000003   \n",
      "12    0.35000000000000003                             0.91   \n",
      "13     0.9300000000000006                              1.0   \n",
      "14     0.7500000000000004                             0.93   \n",
      "15    0.35000000000000003               0.9700000000000001   \n",
      "16                   0.34                             1.04   \n",
      "17     0.7800000000000005                             0.92   \n",
      "18     0.5900000000000003               1.0700000000000003   \n",
      "19     0.4500000000000001               0.9700000000000001   \n",
      "20     0.9500000000000006                             1.02   \n",
      "21     0.7400000000000004               0.9400000000000001   \n",
      "22     0.8900000000000006               0.9900000000000001   \n",
      "23     0.5300000000000002               1.0100000000000002   \n",
      "24     0.9200000000000006                              0.9   \n",
      "25     0.5800000000000003               1.0900000000000003   \n",
      "26     0.8900000000000006                             0.92   \n",
      "27    0.47000000000000014               1.0700000000000003   \n",
      "28     0.5300000000000002                             1.04   \n",
      "29     0.5100000000000002                             1.08   \n",
      "30    0.49000000000000016               0.9600000000000001   \n",
      "31                   0.32                              1.0   \n",
      "32                   0.32               0.9600000000000001   \n",
      "33    0.37000000000000005               0.9400000000000001   \n",
      "34    0.47000000000000014               1.0300000000000002   \n",
      "35    0.46000000000000013                             1.04   \n",
      "36     0.5100000000000002                              1.0   \n",
      "37     0.5000000000000002               0.9900000000000001   \n",
      "38     0.9000000000000006               0.9500000000000001   \n",
      "39     0.8400000000000005               0.9800000000000001   \n",
      "40     0.6900000000000004                             1.02   \n",
      "41     0.7900000000000005               1.0300000000000002   \n",
      "42                   0.34                             0.91   \n",
      "43     0.5800000000000003               0.9500000000000001   \n",
      "44     0.8700000000000006                             1.06   \n",
      "45     0.7100000000000004               1.0100000000000002   \n",
      "46     0.7700000000000005                             1.04   \n",
      "47     0.7800000000000005               1.0900000000000003   \n",
      "48     0.9600000000000006               1.0300000000000002   \n",
      "49                   0.33                             1.06   \n",
      "\n",
      "   col_sample_rate_per_tree   histogram_type max_depth min_rows  \\\n",
      "0        0.4300000000000001  QuantilesGlobal         4    512.0   \n",
      "1        0.7500000000000004  UniformAdaptive         4      1.0   \n",
      "2       0.47000000000000014  QuantilesGlobal        12    512.0   \n",
      "3        0.4100000000000001  UniformAdaptive         4   1024.0   \n",
      "4        0.6400000000000003  QuantilesGlobal        19   1024.0   \n",
      "5        0.4100000000000001       RoundRobin         4     16.0   \n",
      "6       0.46000000000000013  UniformAdaptive        21   1024.0   \n",
      "7        0.7800000000000005  UniformAdaptive        19   1024.0   \n",
      "8        0.6300000000000003  QuantilesGlobal         6    128.0   \n",
      "9        0.7100000000000004       RoundRobin        19    512.0   \n",
      "10       0.8500000000000005  QuantilesGlobal         3     64.0   \n",
      "11       0.9000000000000006       RoundRobin        28   1024.0   \n",
      "12      0.38000000000000006  UniformAdaptive        10      8.0   \n",
      "13       0.8900000000000006  QuantilesGlobal        15    256.0   \n",
      "14      0.35000000000000003       RoundRobin         8    128.0   \n",
      "15                      0.3  UniformAdaptive        27    256.0   \n",
      "16       0.9400000000000006       RoundRobin         5     16.0   \n",
      "17       0.6300000000000003  QuantilesGlobal        12    512.0   \n",
      "18      0.35000000000000003       RoundRobin         3     16.0   \n",
      "19       0.8700000000000006  UniformAdaptive        16    256.0   \n",
      "20                     0.33  UniformAdaptive        27    128.0   \n",
      "21       0.6500000000000004  QuantilesGlobal         4      4.0   \n",
      "22       0.7600000000000005       RoundRobin         4     64.0   \n",
      "23       0.4300000000000001  QuantilesGlobal         6     64.0   \n",
      "24      0.48000000000000015  QuantilesGlobal         4      4.0   \n",
      "25       0.5000000000000002       RoundRobin        13    128.0   \n",
      "26       0.9900000000000007       RoundRobin        23    128.0   \n",
      "27       0.4100000000000001  UniformAdaptive        14     64.0   \n",
      "28      0.47000000000000014  UniformAdaptive        27     32.0   \n",
      "29      0.35000000000000003       RoundRobin         7      4.0   \n",
      "30       0.8200000000000005       RoundRobin        11     32.0   \n",
      "31       0.4200000000000001  UniformAdaptive        14      8.0   \n",
      "32       0.4100000000000001  QuantilesGlobal        27      2.0   \n",
      "33       0.8900000000000006  QuantilesGlobal        10   2048.0   \n",
      "34       0.9200000000000006       RoundRobin         7   2048.0   \n",
      "35       0.6600000000000004  QuantilesGlobal         4   2048.0   \n",
      "36       0.8800000000000006       RoundRobin         3   2048.0   \n",
      "37       0.7300000000000004  QuantilesGlobal         3   2048.0   \n",
      "38      0.37000000000000005       RoundRobin        28   2048.0   \n",
      "39       0.9000000000000006  QuantilesGlobal        27     16.0   \n",
      "40       0.5000000000000002       RoundRobin        19      8.0   \n",
      "41       0.6000000000000003       RoundRobin        12      4.0   \n",
      "42       0.6300000000000003       RoundRobin        28      2.0   \n",
      "43       0.5700000000000003       RoundRobin        16      4.0   \n",
      "44       0.7600000000000005       RoundRobin        15      2.0   \n",
      "45       0.8000000000000005  QuantilesGlobal        28      2.0   \n",
      "46       0.8200000000000005  UniformAdaptive        26      4.0   \n",
      "47       0.9700000000000006  UniformAdaptive        20      2.0   \n",
      "48       0.9700000000000006       RoundRobin        26      2.0   \n",
      "49       0.7700000000000005       RoundRobin        27      1.0   \n",
      "\n",
      "   min_split_improvement nbins nbins_cats          sample_rate  \\\n",
      "0                 1.0E-8    32       1024   0.5200000000000002   \n",
      "1                 1.0E-4    32        128   0.9200000000000006   \n",
      "2                 1.0E-6    32        512   0.7500000000000004   \n",
      "3                 1.0E-4    16         32   0.4500000000000001   \n",
      "4                 1.0E-4    32         32   0.5700000000000003   \n",
      "5                 1.0E-8   512        512   0.8400000000000005   \n",
      "6                 1.0E-8   512         64   0.4000000000000001   \n",
      "7                 1.0E-8    64       1024                  0.3   \n",
      "8                 1.0E-4   512         16   0.9900000000000007   \n",
      "9                 1.0E-4   256       2048  0.35000000000000003   \n",
      "10                1.0E-4    32         16  0.35000000000000003   \n",
      "11                1.0E-8    32         64   0.8600000000000005   \n",
      "12                1.0E-4    32         32   0.5300000000000002   \n",
      "13                1.0E-8   256       1024   0.7300000000000004   \n",
      "14                1.0E-6   256        512   0.5000000000000002   \n",
      "15                1.0E-6   128         16   0.8100000000000005   \n",
      "16                1.0E-8   128        512   0.7200000000000004   \n",
      "17                   0.0   128       1024   0.8200000000000005   \n",
      "18                1.0E-8    16         32   0.7800000000000005   \n",
      "19                1.0E-4    16       1024   0.6400000000000003   \n",
      "20                1.0E-4    64         32   0.9600000000000006   \n",
      "21                1.0E-6   128        128   0.9200000000000006   \n",
      "22                1.0E-8    16        256   0.7600000000000005   \n",
      "23                1.0E-6   128         16                 0.31   \n",
      "24                1.0E-4    64        512   0.4500000000000001   \n",
      "25                1.0E-4    16         16  0.47000000000000014   \n",
      "26                1.0E-4    64         16   0.4200000000000001   \n",
      "27                1.0E-6   128         16   0.8800000000000006   \n",
      "28                1.0E-4    32        512   0.6800000000000004   \n",
      "29                   0.0    64         64  0.38000000000000006   \n",
      "30                1.0E-8   512       2048  0.38000000000000006   \n",
      "31                1.0E-4   512       1024   0.6900000000000004   \n",
      "32                   0.0    32         16   0.9700000000000006   \n",
      "33                1.0E-6    64        128  0.46000000000000013   \n",
      "34                   0.0    16       1024   0.8200000000000005   \n",
      "35                1.0E-6    16         64   0.9500000000000006   \n",
      "36                   0.0   256         32   0.5000000000000002   \n",
      "37                   0.0    32       2048   0.6700000000000004   \n",
      "38                1.0E-8   256       1024   0.6300000000000003   \n",
      "39                1.0E-6    16         32   0.9700000000000006   \n",
      "40                1.0E-6   512         32   0.8600000000000005   \n",
      "41                   0.0    64        128   0.9600000000000006   \n",
      "42                1.0E-6    64        256   0.9700000000000006   \n",
      "43                1.0E-4   512         16   0.8300000000000005   \n",
      "44                1.0E-8   256        128   0.5100000000000002   \n",
      "45                1.0E-6    32        128   0.4400000000000001   \n",
      "46                   0.0   512       1024   0.4200000000000001   \n",
      "47                1.0E-6   512        128   0.6900000000000004   \n",
      "48                1.0E-6   512         16   0.8200000000000005   \n",
      "49                1.0E-6   512       1024  0.39000000000000007   \n",
      "\n",
      "          model_ids              logloss  \n",
      "0   grid_2_model_49   0.4027717909612328  \n",
      "1   grid_2_model_32  0.40282495955460695  \n",
      "2   grid_2_model_11    0.402890243903291  \n",
      "3   grid_2_model_23  0.40296639713338683  \n",
      "4   grid_2_model_10    0.403128048097329  \n",
      "5   grid_2_model_46   0.4032234802698824  \n",
      "6   grid_2_model_26   0.4039462661937479  \n",
      "7   grid_2_model_34  0.40416163967503765  \n",
      "8   grid_2_model_15   0.4041686323602531  \n",
      "9    grid_2_model_8  0.40425952419479655  \n",
      "10  grid_2_model_16  0.40506114346292493  \n",
      "11  grid_2_model_24   0.4052926870872539  \n",
      "12  grid_2_model_25  0.40541215311797246  \n",
      "13   grid_2_model_1   0.4056139814964329  \n",
      "14  grid_2_model_13   0.4058243356864226  \n",
      "15  grid_2_model_14  0.40589523367734914  \n",
      "16   grid_2_model_9   0.4059096570099328  \n",
      "17  grid_2_model_37   0.4059232788797075  \n",
      "18  grid_2_model_35   0.4061371326643632  \n",
      "19  grid_2_model_20   0.4062633948557259  \n",
      "20  grid_2_model_12   0.4063842369419479  \n",
      "21  grid_2_model_40  0.40647582708676006  \n",
      "22  grid_2_model_17   0.4067559386810967  \n",
      "23  grid_2_model_41  0.40680182938327825  \n",
      "24  grid_2_model_42   0.4068899592408619  \n",
      "25  grid_2_model_38  0.40689324856226533  \n",
      "26   grid_2_model_6   0.4069375199282814  \n",
      "27   grid_2_model_2   0.4097777399112129  \n",
      "28  grid_2_model_43   0.4114598036592234  \n",
      "29  grid_2_model_39  0.41508926825958214  \n",
      "30  grid_2_model_18   0.4151526707748853  \n",
      "31   grid_2_model_3  0.41585338211679895  \n",
      "32  grid_2_model_47   0.4192242628400929  \n",
      "33  grid_2_model_36   0.4408661262519237  \n",
      "34  grid_2_model_19   0.4413942345713932  \n",
      "35  grid_2_model_21  0.44164154431907565  \n",
      "36  grid_2_model_48   0.4420481834952502  \n",
      "37  grid_2_model_44   0.4426277056441505  \n",
      "38   grid_2_model_0   0.4431491020589493  \n",
      "39  grid_2_model_30   0.4471750937025583  \n",
      "40   grid_2_model_4   0.4481397485344429  \n",
      "41   grid_2_model_5  0.45179166611241134  \n",
      "42  grid_2_model_27   0.4811336420994762  \n",
      "43  grid_2_model_29   0.4900663501631374  \n",
      "44  grid_2_model_33   0.5251586898056451  \n",
      "45  grid_2_model_22    0.535338190002637  \n",
      "46  grid_2_model_31   0.5582460693427502  \n",
      "47  grid_2_model_28   0.8459271477928687  \n",
      "48  grid_2_model_45   0.8789011085864036  \n",
      "49   grid_2_model_7   0.9747873247558968  \n",
      "\n"
     ]
    }
   ],
   "source": [
    "# train the grid and print results\n",
    "gs_2.train(x=features_list, \n",
    "           y=response_name, \n",
    "           training_frame=train,\n",
    "           validation_frame = valid)\n",
    "print(gs_2)"
   ]
  },
  {
   "cell_type": "code",
   "execution_count": 28,
   "metadata": {
    "collapsed": false
   },
   "outputs": [
    {
     "name": "stdout",
     "output_type": "stream",
     "text": [
      "\n",
      "Grid Search Results for H2OGradientBoostingEstimator: \n"
     ]
    },
    {
     "data": {
      "text/html": [
       "<div style=\"overflow:auto\"><table style=\"width:50%\"><tr><td><b>Model Id</b></td>\n",
       "<td><b>Hyperparameters: [nbins, col_sample_rate, min_split_improvement, col_sample_rate_per_tree, min_rows, col_sample_rate_change_per_level, nbins_cats, sample_rate, histogram_type, max_depth]</b></td>\n",
       "<td><b>auc(valid=True)</b></td></tr>\n",
       "<tr><td>grid_2_model_49</td>\n",
       "<td>[32, 0.33, 1e-08, 0.4300000000000001, 512.0, 1.0700000000000003, 1024, 0.5200000000000002, u'QuantilesGlobal', 4]</td>\n",
       "<td>0.8520805</td></tr>\n",
       "<tr><td>grid_2_model_11</td>\n",
       "<td>[32, 0.46000000000000013, 1e-06, 0.47000000000000014, 512.0, 0.9700000000000001, 512, 0.7500000000000004, u'QuantilesGlobal', 12]</td>\n",
       "<td>0.8518229</td></tr>\n",
       "<tr><td>grid_2_model_10</td>\n",
       "<td>[32, 0.7800000000000005, 0.0001, 0.6400000000000003, 1024.0, 0.91, 32, 0.5700000000000003, u'QuantilesGlobal', 19]</td>\n",
       "<td>0.8517322</td></tr>\n",
       "<tr><td>grid_2_model_23</td>\n",
       "<td>[16, 0.8700000000000006, 0.0001, 0.4100000000000001, 1024.0, 0.9600000000000001, 32, 0.4500000000000001, u'UniformAdaptive', 4]</td>\n",
       "<td>0.8516573</td></tr>\n",
       "<tr><td>grid_2_model_34</td>\n",
       "<td>[64, 0.6500000000000004, 1e-08, 0.7800000000000005, 1024.0, 1.0100000000000002, 1024, 0.3, u'UniformAdaptive', 19]</td>\n",
       "<td>0.8512789</td></tr>\n",
       "<tr><td>---</td>\n",
       "<td>---</td>\n",
       "<td>---</td></tr>\n",
       "<tr><td>grid_2_model_36</td>\n",
       "<td>[64, 0.37000000000000005, 1e-06, 0.8900000000000006, 2048.0, 0.9400000000000001, 128, 0.46000000000000013, u'QuantilesGlobal', 10]</td>\n",
       "<td>0.8150076</td></tr>\n",
       "<tr><td>grid_2_model_21</td>\n",
       "<td>[16, 0.46000000000000013, 1e-06, 0.6600000000000004, 2048.0, 1.04, 64, 0.9500000000000006, u'QuantilesGlobal', 4]</td>\n",
       "<td>0.8147645</td></tr>\n",
       "<tr><td>grid_2_model_0</td>\n",
       "<td>[256, 0.9000000000000006, 1e-08, 0.37000000000000005, 2048.0, 0.9500000000000001, 1024, 0.6300000000000003, u'RoundRobin', 28]</td>\n",
       "<td>0.8144281</td></tr>\n",
       "<tr><td>grid_2_model_19</td>\n",
       "<td>[16, 0.47000000000000014, 0.0, 0.9200000000000006, 2048.0, 1.0300000000000002, 1024, 0.8200000000000005, u'RoundRobin', 7]</td>\n",
       "<td>0.8144176</td></tr>\n",
       "<tr><td>grid_2_model_48</td>\n",
       "<td>[256, 0.5100000000000002, 0.0, 0.8800000000000006, 2048.0, 1.0, 32, 0.5000000000000002, u'RoundRobin', 3]</td>\n",
       "<td>0.8140864</td></tr></table></div>"
      ],
      "text/plain": [
       "Model Id         Hyperparameters: [nbins, col_sample_rate, min_split_improvement, col_sample_rate_per_tree, min_rows, col_sample_rate_change_per_level, nbins_cats, sample_rate, histogram_type, max_depth]    auc(valid=True)\n",
       "---------------  --------------------------------------------------------------------------------------------------------------------------------------------------------------------------------------------  -----------------\n",
       "grid_2_model_49  [32, 0.33, 1e-08, 0.4300000000000001, 512.0, 1.0700000000000003, 1024, 0.5200000000000002, u'QuantilesGlobal', 4]                                                                             0.852080453305\n",
       "grid_2_model_11  [32, 0.46000000000000013, 1e-06, 0.47000000000000014, 512.0, 0.9700000000000001, 512, 0.7500000000000004, u'QuantilesGlobal', 12]                                                             0.851822893396\n",
       "grid_2_model_10  [32, 0.7800000000000005, 0.0001, 0.6400000000000003, 1024.0, 0.91, 32, 0.5700000000000003, u'QuantilesGlobal', 19]                                                                            0.851732221796\n",
       "grid_2_model_23  [16, 0.8700000000000006, 0.0001, 0.4100000000000001, 1024.0, 0.9600000000000001, 32, 0.4500000000000001, u'UniformAdaptive', 4]                                                               0.851657319169\n",
       "grid_2_model_34  [64, 0.6500000000000004, 1e-08, 0.7800000000000005, 1024.0, 1.0100000000000002, 1024, 0.3, u'UniformAdaptive', 19]                                                                            0.851278863793\n",
       "---              ---                                                                                                                                                                                           ---\n",
       "grid_2_model_36  [64, 0.37000000000000005, 1e-06, 0.8900000000000006, 2048.0, 0.9400000000000001, 128, 0.46000000000000013, u'QuantilesGlobal', 10]                                                            0.815007595389\n",
       "grid_2_model_21  [16, 0.46000000000000013, 1e-06, 0.6600000000000004, 2048.0, 1.04, 64, 0.9500000000000006, u'QuantilesGlobal', 4]                                                                             0.814764490373\n",
       "grid_2_model_0   [256, 0.9000000000000006, 1e-08, 0.37000000000000005, 2048.0, 0.9500000000000001, 1024, 0.6300000000000003, u'RoundRobin', 28]                                                                0.814428085594\n",
       "grid_2_model_19  [16, 0.47000000000000014, 0.0, 0.9200000000000006, 2048.0, 1.0300000000000002, 1024, 0.8200000000000005, u'RoundRobin', 7]                                                                    0.814417572945\n",
       "grid_2_model_48  [256, 0.5100000000000002, 0.0, 0.8800000000000006, 2048.0, 1.0, 32, 0.5000000000000002, u'RoundRobin', 3]                                                                                     0.81408642449"
      ]
     },
     "metadata": {},
     "output_type": "display_data"
    },
    {
     "name": "stdout",
     "output_type": "stream",
     "text": [
      "\n",
      "See the whole table with table.as_data_frame()\n",
      "\n"
     ]
    }
   ],
   "source": [
    "# print out the auc for all of the models\n",
    "auc_table_2 = gs_2.sort_by('auc(valid=True)',increasing=False)\n",
    "print(auc_table_2)\n"
   ]
  },
  {
   "cell_type": "code",
   "execution_count": 29,
   "metadata": {
    "collapsed": false
   },
   "outputs": [
    {
     "name": "stdout",
     "output_type": "stream",
     "text": [
      "0.859391718201\n"
     ]
    }
   ],
   "source": [
    "# get the best model from the list (the model name listed at the top of the table)\n",
    "best_model = h2o.get_model('grid_2_model_41')\n",
    "test_performance_model = best_model.model_performance(test)\n",
    "\n",
    "# get the performance on the test model\n",
    "print test_performance_model.auc()"
   ]
  },
  {
   "cell_type": "code",
   "execution_count": 30,
   "metadata": {
    "collapsed": false
   },
   "outputs": [
    {
     "name": "stdout",
     "output_type": "stream",
     "text": [
      "\n",
      "gbm prediction Progress: [##################################################] 100%\n"
     ]
    },
    {
     "data": {
      "text/html": [
       "<table>\n",
       "<tr><th>predict  </th><th style=\"text-align: right;\">      No</th><th style=\"text-align: right;\">      Yes</th></tr>\n",
       "<tr><td>No       </td><td style=\"text-align: right;\">0.957239</td><td style=\"text-align: right;\">0.0427606</td></tr>\n",
       "<tr><td>No       </td><td style=\"text-align: right;\">0.961901</td><td style=\"text-align: right;\">0.0380993</td></tr>\n",
       "<tr><td>Yes      </td><td style=\"text-align: right;\">0.637631</td><td style=\"text-align: right;\">0.362369 </td></tr>\n",
       "<tr><td>No       </td><td style=\"text-align: right;\">0.879035</td><td style=\"text-align: right;\">0.120965 </td></tr>\n",
       "<tr><td>No       </td><td style=\"text-align: right;\">0.785426</td><td style=\"text-align: right;\">0.214574 </td></tr>\n",
       "<tr><td>Yes      </td><td style=\"text-align: right;\">0.522067</td><td style=\"text-align: right;\">0.477933 </td></tr>\n",
       "<tr><td>Yes      </td><td style=\"text-align: right;\">0.23311 </td><td style=\"text-align: right;\">0.76689  </td></tr>\n",
       "<tr><td>No       </td><td style=\"text-align: right;\">0.964092</td><td style=\"text-align: right;\">0.0359077</td></tr>\n",
       "<tr><td>Yes      </td><td style=\"text-align: right;\">0.465657</td><td style=\"text-align: right;\">0.534343 </td></tr>\n",
       "<tr><td>No       </td><td style=\"text-align: right;\">0.78968 </td><td style=\"text-align: right;\">0.21032  </td></tr>\n",
       "</table>"
      ]
     },
     "metadata": {},
     "output_type": "display_data"
    },
    {
     "data": {
      "text/plain": []
     },
     "execution_count": 30,
     "metadata": {},
     "output_type": "execute_result"
    }
   ],
   "source": [
    "# save a csv of the predictions:\n",
    "# first get the predictions from the best model\n",
    "best_model_predictions = best_model.predict(test)\n",
    "best_model_predictions.head()"
   ]
  },
  {
   "cell_type": "code",
   "execution_count": 32,
   "metadata": {
    "collapsed": false
   },
   "outputs": [],
   "source": [
    "# export predictions as a csv to the data analysis directory\n",
    "# h2o.h2o.export_file(best_model_predictions, path =\"https://s3.amazonaws.com/h2o-smalldata/TelcoChurn.csv\")"
   ]
  },
  {
   "cell_type": "code",
   "execution_count": null,
   "metadata": {
    "collapsed": true
   },
   "outputs": [],
   "source": []
  }
 ],
 "metadata": {
  "kernelspec": {
   "display_name": "Python 2",
   "language": "python",
   "name": "python2"
  },
  "language_info": {
   "codemirror_mode": {
    "name": "ipython",
    "version": 2
   },
   "file_extension": ".py",
   "mimetype": "text/x-python",
   "name": "python",
   "nbconvert_exporter": "python",
   "pygments_lexer": "ipython2",
   "version": "2.7.11"
  }
 },
 "nbformat": 4,
 "nbformat_minor": 0
}
