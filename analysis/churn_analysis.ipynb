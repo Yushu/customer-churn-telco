{
 "cells": [
  {
   "cell_type": "code",
   "execution_count": 84,
   "metadata": {
    "collapsed": false
   },
   "outputs": [],
   "source": [
    "# h2o.shutdown()"
   ]
  },
  {
   "cell_type": "code",
   "execution_count": 85,
   "metadata": {
    "collapsed": false
   },
   "outputs": [
    {
     "name": "stdout",
     "output_type": "stream",
     "text": [
      "\n",
      "\n",
      "No instance found at ip and port: localhost:54321. Trying to start local jar...\n",
      "\n",
      "\n",
      "JVM stdout: /var/folders/k_/kpp1czqs3957vq2pr5qngck00000gn/T/tmpmi3xAu/h2o_laurend_started_from_python.out\n",
      "JVM stderr: /var/folders/k_/kpp1czqs3957vq2pr5qngck00000gn/T/tmpH2Dof_/h2o_laurend_started_from_python.err\n",
      "Using ice_root: /var/folders/k_/kpp1czqs3957vq2pr5qngck00000gn/T/tmp3oP_Ba\n",
      "\n",
      "\n",
      "Java Version: java version \"1.8.0_73\"\n",
      "Java(TM) SE Runtime Environment (build 1.8.0_73-b02)\n",
      "Java HotSpot(TM) 64-Bit Server VM (build 25.73-b02, mixed mode)\n",
      "\n",
      "\n",
      "Starting H2O JVM and connecting: ........... Connection successful!\n"
     ]
    },
    {
     "data": {
      "text/html": [
       "<div style=\"overflow:auto\"><table style=\"width:50%\"><tr><td>H2O cluster uptime: </td>\n",
       "<td>1 seconds 260 milliseconds </td></tr>\n",
       "<tr><td>H2O cluster version: </td>\n",
       "<td>3.8.3.3</td></tr>\n",
       "<tr><td>H2O cluster name: </td>\n",
       "<td>H2O_started_from_python_laurend_gcr878</td></tr>\n",
       "<tr><td>H2O cluster total nodes: </td>\n",
       "<td>1</td></tr>\n",
       "<tr><td>H2O cluster total free memory: </td>\n",
       "<td>3.56 GB</td></tr>\n",
       "<tr><td>H2O cluster total cores: </td>\n",
       "<td>8</td></tr>\n",
       "<tr><td>H2O cluster allowed cores: </td>\n",
       "<td>8</td></tr>\n",
       "<tr><td>H2O cluster healthy: </td>\n",
       "<td>True</td></tr>\n",
       "<tr><td>H2O Connection ip: </td>\n",
       "<td>127.0.0.1</td></tr>\n",
       "<tr><td>H2O Connection port: </td>\n",
       "<td>54321</td></tr>\n",
       "<tr><td>H2O Connection proxy: </td>\n",
       "<td>None</td></tr>\n",
       "<tr><td>Python Version: </td>\n",
       "<td>2.7.11</td></tr></table></div>"
      ],
      "text/plain": [
       "------------------------------  --------------------------------------\n",
       "H2O cluster uptime:             1 seconds 260 milliseconds\n",
       "H2O cluster version:            3.8.3.3\n",
       "H2O cluster name:               H2O_started_from_python_laurend_gcr878\n",
       "H2O cluster total nodes:        1\n",
       "H2O cluster total free memory:  3.56 GB\n",
       "H2O cluster total cores:        8\n",
       "H2O cluster allowed cores:      8\n",
       "H2O cluster healthy:            True\n",
       "H2O Connection ip:              127.0.0.1\n",
       "H2O Connection port:            54321\n",
       "H2O Connection proxy:\n",
       "Python Version:                 2.7.11\n",
       "------------------------------  --------------------------------------"
      ]
     },
     "metadata": {},
     "output_type": "display_data"
    }
   ],
   "source": [
    "import h2o\n",
    "import numpy as np\n",
    "import math\n",
    "import warnings\n",
    "warnings.filterwarnings('ignore', category=DeprecationWarning, module='.*/jupyter/.*')\n",
    "h2o.init(nthreads = -1)\n"
   ]
  },
  {
   "cell_type": "markdown",
   "metadata": {},
   "source": [
    "# Summary Notes\n",
    "\n",
    "* use gbm (consider all options, for comparison)\n",
    "* AUC to set threshold\n",
    "* Compare machine learning models to regular group by models\n",
    "* remove the customerID since that is the same as a row index\n",
    "* todo: fill in missing values for TotalCharges column\n",
    "* todo: compare different stratified functions and parameter to see if they stratify in the same way *(i.e. split_frame(ratios=None, destination_frames=None, seed=None), stratified_kfold_column(n_folds=3, seed=-1), stratified_split(test_frac=0.2, seed=-1, and fold_assignment=\"Stratified\" for the GBM estimator)*\n"
   ]
  },
  {
   "cell_type": "code",
   "execution_count": 86,
   "metadata": {
    "collapsed": false
   },
   "outputs": [
    {
     "name": "stdout",
     "output_type": "stream",
     "text": [
      "\n",
      "Parse Progress: [##################################################] 100%\n"
     ]
    }
   ],
   "source": [
    "# A small clean telecommunications sample dataset (https://www.ibm.com/communities/analytics/watson-analytics-blog/predictive-insights-in-the-telco-customer-churn-data-set/\n",
    "telco_dataset = h2o.import_file(\"https://s3.amazonaws.com/h2o-smalldata/TelcoChurn.csv\")"
   ]
  },
  {
   "cell_type": "code",
   "execution_count": 87,
   "metadata": {
    "collapsed": false
   },
   "outputs": [
    {
     "name": "stdout",
     "output_type": "stream",
     "text": [
      "[0.0, 0.0, 0.0, 0.0, 0.0, 0.0, 0.0, 0.0, 0.0, 0.0, 0.0, 0.0, 0.0, 0.0, 0.0, 0.0, 0.0, 0.0, 0.0, 11.0, 0.0]\n",
      "Rows:7,043 Cols:21\n",
      "\n",
      "Chunk compression summary: \n"
     ]
    },
    {
     "data": {
      "text/html": [
       "<div style=\"overflow:auto\"><table style=\"width:50%\"><tr><td><b>chunk_type</b></td>\n",
       "<td><b>chunk_name</b></td>\n",
       "<td><b>count</b></td>\n",
       "<td><b>count_percentage</b></td>\n",
       "<td><b>size</b></td>\n",
       "<td><b>size_percentage</b></td></tr>\n",
       "<tr><td>CBS</td>\n",
       "<td>Bits</td>\n",
       "<td>7</td>\n",
       "<td>33.3333343</td>\n",
       "<td>    6.5 KB</td>\n",
       "<td>2.8568119</td></tr>\n",
       "<tr><td>C1N</td>\n",
       "<td>1-Byte Integers (w/o NAs)</td>\n",
       "<td>11</td>\n",
       "<td>52.3809552</td>\n",
       "<td>   76.4 KB</td>\n",
       "<td>33.5680753</td></tr>\n",
       "<tr><td>C2S</td>\n",
       "<td>2-Byte Fractions</td>\n",
       "<td>1</td>\n",
       "<td>4.7619049</td>\n",
       "<td>   13.8 KB</td>\n",
       "<td>6.0809709</td></tr>\n",
       "<tr><td>C4S</td>\n",
       "<td>4-Byte Fractions</td>\n",
       "<td>1</td>\n",
       "<td>4.7619049</td>\n",
       "<td>   27.6 KB</td>\n",
       "<td>12.1258937</td></tr>\n",
       "<tr><td>CStr</td>\n",
       "<td>String</td>\n",
       "<td>1</td>\n",
       "<td>4.7619049</td>\n",
       "<td>  103.2 KB</td>\n",
       "<td>45.3682482</td></tr></table></div>"
      ],
      "text/plain": [
       "chunk_type    chunk_name                 count    count_percentage    size      size_percentage\n",
       "------------  -------------------------  -------  ------------------  --------  -----------------\n",
       "CBS           Bits                       7        33.3333             6.5 KB    2.85681\n",
       "C1N           1-Byte Integers (w/o NAs)  11       52.381              76.4 KB   33.5681\n",
       "C2S           2-Byte Fractions           1        4.7619              13.8 KB   6.08097\n",
       "C4S           4-Byte Fractions           1        4.7619              27.6 KB   12.1259\n",
       "CStr          String                     1        4.7619              103.2 KB  45.3682"
      ]
     },
     "metadata": {},
     "output_type": "display_data"
    },
    {
     "name": "stdout",
     "output_type": "stream",
     "text": [
      "\n",
      "Frame distribution summary: \n"
     ]
    },
    {
     "data": {
      "text/html": [
       "<div style=\"overflow:auto\"><table style=\"width:50%\"><tr><td><b></b></td>\n",
       "<td><b>size</b></td>\n",
       "<td><b>number_of_rows</b></td>\n",
       "<td><b>number_of_chunks_per_column</b></td>\n",
       "<td><b>number_of_chunks</b></td></tr>\n",
       "<tr><td>127.0.0.1:54321</td>\n",
       "<td>  227.6 KB</td>\n",
       "<td>7043.0</td>\n",
       "<td>1.0</td>\n",
       "<td>21.0</td></tr>\n",
       "<tr><td>mean</td>\n",
       "<td>  227.6 KB</td>\n",
       "<td>7043.0</td>\n",
       "<td>1.0</td>\n",
       "<td>21.0</td></tr>\n",
       "<tr><td>min</td>\n",
       "<td>  227.6 KB</td>\n",
       "<td>7043.0</td>\n",
       "<td>1.0</td>\n",
       "<td>21.0</td></tr>\n",
       "<tr><td>max</td>\n",
       "<td>  227.6 KB</td>\n",
       "<td>7043.0</td>\n",
       "<td>1.0</td>\n",
       "<td>21.0</td></tr>\n",
       "<tr><td>stddev</td>\n",
       "<td>      0  B</td>\n",
       "<td>0.0</td>\n",
       "<td>0.0</td>\n",
       "<td>0.0</td></tr>\n",
       "<tr><td>total</td>\n",
       "<td>  227.6 KB</td>\n",
       "<td>7043.0</td>\n",
       "<td>1.0</td>\n",
       "<td>21.0</td></tr></table></div>"
      ],
      "text/plain": [
       "                 size      number_of_rows    number_of_chunks_per_column    number_of_chunks\n",
       "---------------  --------  ----------------  -----------------------------  ------------------\n",
       "127.0.0.1:54321  227.6 KB  7043              1                              21\n",
       "mean             227.6 KB  7043              1                              21\n",
       "min              227.6 KB  7043              1                              21\n",
       "max              227.6 KB  7043              1                              21\n",
       "stddev           0  B      0                 0                              0\n",
       "total            227.6 KB  7043              1                              21"
      ]
     },
     "metadata": {},
     "output_type": "display_data"
    },
    {
     "name": "stdout",
     "output_type": "stream",
     "text": [
      "\n",
      "\n"
     ]
    },
    {
     "data": {
      "text/html": [
       "<table>\n",
       "<tr><th>       </th><th>customerID  </th><th>gender        </th><th>SeniorCitizen  </th><th>Partner       </th><th>Dependents    </th><th>tenure       </th><th>PhoneService  </th><th>MultipleLines   </th><th>InternetService  </th><th>OnlineSecurity  </th><th>OnlineBackup  </th><th>DeviceProtection  </th><th>TechSupport  </th><th>StreamingTV  </th><th>StreamingMovies  </th><th>Contract      </th><th>PaperlessBilling  </th><th>PaymentMethod            </th><th>MonthlyCharges  </th><th>TotalCharges  </th><th>Churn         </th></tr>\n",
       "<tr><td>type   </td><td>string      </td><td>enum          </td><td>int            </td><td>enum          </td><td>enum          </td><td>int          </td><td>enum          </td><td>enum            </td><td>enum             </td><td>enum            </td><td>enum          </td><td>enum              </td><td>enum         </td><td>enum         </td><td>enum             </td><td>enum          </td><td>enum              </td><td>enum                     </td><td>real            </td><td>real          </td><td>enum          </td></tr>\n",
       "<tr><td>mins   </td><td>NaN         </td><td>0.0           </td><td>0.0            </td><td>0.0           </td><td>0.0           </td><td>0.0          </td><td>0.0           </td><td>0.0             </td><td>0.0              </td><td>0.0             </td><td>0.0           </td><td>0.0               </td><td>0.0          </td><td>0.0          </td><td>0.0              </td><td>0.0           </td><td>0.0               </td><td>0.0                      </td><td>18.25           </td><td>18.8          </td><td>0.0           </td></tr>\n",
       "<tr><td>mean   </td><td>NaN         </td><td>0.504756495811</td><td>0.162146812438 </td><td>0.483032798523</td><td>0.299588243646</td><td>32.3711486582</td><td>0.903166264376</td><td>NaN             </td><td>NaN              </td><td>NaN             </td><td>NaN           </td><td>NaN               </td><td>NaN          </td><td>NaN          </td><td>NaN              </td><td>NaN           </td><td>0.592219224762    </td><td>NaN                      </td><td>64.7616924606   </td><td>2283.30044084 </td><td>0.265369870794</td></tr>\n",
       "<tr><td>maxs   </td><td>NaN         </td><td>1.0           </td><td>1.0            </td><td>1.0           </td><td>1.0           </td><td>72.0         </td><td>1.0           </td><td>2.0             </td><td>2.0              </td><td>2.0             </td><td>2.0           </td><td>2.0               </td><td>2.0          </td><td>2.0          </td><td>2.0              </td><td>2.0           </td><td>1.0               </td><td>3.0                      </td><td>118.75          </td><td>8684.8        </td><td>1.0           </td></tr>\n",
       "<tr><td>sigma  </td><td>NaN         </td><td>0.500012873647</td><td>0.36861160561  </td><td>0.49974751072 </td><td>0.45811016751 </td><td>24.5594810231</td><td>0.295752231784</td><td>NaN             </td><td>NaN              </td><td>NaN             </td><td>NaN           </td><td>NaN               </td><td>NaN          </td><td>NaN          </td><td>NaN              </td><td>NaN           </td><td>0.491456924049    </td><td>NaN                      </td><td>30.0900470977   </td><td>2266.77136188 </td><td>0.441561305122</td></tr>\n",
       "<tr><td>zeros  </td><td>0           </td><td>3488          </td><td>5901           </td><td>3641          </td><td>4933          </td><td>11           </td><td>682           </td><td>3390            </td><td>2421             </td><td>3498            </td><td>3088          </td><td>3095              </td><td>3473         </td><td>2810         </td><td>2785             </td><td>3875          </td><td>2872              </td><td>1544                     </td><td>0               </td><td>0             </td><td>5174          </td></tr>\n",
       "<tr><td>missing</td><td>0           </td><td>0             </td><td>0              </td><td>0             </td><td>0             </td><td>0            </td><td>0             </td><td>0               </td><td>0                </td><td>0               </td><td>0             </td><td>0                 </td><td>0            </td><td>0            </td><td>0                </td><td>0             </td><td>0                 </td><td>0                        </td><td>0               </td><td>11            </td><td>0             </td></tr>\n",
       "<tr><td>0      </td><td>7590-VHVEG  </td><td>Female        </td><td>0.0            </td><td>Yes           </td><td>No            </td><td>1.0          </td><td>No            </td><td>No phone service</td><td>DSL              </td><td>No              </td><td>Yes           </td><td>No                </td><td>No           </td><td>No           </td><td>No               </td><td>Month-to-month</td><td>Yes               </td><td>Electronic check         </td><td>29.85           </td><td>29.85         </td><td>No            </td></tr>\n",
       "<tr><td>1      </td><td>5575-GNVDE  </td><td>Male          </td><td>0.0            </td><td>No            </td><td>No            </td><td>34.0         </td><td>Yes           </td><td>No              </td><td>DSL              </td><td>Yes             </td><td>No            </td><td>Yes               </td><td>No           </td><td>No           </td><td>No               </td><td>One year      </td><td>No                </td><td>Mailed check             </td><td>56.95           </td><td>1889.5        </td><td>No            </td></tr>\n",
       "<tr><td>2      </td><td>3668-QPYBK  </td><td>Male          </td><td>0.0            </td><td>No            </td><td>No            </td><td>2.0          </td><td>Yes           </td><td>No              </td><td>DSL              </td><td>Yes             </td><td>Yes           </td><td>No                </td><td>No           </td><td>No           </td><td>No               </td><td>Month-to-month</td><td>Yes               </td><td>Mailed check             </td><td>53.85           </td><td>108.15        </td><td>Yes           </td></tr>\n",
       "<tr><td>3      </td><td>7795-CFOCW  </td><td>Male          </td><td>0.0            </td><td>No            </td><td>No            </td><td>45.0         </td><td>No            </td><td>No phone service</td><td>DSL              </td><td>Yes             </td><td>No            </td><td>Yes               </td><td>Yes          </td><td>No           </td><td>No               </td><td>One year      </td><td>No                </td><td>Bank transfer (automatic)</td><td>42.3            </td><td>1840.75       </td><td>No            </td></tr>\n",
       "<tr><td>4      </td><td>9237-HQITU  </td><td>Female        </td><td>0.0            </td><td>No            </td><td>No            </td><td>2.0          </td><td>Yes           </td><td>No              </td><td>Fiber optic      </td><td>No              </td><td>No            </td><td>No                </td><td>No           </td><td>No           </td><td>No               </td><td>Month-to-month</td><td>Yes               </td><td>Electronic check         </td><td>70.7            </td><td>151.65        </td><td>Yes           </td></tr>\n",
       "<tr><td>5      </td><td>9305-CDSKC  </td><td>Female        </td><td>0.0            </td><td>No            </td><td>No            </td><td>8.0          </td><td>Yes           </td><td>Yes             </td><td>Fiber optic      </td><td>No              </td><td>No            </td><td>Yes               </td><td>No           </td><td>Yes          </td><td>Yes              </td><td>Month-to-month</td><td>Yes               </td><td>Electronic check         </td><td>99.65           </td><td>820.5         </td><td>Yes           </td></tr>\n",
       "<tr><td>6      </td><td>1452-KIOVK  </td><td>Male          </td><td>0.0            </td><td>No            </td><td>Yes           </td><td>22.0         </td><td>Yes           </td><td>Yes             </td><td>Fiber optic      </td><td>No              </td><td>Yes           </td><td>No                </td><td>No           </td><td>Yes          </td><td>No               </td><td>Month-to-month</td><td>Yes               </td><td>Credit card (automatic)  </td><td>89.1            </td><td>1949.4        </td><td>No            </td></tr>\n",
       "<tr><td>7      </td><td>6713-OKOMC  </td><td>Female        </td><td>0.0            </td><td>No            </td><td>No            </td><td>10.0         </td><td>No            </td><td>No phone service</td><td>DSL              </td><td>Yes             </td><td>No            </td><td>No                </td><td>No           </td><td>No           </td><td>No               </td><td>Month-to-month</td><td>No                </td><td>Mailed check             </td><td>29.75           </td><td>301.9         </td><td>No            </td></tr>\n",
       "<tr><td>8      </td><td>7892-POOKP  </td><td>Female        </td><td>0.0            </td><td>Yes           </td><td>No            </td><td>28.0         </td><td>Yes           </td><td>Yes             </td><td>Fiber optic      </td><td>No              </td><td>No            </td><td>Yes               </td><td>Yes          </td><td>Yes          </td><td>Yes              </td><td>Month-to-month</td><td>Yes               </td><td>Electronic check         </td><td>104.8           </td><td>3046.05       </td><td>Yes           </td></tr>\n",
       "<tr><td>9      </td><td>6388-TABGU  </td><td>Male          </td><td>0.0            </td><td>No            </td><td>Yes           </td><td>62.0         </td><td>Yes           </td><td>No              </td><td>DSL              </td><td>Yes             </td><td>Yes           </td><td>No                </td><td>No           </td><td>No           </td><td>No               </td><td>One year      </td><td>No                </td><td>Bank transfer (automatic)</td><td>56.15           </td><td>3487.95       </td><td>No            </td></tr>\n",
       "</table>"
      ]
     },
     "metadata": {},
     "output_type": "display_data"
    }
   ],
   "source": [
    "# get a summary of the dataset\n",
    "print telco_dataset.nacnt()\n",
    "telco_dataset.describe()"
   ]
  },
  {
   "cell_type": "code",
   "execution_count": 88,
   "metadata": {
    "collapsed": false
   },
   "outputs": [
    {
     "data": {
      "text/plain": [
       "[u'customerID',\n",
       " u'gender',\n",
       " u'SeniorCitizen',\n",
       " u'Partner',\n",
       " u'Dependents',\n",
       " u'tenure',\n",
       " u'PhoneService',\n",
       " u'MultipleLines',\n",
       " u'InternetService',\n",
       " u'OnlineSecurity',\n",
       " u'OnlineBackup',\n",
       " u'DeviceProtection',\n",
       " u'TechSupport',\n",
       " u'StreamingTV',\n",
       " u'StreamingMovies',\n",
       " u'Contract',\n",
       " u'PaperlessBilling',\n",
       " u'PaymentMethod',\n",
       " u'MonthlyCharges',\n",
       " u'TotalCharges',\n",
       " u'Churn']"
      ]
     },
     "execution_count": 88,
     "metadata": {},
     "output_type": "execute_result"
    }
   ],
   "source": [
    "# what does each column tell you, make sure type is correct, and see if new features need to be created with strings\n",
    "telco_dataset.columns"
   ]
  },
  {
   "cell_type": "code",
   "execution_count": 89,
   "metadata": {
    "collapsed": false
   },
   "outputs": [
    {
     "data": {
      "text/plain": [
       "7043"
      ]
     },
     "execution_count": 89,
     "metadata": {},
     "output_type": "execute_result"
    }
   ],
   "source": [
    "# check whether the customerID column is unique per row, if so use as an index and remove from the predictors\n",
    "telco_dataset['customerID'].asfactor().unique().nrow\n"
   ]
  },
  {
   "cell_type": "code",
   "execution_count": 90,
   "metadata": {
    "collapsed": false
   },
   "outputs": [],
   "source": [
    "# select all columns as predictors except the customerID (which is like an index) and the response column\n",
    "features_list = list(telco_dataset.columns[1:-1])\n",
    "response_name = 'Churn'"
   ]
  },
  {
   "cell_type": "code",
   "execution_count": 91,
   "metadata": {
    "collapsed": false
   },
   "outputs": [
    {
     "name": "stdout",
     "output_type": "stream",
     "text": [
      "the response classes are: [['No', 'Yes']]\n",
      "number of classes: [2]\n",
      "\n",
      "Is the response column a categorical: [True]\n",
      "\n",
      "there are 11.0 missing values in the dataset\n",
      "there are 0.0 missing values in the labels\n",
      "\n",
      "check for class imbalace\n",
      "------------------------\n",
      "the dataset is not imbalanced, neither class is less then 10% of the whole (as shown below)\n"
     ]
    },
    {
     "data": {
      "text/html": [
       "<table>\n",
       "<tr><th style=\"text-align: right;\">  Count</th></tr>\n",
       "<tr><td style=\"text-align: right;\">0.73463</td></tr>\n",
       "<tr><td style=\"text-align: right;\">0.26537</td></tr>\n",
       "</table>"
      ]
     },
     "metadata": {},
     "output_type": "display_data"
    },
    {
     "data": {
      "text/plain": []
     },
     "execution_count": 91,
     "metadata": {},
     "output_type": "execute_result"
    }
   ],
   "source": [
    "# specify the response column\n",
    "response_col = telco_dataset[response_name]\n",
    "# get a list of the categorical levels in your response column\n",
    "print 'the response classes are:',response_col.levels()\n",
    "print 'number of classes:', response_col.nlevels()\n",
    "print ''\n",
    "# check that the response column is already interpreted as a factor (i.e. enum/categorical)\n",
    "print 'Is the response column a categorical:',response_col.isfactor()\n",
    "# check that there are two levels in our response column:\n",
    "response_col.nlevels()\n",
    "print ''\n",
    "# check for missing values in the training set and specifically the response column\n",
    "print 'there are {0} missing values in the dataset'.format(telco_dataset.isna().sum())\n",
    "print 'there are {0} missing values in the labels'.format(telco_dataset[response_col].isna().sum())\n",
    "print ''\n",
    "\n",
    "print 'check for class imbalace'\n",
    "print '------------------------'\n",
    "num_train_samples = telco_dataset.shape[0]  # Total number of training samples\n",
    "print 'the dataset is not imbalanced, neither class is less then 10% of the whole (as shown below)'\n",
    "telco_dataset[response_name].table()['Count']/num_train_samples\n",
    "\n"
   ]
  },
  {
   "cell_type": "code",
   "execution_count": 92,
   "metadata": {
    "collapsed": false
   },
   "outputs": [
    {
     "name": "stdout",
     "output_type": "stream",
     "text": [
      "0.0\n"
     ]
    }
   ],
   "source": [
    "# create a new column that is the same as tenure but it replaces tenure = 0 with tenure = 1\n",
    "# tenure = 0 corresponds to people who have be a customer less then a month but have still payed\n",
    "# the monthly fee:\n",
    "telco_dataset['new_tenure_col'] = (telco_dataset['tenure'] == 0).ifelse(1, telco_dataset['tenure'])\n",
    "\n",
    "# impute TotalCharges from MonthlyCharges and tenure (i.e. TotalCharges = tenure * MonthlyCharges)\n",
    "# if TotalCharges value is missing fill in, if not leave as is\n",
    "telco_dataset['TotalCharges'] = (telco_dataset['TotalCharges'].isna() == 1).ifelse(\n",
    "    (telco_dataset['MonthlyCharges']  * telco_dataset['new_tenure_col']), telco_dataset['TotalCharges'])\n",
    "\n",
    "# remove new tenure col when done\n",
    "telco_dataset= telco_dataset.drop('new_tenure_col')\n",
    "# check that there are no more missing values\n",
    "print telco_dataset['TotalCharges'].isna().sum()"
   ]
  },
  {
   "cell_type": "code",
   "execution_count": 93,
   "metadata": {
    "collapsed": false
   },
   "outputs": [
    {
     "name": "stdout",
     "output_type": "stream",
     "text": [
      "gender      Count\n",
      "--------  -------\n",
      "Female       3488\n",
      "Male         3555\n",
      "\n",
      "[2 rows x 2 columns]\n",
      "~~~~~~~~~~~~~~~~~~~~~~~~~~~~~~~~~~~~~~\n",
      "  SeniorCitizen    Count\n",
      "---------------  -------\n",
      "              0     5901\n",
      "              1     1142\n",
      "\n",
      "[2 rows x 2 columns]\n",
      "~~~~~~~~~~~~~~~~~~~~~~~~~~~~~~~~~~~~~~\n",
      "Partner      Count\n",
      "---------  -------\n",
      "No            3641\n",
      "Yes           3402\n",
      "\n",
      "[2 rows x 2 columns]\n",
      "~~~~~~~~~~~~~~~~~~~~~~~~~~~~~~~~~~~~~~\n",
      "Dependents      Count\n",
      "------------  -------\n",
      "No               4933\n",
      "Yes              2110\n",
      "\n",
      "[2 rows x 2 columns]\n",
      "~~~~~~~~~~~~~~~~~~~~~~~~~~~~~~~~~~~~~~\n",
      "  tenure    Count\n",
      "--------  -------\n",
      "       0       11\n",
      "       1      613\n",
      "       2      238\n",
      "       3      200\n",
      "       4      176\n",
      "       5      133\n",
      "       6      110\n",
      "       7      131\n",
      "       8      123\n",
      "       9      119\n",
      "\n",
      "[73 rows x 2 columns]\n",
      "~~~~~~~~~~~~~~~~~~~~~~~~~~~~~~~~~~~~~~\n",
      "PhoneService      Count\n",
      "--------------  -------\n",
      "No                  682\n",
      "Yes                6361\n",
      "\n",
      "[2 rows x 2 columns]\n",
      "~~~~~~~~~~~~~~~~~~~~~~~~~~~~~~~~~~~~~~\n",
      "MultipleLines       Count\n",
      "----------------  -------\n",
      "No                   3390\n",
      "No phone service      682\n",
      "Yes                  2971\n",
      "\n",
      "[3 rows x 2 columns]\n",
      "~~~~~~~~~~~~~~~~~~~~~~~~~~~~~~~~~~~~~~\n",
      "InternetService      Count\n",
      "-----------------  -------\n",
      "DSL                   2421\n",
      "Fiber optic           3096\n",
      "No                    1526\n",
      "\n",
      "[3 rows x 2 columns]\n",
      "~~~~~~~~~~~~~~~~~~~~~~~~~~~~~~~~~~~~~~\n",
      "OnlineSecurity         Count\n",
      "-------------------  -------\n",
      "No                      3498\n",
      "No internet service     1526\n",
      "Yes                     2019\n",
      "\n",
      "[3 rows x 2 columns]\n",
      "~~~~~~~~~~~~~~~~~~~~~~~~~~~~~~~~~~~~~~\n",
      "OnlineBackup           Count\n",
      "-------------------  -------\n",
      "No                      3088\n",
      "No internet service     1526\n",
      "Yes                     2429\n",
      "\n",
      "[3 rows x 2 columns]\n",
      "~~~~~~~~~~~~~~~~~~~~~~~~~~~~~~~~~~~~~~\n",
      "DeviceProtection       Count\n",
      "-------------------  -------\n",
      "No                      3095\n",
      "No internet service     1526\n",
      "Yes                     2422\n",
      "\n",
      "[3 rows x 2 columns]\n",
      "~~~~~~~~~~~~~~~~~~~~~~~~~~~~~~~~~~~~~~\n",
      "TechSupport            Count\n",
      "-------------------  -------\n",
      "No                      3473\n",
      "No internet service     1526\n",
      "Yes                     2044\n",
      "\n",
      "[3 rows x 2 columns]\n",
      "~~~~~~~~~~~~~~~~~~~~~~~~~~~~~~~~~~~~~~\n",
      "StreamingTV            Count\n",
      "-------------------  -------\n",
      "No                      2810\n",
      "No internet service     1526\n",
      "Yes                     2707\n",
      "\n",
      "[3 rows x 2 columns]\n",
      "~~~~~~~~~~~~~~~~~~~~~~~~~~~~~~~~~~~~~~\n",
      "StreamingMovies        Count\n",
      "-------------------  -------\n",
      "No                      2785\n",
      "No internet service     1526\n",
      "Yes                     2732\n",
      "\n",
      "[3 rows x 2 columns]\n",
      "~~~~~~~~~~~~~~~~~~~~~~~~~~~~~~~~~~~~~~\n",
      "Contract          Count\n",
      "--------------  -------\n",
      "Month-to-month     3875\n",
      "One year           1473\n",
      "Two year           1695\n",
      "\n",
      "[3 rows x 2 columns]\n",
      "~~~~~~~~~~~~~~~~~~~~~~~~~~~~~~~~~~~~~~\n",
      "PaperlessBilling      Count\n",
      "------------------  -------\n",
      "No                     2872\n",
      "Yes                    4171\n",
      "\n",
      "[2 rows x 2 columns]\n",
      "~~~~~~~~~~~~~~~~~~~~~~~~~~~~~~~~~~~~~~\n",
      "PaymentMethod                Count\n",
      "-------------------------  -------\n",
      "Bank transfer (automatic)     1544\n",
      "Credit card (automatic)       1522\n",
      "Electronic check              2365\n",
      "Mailed check                  1612\n",
      "\n",
      "[4 rows x 2 columns]\n",
      "~~~~~~~~~~~~~~~~~~~~~~~~~~~~~~~~~~~~~~\n"
     ]
    }
   ],
   "source": [
    "# print out the count for each categorical feature level (this excludes monthly charges and total charges)\n",
    "for column_name in telco_dataset.columns[1:-3]:\n",
    "    print telco_dataset[str(column_name)].table()\n",
    "    print '~~~~~~~~~~~~~~~~~~~~~~~~~~~~~~~~~~~~~~'\n",
    "    "
   ]
  },
  {
   "cell_type": "code",
   "execution_count": 94,
   "metadata": {
    "collapsed": true
   },
   "outputs": [],
   "source": [
    "# split your datasets and set seed so the split is the same each time the code is run\n",
    "train, valid, test = telco_dataset.split_frame(ratios=[0.70,0.15], seed=1234)"
   ]
  },
  {
   "cell_type": "code",
   "execution_count": 95,
   "metadata": {
    "collapsed": false
   },
   "outputs": [
    {
     "name": "stdout",
     "output_type": "stream",
     "text": [
      "(4945, 21)\n",
      "(1040, 21)\n",
      "(1058, 21)\n",
      "7043\n"
     ]
    }
   ],
   "source": [
    "# check that the split went as expected, print out the dimensions of each dataset\n",
    "# and then print their sum\n",
    "print train.shape\n",
    "print valid.shape\n",
    "print test.shape\n",
    "print train.shape[0] + valid.shape[0] + test.shape[0]"
   ]
  },
  {
   "cell_type": "code",
   "execution_count": 96,
   "metadata": {
    "collapsed": false
   },
   "outputs": [
    {
     "name": "stdout",
     "output_type": "stream",
     "text": [
      "\n",
      "gbm Model Build Progress: [##################################################] 100%\n",
      "train auc: 0.901181015724\n",
      "validation auc: 0.848169251566\n"
     ]
    }
   ],
   "source": [
    "# run gbm estimator with the default parameters to establish a benchmark model \n",
    "\n",
    "# import GBM estimator with default parameters (set seed for reproducibility)\n",
    "from h2o.estimators.gbm import H2OGradientBoostingEstimator\n",
    "default_model = H2OGradientBoostingEstimator(distribution= 'bernoulli', seed = 1234)\n",
    "\n",
    "# train the default model\n",
    "default_model.train(x=features_list, y=response_name, training_frame=train)\n",
    "\n",
    "# get the AUC for the training set\n",
    "print 'train auc:', default_model.auc() \n",
    "\n",
    "# get the AUC for the validation set\n",
    "default_perf_on_valid = default_model.model_performance(valid)\n",
    "print 'validation auc:', default_perf_on_valid.auc()"
   ]
  },
  {
   "cell_type": "code",
   "execution_count": 97,
   "metadata": {
    "collapsed": false
   },
   "outputs": [
    {
     "name": "stdout",
     "output_type": "stream",
     "text": [
      "\n",
      "gbm Model Build Progress: [##################################################] 100%\n",
      "train auc: 0.87052692852\n",
      "validation auc: 0.848343677777\n"
     ]
    }
   ],
   "source": [
    "# using parameters from https://github.com/h2oai/h2o-3/blob/master/h2o-docs/src/product/tutorials/gbm/gbmTuning.ipynb\n",
    "# this model overfits less on the training set\n",
    "model_0 = H2OGradientBoostingEstimator(distribution='bernoulli',\n",
    "                                    ntrees=10000,\n",
    "                                    max_depth=4,\n",
    "                                    learn_rate=0.01,\n",
    "                                    stopping_rounds = 5, stopping_tolerance = 1e-4, stopping_metric = \"AUC\",\n",
    "                                    sample_rate = 0.8,\n",
    "                                    col_sample_rate = 0.8,\n",
    "                                    seed = 1234,\n",
    "                                    score_tree_interval = 10)\n",
    "\n",
    "model_0.train(x=features_list, \n",
    "              y=response_name, \n",
    "              training_frame=train,\n",
    "              validation_frame = valid)\n",
    "\n",
    "# get the AUC for the training set\n",
    "print 'train auc:', model_0.auc() \n",
    "\n",
    "# get the AUC for the validation set\n",
    "model_0_perf_on_valid = model_0.model_performance(valid)\n",
    "print 'validation auc:', model_0_perf_on_valid.auc()"
   ]
  },
  {
   "cell_type": "markdown",
   "metadata": {},
   "source": [
    "## Grid Search\n",
    "First we want to know what value of max_depth to use because it has a big impact on the model training time and optimal values depend strongly on the dataset. We'll do a quick Cartesian grid search to get a rough idea of good candidate max_depth values. Each model in the grid search will use early stopping to tune the number of trees using the validation set AUC, as before."
   ]
  },
  {
   "cell_type": "code",
   "execution_count": 98,
   "metadata": {
    "collapsed": false
   },
   "outputs": [
    {
     "name": "stdout",
     "output_type": "stream",
     "text": [
      "\n",
      "gbm Grid Build Progress: [##################################################] 100%\n",
      "     max_depth                           model_ids              logloss\n",
      "0            1   grid_determines_max_depth_model_0   0.4013688355087074\n",
      "1            3   grid_determines_max_depth_model_1  0.40458862926940764\n",
      "2            5   grid_determines_max_depth_model_2   0.4093168924776222\n",
      "3            7   grid_determines_max_depth_model_3  0.42410004205579466\n",
      "4            9   grid_determines_max_depth_model_4  0.43719712051905313\n",
      "5           13   grid_determines_max_depth_model_6  0.45662427444412673\n",
      "6           11   grid_determines_max_depth_model_5   0.4579035014754397\n",
      "7           25  grid_determines_max_depth_model_12  0.46288373841706143\n",
      "8           17   grid_determines_max_depth_model_8  0.46803023143599237\n",
      "9           27  grid_determines_max_depth_model_13   0.4721069886844467\n",
      "10          19   grid_determines_max_depth_model_9   0.4726359129628112\n",
      "11          29  grid_determines_max_depth_model_14   0.4801411063481671\n",
      "12          21  grid_determines_max_depth_model_10   0.4846527546435901\n",
      "13          23  grid_determines_max_depth_model_11  0.48680969378536904\n",
      "14          15   grid_determines_max_depth_model_7  0.49097566734186787\n",
      "\n"
     ]
    }
   ],
   "source": [
    "# using grid to get the best max_depths\n",
    "hyper_params = {'max_depth' : range(1,30,2)}\n",
    "search_criteria = {'strategy': \"Cartesian\"}\n",
    "\n",
    "# build gbm model with grid search parameters\n",
    "from h2o.grid.grid_search import H2OGridSearch\n",
    "gs_1 = H2OGridSearch(H2OGradientBoostingEstimator(distribution='bernoulli',\n",
    "                                    ntrees=10000,\n",
    "                                    learn_rate=0.05,\n",
    "                                    # learn_rate_annealing = 0.99, \n",
    "                                    sample_rate = 0.8,\n",
    "                                    col_sample_rate = 0.8,\n",
    "                                    seed = 1234,\n",
    "                                    score_tree_interval = 10,              \n",
    "                                    stopping_rounds = 5,\n",
    "                                    stopping_metric = \"AUC\",\n",
    "                                    stopping_tolerance = 1e-4),\n",
    "                                    hyper_params = hyper_params,\n",
    "                                    grid_id = 'grid_determines_max_depth',\n",
    "                                    search_criteria = search_criteria)\n",
    "\n",
    "# train grid search\n",
    "gs_1.train(x=features_list, \n",
    "           y=response_name, \n",
    "           training_frame=train,\n",
    "           validation_frame = valid)\n",
    "\n",
    "# get the grid search results to see which max_depth performed the best\n",
    "print(gs_1)"
   ]
  },
  {
   "cell_type": "code",
   "execution_count": 99,
   "metadata": {
    "collapsed": false
   },
   "outputs": [
    {
     "name": "stdout",
     "output_type": "stream",
     "text": [
      "\n",
      "Grid Search Results for H2OGradientBoostingEstimator: \n"
     ]
    },
    {
     "data": {
      "text/html": [
       "<div style=\"overflow:auto\"><table style=\"width:50%\"><tr><td><b>Model Id</b></td>\n",
       "<td><b>Hyperparameters: [max_depth]</b></td>\n",
       "<td><b>auc(valid=True)</b></td></tr>\n",
       "<tr><td>grid_determines_max_depth_model_0</td>\n",
       "<td>[1]</td>\n",
       "<td>0.8526801</td></tr>\n",
       "<tr><td>grid_determines_max_depth_model_1</td>\n",
       "<td>[3]</td>\n",
       "<td>0.8493733</td></tr>\n",
       "<tr><td>grid_determines_max_depth_model_2</td>\n",
       "<td>[5]</td>\n",
       "<td>0.8447897</td></tr>\n",
       "<tr><td>grid_determines_max_depth_model_3</td>\n",
       "<td>[7]</td>\n",
       "<td>0.8367443</td></tr>\n",
       "<tr><td>grid_determines_max_depth_model_4</td>\n",
       "<td>[9]</td>\n",
       "<td>0.8318822</td></tr>\n",
       "<tr><td>grid_determines_max_depth_model_12</td>\n",
       "<td>[25]</td>\n",
       "<td>0.8268553</td></tr>\n",
       "<tr><td>grid_determines_max_depth_model_5</td>\n",
       "<td>[11]</td>\n",
       "<td>0.8263224</td></tr>\n",
       "<tr><td>grid_determines_max_depth_model_11</td>\n",
       "<td>[23]</td>\n",
       "<td>0.8261697</td></tr>\n",
       "<tr><td>grid_determines_max_depth_model_6</td>\n",
       "<td>[13]</td>\n",
       "<td>0.8258233</td></tr>\n",
       "<tr><td>grid_determines_max_depth_model_14</td>\n",
       "<td>[29]</td>\n",
       "<td>0.8251498</td></tr>\n",
       "<tr><td>grid_determines_max_depth_model_9</td>\n",
       "<td>[19]</td>\n",
       "<td>0.8246169</td></tr>\n",
       "<tr><td>grid_determines_max_depth_model_10</td>\n",
       "<td>[21]</td>\n",
       "<td>0.8240815</td></tr>\n",
       "<tr><td>grid_determines_max_depth_model_8</td>\n",
       "<td>[17]</td>\n",
       "<td>0.8229550</td></tr>\n",
       "<tr><td>grid_determines_max_depth_model_7</td>\n",
       "<td>[15]</td>\n",
       "<td>0.8215329</td></tr>\n",
       "<tr><td>grid_determines_max_depth_model_13</td>\n",
       "<td>[27]</td>\n",
       "<td>0.8214578</td></tr></table></div>"
      ],
      "text/plain": [
       "Model Id                            Hyperparameters: [max_depth]    auc(valid=True)\n",
       "----------------------------------  ------------------------------  -----------------\n",
       "grid_determines_max_depth_model_0   [1]                             0.85268\n",
       "grid_determines_max_depth_model_1   [3]                             0.849373\n",
       "grid_determines_max_depth_model_2   [5]                             0.84479\n",
       "grid_determines_max_depth_model_3   [7]                             0.836744\n",
       "grid_determines_max_depth_model_4   [9]                             0.831882\n",
       "grid_determines_max_depth_model_12  [25]                            0.826855\n",
       "grid_determines_max_depth_model_5   [11]                            0.826322\n",
       "grid_determines_max_depth_model_11  [23]                            0.82617\n",
       "grid_determines_max_depth_model_6   [13]                            0.825823\n",
       "grid_determines_max_depth_model_14  [29]                            0.82515\n",
       "grid_determines_max_depth_model_9   [19]                            0.824617\n",
       "grid_determines_max_depth_model_10  [21]                            0.824081\n",
       "grid_determines_max_depth_model_8   [17]                            0.822955\n",
       "grid_determines_max_depth_model_7   [15]                            0.821533\n",
       "grid_determines_max_depth_model_13  [27]                            0.821458"
      ]
     },
     "metadata": {},
     "output_type": "display_data"
    },
    {
     "name": "stdout",
     "output_type": "stream",
     "text": [
      "\n"
     ]
    }
   ],
   "source": [
    "# print out the auc for all models, sorted from best to worst\n",
    "auc_table = gs_1.sort_by('auc(valid=True)',increasing=False)\n",
    "print(auc_table)"
   ]
  },
  {
   "cell_type": "code",
   "execution_count": 100,
   "metadata": {
    "collapsed": false
   },
   "outputs": [
    {
     "name": "stdout",
     "output_type": "stream",
     "text": [
      "([3], [5], [7], [9])\n"
     ]
    }
   ],
   "source": [
    "# find the range of the max_depth for the top five models\n",
    "new_auc_table = auc_table[1:5]\n",
    "max_depths_to_use = new_auc_table['Hyperparameters: [max_depth]']\n",
    "print max_depths_to_use\n",
    "\n",
    "# get the max depths as a list\n",
    "new_maxmin_list = []\n",
    "for element in max_depths_to_use:\n",
    "    new_maxmin_list.append(element[0])\n",
    "new_max = max(new_maxmin_list)\n",
    "new_min = min(new_maxmin_list)"
   ]
  },
  {
   "cell_type": "markdown",
   "metadata": {},
   "source": [
    "Now that we know a good range for max_depth, we can tune all other parameters in more detail. Since we don't know what combinations of hyper-parameters will result in the best model, we'll use random hyper-parameter search to \"let the machine get luckier than a best guess of any human\"."
   ]
  },
  {
   "cell_type": "code",
   "execution_count": 101,
   "metadata": {
    "collapsed": false
   },
   "outputs": [
    {
     "name": "stdout",
     "output_type": "stream",
     "text": [
      "\n",
      "gbm Grid Build Progress: [##################################################] 100%\n",
      "      col_sample_rate col_sample_rate_change_per_level  \\\n",
      "0                0.27                             1.07   \n",
      "1                 0.2                             0.96   \n",
      "2                0.38                             1.07   \n",
      "3                0.22                             1.06   \n",
      "4                0.22                             1.09   \n",
      "5                0.37                             0.94   \n",
      "6                0.69                             0.97   \n",
      "7                 0.4                             0.91   \n",
      "8                0.71                              0.9   \n",
      "9                0.74                             0.96   \n",
      "10               0.92                             1.06   \n",
      "11               0.25                             1.06   \n",
      "12               0.99                              1.0   \n",
      "13                0.7                             0.92   \n",
      "14               0.67                             1.04   \n",
      "15               0.55                             1.05   \n",
      "16               0.52                              1.1   \n",
      "17               0.28                             1.08   \n",
      "18                0.2                             0.94   \n",
      "19               0.81                             1.06   \n",
      "20               0.46                             0.94   \n",
      "21               0.66                             1.01   \n",
      "22               0.29                             1.02   \n",
      "23               0.64                             1.02   \n",
      "24                0.5                              1.0   \n",
      "25                0.5                             1.02   \n",
      "26               0.75                             0.99   \n",
      "27               0.95                             1.03   \n",
      "28               0.95                              1.0   \n",
      "29               0.74                             1.07   \n",
      ".. ..             ...                              ...   \n",
      "70               0.96                             1.04   \n",
      "71               0.76                             0.97   \n",
      "72               0.37                             0.93   \n",
      "73               0.91                             0.96   \n",
      "74               0.25                             1.04   \n",
      "75               0.96                             0.94   \n",
      "76               0.44                             1.03   \n",
      "77                0.5                             0.92   \n",
      "78                0.8                              0.9   \n",
      "79               0.45                              1.1   \n",
      "80               0.51                              1.1   \n",
      "81               0.45                             1.06   \n",
      "82               0.92                             0.93   \n",
      "83               0.61                             0.97   \n",
      "84               0.85                             1.07   \n",
      "85                0.5                             1.03   \n",
      "86               0.72                             1.08   \n",
      "87               0.52                              1.0   \n",
      "88               0.48                             0.99   \n",
      "89               0.26                             0.91   \n",
      "90                0.5                             0.94   \n",
      "91               0.24                             1.08   \n",
      "92               0.87                              0.9   \n",
      "93               0.91                             1.02   \n",
      "94               0.44                             1.06   \n",
      "95               0.81                             0.94   \n",
      "96                0.2                             0.94   \n",
      "97               0.66                             0.99   \n",
      "98               0.63                              1.0   \n",
      "99               0.92                             1.04   \n",
      "\n",
      "   col_sample_rate_per_tree   histogram_type max_depth min_rows  \\\n",
      "0                      0.39       RoundRobin         3    128.0   \n",
      "1                      0.96       RoundRobin         3     64.0   \n",
      "2                      0.35  QuantilesGlobal         9    512.0   \n",
      "3                      0.55       RoundRobin         8    512.0   \n",
      "4                      0.22  UniformAdaptive         4     16.0   \n",
      "5                      0.23  QuantilesGlobal         7     16.0   \n",
      "6                      0.98  UniformAdaptive         3      2.0   \n",
      "7                      0.34  UniformAdaptive         7   1024.0   \n",
      "8                      0.37  UniformAdaptive         9    128.0   \n",
      "9                      0.36  UniformAdaptive         4      1.0   \n",
      "10                     0.64       RoundRobin         4     32.0   \n",
      "11                     0.22  QuantilesGlobal         6      1.0   \n",
      "12                     0.22       RoundRobin         4      1.0   \n",
      "13                     0.26       RoundRobin         4     16.0   \n",
      "14                     0.21  UniformAdaptive         5    128.0   \n",
      "15                      1.0  UniformAdaptive         4      1.0   \n",
      "16                     0.33  QuantilesGlobal         6    256.0   \n",
      "17                     0.47  QuantilesGlobal         6     64.0   \n",
      "18                     0.45  UniformAdaptive         5      1.0   \n",
      "19                     0.68  QuantilesGlobal         6    512.0   \n",
      "20                     0.24  UniformAdaptive         7    512.0   \n",
      "21                     0.22       RoundRobin         6     32.0   \n",
      "22                     0.85  UniformAdaptive         6    512.0   \n",
      "23                     0.66  QuantilesGlobal         3   1024.0   \n",
      "24                     0.38       RoundRobin         3   1024.0   \n",
      "25                     0.65       RoundRobin         6   1024.0   \n",
      "26                      0.8  UniformAdaptive         3     32.0   \n",
      "27                     0.29  UniformAdaptive         6    128.0   \n",
      "28                      0.3       RoundRobin         8    256.0   \n",
      "29                      0.4       RoundRobin         6    128.0   \n",
      "..                      ...              ...       ...      ...   \n",
      "70                     0.99  UniformAdaptive         9     64.0   \n",
      "71                     0.91  UniformAdaptive         8     64.0   \n",
      "72                     0.64  UniformAdaptive         6      2.0   \n",
      "73                      0.4       RoundRobin         8     32.0   \n",
      "74                     0.87  QuantilesGlobal         6     16.0   \n",
      "75                     0.62  QuantilesGlobal         7     32.0   \n",
      "76                     0.38  QuantilesGlobal         9     16.0   \n",
      "77                     0.55  QuantilesGlobal         9     16.0   \n",
      "78                     0.57  UniformAdaptive         9     16.0   \n",
      "79                      0.8       RoundRobin         8     16.0   \n",
      "80                      0.5  UniformAdaptive         7   2048.0   \n",
      "81                     0.28  UniformAdaptive         7   2048.0   \n",
      "82                     0.56  QuantilesGlobal         5   2048.0   \n",
      "83                     0.36  QuantilesGlobal         6   2048.0   \n",
      "84                     0.95  UniformAdaptive         6      8.0   \n",
      "85                     0.45       RoundRobin         9   2048.0   \n",
      "86                     0.32  UniformAdaptive         8      4.0   \n",
      "87                     0.42  UniformAdaptive         7      1.0   \n",
      "88                     0.67       RoundRobin         8      8.0   \n",
      "89                     0.88       RoundRobin         9      8.0   \n",
      "90                     0.92       RoundRobin         7      2.0   \n",
      "91                      0.3  UniformAdaptive         7   2048.0   \n",
      "92                      0.7  UniformAdaptive         8      8.0   \n",
      "93                     0.97  UniformAdaptive         7     16.0   \n",
      "94                     0.76  QuantilesGlobal         8      8.0   \n",
      "95                     0.89  QuantilesGlobal         8     16.0   \n",
      "96                     0.49  QuantilesGlobal         8   1024.0   \n",
      "97                     0.68  UniformAdaptive         8      1.0   \n",
      "98                     0.85       RoundRobin         8      2.0   \n",
      "99                      1.0  QuantilesGlobal         9      1.0   \n",
      "\n",
      "   min_split_improvement nbins nbins_cats sample_rate        model_ids  \\\n",
      "0                 1.0E-6    16         64        0.57   grid_2_model_1   \n",
      "1                 1.0E-8    64        256        0.93  grid_2_model_87   \n",
      "2                    0.0    32        128        0.28  grid_2_model_80   \n",
      "3                 1.0E-4    32         16        0.28  grid_2_model_73   \n",
      "4                 1.0E-8  1024       2048        0.59  grid_2_model_61   \n",
      "5                 1.0E-6   512       4096        0.47  grid_2_model_63   \n",
      "6                    0.0   256       4096        0.82  grid_2_model_93   \n",
      "7                    0.0    64       2048        0.48  grid_2_model_15   \n",
      "8                 1.0E-4  1024         32        0.92  grid_2_model_37   \n",
      "9                 1.0E-6    32         64        0.63  grid_2_model_62   \n",
      "10                   0.0    16         32        0.78  grid_2_model_70   \n",
      "11                   0.0   512       2048        0.23  grid_2_model_36   \n",
      "12                   0.0   256        128         0.5  grid_2_model_57   \n",
      "13                   0.0    16       1024        0.42  grid_2_model_84   \n",
      "14                   0.0    32         64         0.6  grid_2_model_10   \n",
      "15                1.0E-4  1024       2048        0.86  grid_2_model_17   \n",
      "16                   0.0    64         64        0.65  grid_2_model_20   \n",
      "17                   0.0   128       1024         0.7  grid_2_model_53   \n",
      "18                1.0E-6    16       4096        0.39  grid_2_model_71   \n",
      "19                   0.0   128       2048        0.77  grid_2_model_29   \n",
      "20                   0.0   128        512        0.65  grid_2_model_42   \n",
      "21                1.0E-6    16       4096        0.59  grid_2_model_19   \n",
      "22                1.0E-6    64       4096        0.75  grid_2_model_40   \n",
      "23                1.0E-4   512       2048        0.35  grid_2_model_74   \n",
      "24                1.0E-4   512       4096        0.87  grid_2_model_23   \n",
      "25                1.0E-8   512        512        0.64   grid_2_model_0   \n",
      "26                1.0E-6  1024        512         0.5   grid_2_model_7   \n",
      "27                1.0E-4    32         64         0.7  grid_2_model_12   \n",
      "28                1.0E-6  1024        512        0.95  grid_2_model_52   \n",
      "29                1.0E-4    16        128         0.3  grid_2_model_89   \n",
      "..                   ...   ...        ...         ...              ...   \n",
      "70                1.0E-6  1024       2048        0.29  grid_2_model_39   \n",
      "71                1.0E-4  1024       2048        0.43  grid_2_model_79   \n",
      "72                1.0E-6   128        512        0.73  grid_2_model_66   \n",
      "73                1.0E-4    32       1024        0.67  grid_2_model_41   \n",
      "74                1.0E-8   256       4096        0.95  grid_2_model_72   \n",
      "75                1.0E-6    64       4096        0.57  grid_2_model_95   \n",
      "76                1.0E-6   256        512        0.55   grid_2_model_9   \n",
      "77                1.0E-8    16       2048        0.38  grid_2_model_34   \n",
      "78                1.0E-6  1024       4096        0.37  grid_2_model_43   \n",
      "79                   0.0    64        256         0.2  grid_2_model_30   \n",
      "80                   0.0   128       1024        0.46  grid_2_model_25   \n",
      "81                1.0E-8   256         64        0.28  grid_2_model_92   \n",
      "82                   0.0   128        128        0.93  grid_2_model_96   \n",
      "83                1.0E-6   128       1024        0.65  grid_2_model_98   \n",
      "84                1.0E-6    16        512        0.55  grid_2_model_97   \n",
      "85                1.0E-8   512         16        0.28  grid_2_model_58   \n",
      "86                   0.0   512         32        0.54  grid_2_model_77   \n",
      "87                   0.0  1024         16        0.67  grid_2_model_59   \n",
      "88                1.0E-8    32         64        0.68  grid_2_model_83   \n",
      "89                1.0E-8    16        512        0.92  grid_2_model_65   \n",
      "90                   0.0   128       2048        0.61  grid_2_model_14   \n",
      "91                1.0E-4    32         64        0.97  grid_2_model_44   \n",
      "92                1.0E-6   512       4096        0.55  grid_2_model_24   \n",
      "93                1.0E-6    64       2048        0.26   grid_2_model_4   \n",
      "94                1.0E-6    64        256        0.99  grid_2_model_82   \n",
      "95                1.0E-8  1024         32        0.71  grid_2_model_69   \n",
      "96                   0.0    16         32         0.4  grid_2_model_28   \n",
      "97                1.0E-4  1024       1024        0.23  grid_2_model_27   \n",
      "98                   0.0   128       4096        0.37   grid_2_model_5   \n",
      "99                   0.0   256         16        0.57  grid_2_model_48   \n",
      "\n",
      "                logloss  \n",
      "0   0.39990679986825595  \n",
      "1   0.40025376470384116  \n",
      "2    0.4005795719792128  \n",
      "3   0.40061654419893544  \n",
      "4    0.4014048220508874  \n",
      "5   0.40168012849911344  \n",
      "6   0.40175007310579147  \n",
      "7   0.40191255388072633  \n",
      "8    0.4020321509088317  \n",
      "9    0.4025404950543374  \n",
      "10   0.4026049521900986  \n",
      "11   0.4026369302418835  \n",
      "12  0.40264936734741696  \n",
      "13   0.4026981126498386  \n",
      "14   0.4027040495365069  \n",
      "15  0.40273315927222203  \n",
      "16  0.40276616454902414  \n",
      "17   0.4028108864294598  \n",
      "18   0.4033363942228986  \n",
      "19  0.40335967324546124  \n",
      "20   0.4035119474530166  \n",
      "21  0.40353756854991274  \n",
      "22   0.4035642117910553  \n",
      "23   0.4036010094368257  \n",
      "24   0.4037073120833234  \n",
      "25   0.4037507478807141  \n",
      "26  0.40379373815416225  \n",
      "27   0.4037972490034864  \n",
      "28  0.40381545221071125  \n",
      "29    0.404149004276054  \n",
      "..                  ...  \n",
      "70   0.4088926267868995  \n",
      "71  0.40897243140926837  \n",
      "72  0.40916654770723665  \n",
      "73   0.4096562038366631  \n",
      "74  0.40970593028668506  \n",
      "75  0.41294047333229145  \n",
      "76   0.4130443045005002  \n",
      "77   0.4130892124773662  \n",
      "78   0.4141003736498741  \n",
      "79  0.41437663539403213  \n",
      "80    0.414770723542919  \n",
      "81  0.41515593646162335  \n",
      "82  0.41519638372959483  \n",
      "83  0.41521260785869774  \n",
      "84  0.41526663240679185  \n",
      "85  0.41555737381163255  \n",
      "86  0.41578153652597266  \n",
      "87   0.4164343103385926  \n",
      "88  0.41786961004043205  \n",
      "89   0.4182708023089452  \n",
      "90  0.41978256939736447  \n",
      "91   0.4214000550599777  \n",
      "92  0.42360849946832585  \n",
      "93  0.42438615470915014  \n",
      "94   0.4250206677509906  \n",
      "95   0.4251627471390695  \n",
      "96    0.430969028225133  \n",
      "97   0.4375799078257307  \n",
      "98   0.4389737033841185  \n",
      "99  0.44435906062823494  \n",
      "\n",
      "[100 rows x 13 columns]\n",
      "\n"
     ]
    }
   ],
   "source": [
    "hyper_params_2 = {'max_depth' : list(range(new_min,new_max+1,1)),\n",
    "                'sample_rate': [x/100. for x in range(20,101)],\n",
    "                'col_sample_rate' : [x/100. for x in range(20,101)],\n",
    "                'col_sample_rate_per_tree': [x/100. for x in range(20,101)],\n",
    "                'col_sample_rate_change_per_level': [x/100. for x in range(90,111)],\n",
    "                'min_rows': [2**x for x in range(0,int(math.log(train.nrow,2)-1)+1)],\n",
    "                'nbins': [2**x for x in range(4,11)],\n",
    "                'nbins_cats': [2**x for x in range(4,13)],\n",
    "                'min_split_improvement': [0,1e-8,1e-6,1e-4],\n",
    "                'histogram_type': [\"UniformAdaptive\",\"QuantilesGlobal\",\"RoundRobin\"]}\n",
    "search_criteria_2 = {'strategy': \"RandomDiscrete\",\n",
    "                   'max_runtime_secs': 3600,  ## limit the runtime to 60 minutes\n",
    "                   'max_models': 100,  ## build no more than 100 models\n",
    "                   'seed' : 1234,\n",
    "                   'stopping_rounds' : 5,\n",
    "                   'stopping_metric' : \"AUC\",\n",
    "                   'stopping_tolerance': 1e-3\n",
    "                   }\n",
    "\n",
    "#Build grid search with GBM and hyper parameters\n",
    "gs_2 = H2OGridSearch(H2OGradientBoostingEstimator(distribution='bernoulli',\n",
    "                                    ntrees=10000,\n",
    "                                    learn_rate=0.05,\n",
    "                                    #learn_rate_annealing = 0.99,\n",
    "                                    stopping_rounds = 5,\n",
    "                                    stopping_tolerance = 1e-4,\n",
    "                                    stopping_metric = \"AUC\", \n",
    "                                    score_tree_interval = 10,\n",
    "                                    seed = 1234),\n",
    "                                    hyper_params = hyper_params_2,\n",
    "                                    grid_id = 'grid_2',\n",
    "                                    search_criteria = search_criteria_2)\n",
    "\n",
    "# train the grid and print results\n",
    "gs_2.train(x=features_list, \n",
    "           y=response_name, \n",
    "           training_frame=train,\n",
    "           validation_frame = valid)\n",
    "print(gs_2)"
   ]
  },
  {
   "cell_type": "code",
   "execution_count": 65,
   "metadata": {
    "collapsed": false
   },
   "outputs": [
    {
     "name": "stdout",
     "output_type": "stream",
     "text": [
      "\n",
      "Grid Search Results for H2OGradientBoostingEstimator: \n"
     ]
    },
    {
     "data": {
      "text/html": [
       "<div style=\"overflow:auto\"><table style=\"width:50%\"><tr><td><b>Model Id</b></td>\n",
       "<td><b>Hyperparameters: [nbins, col_sample_rate, min_split_improvement, col_sample_rate_per_tree, min_rows, col_sample_rate_change_per_level, nbins_cats, sample_rate, histogram_type, max_depth]</b></td>\n",
       "<td><b>auc(valid=True)</b></td></tr>\n",
       "<tr><td>grid_2_model_0</td>\n",
       "<td>[512, 0.5, 1e-08, 0.65, 1024.0, 1.02, 512, 0.64, u'RoundRobin', 3]</td>\n",
       "<td>0.8517493</td></tr>\n",
       "<tr><td>grid_2_model_1</td>\n",
       "<td>[16, 0.27, 1e-06, 0.39, 128.0, 1.07, 64, 0.57, u'RoundRobin', 3]</td>\n",
       "<td>0.8512867</td></tr>\n",
       "<tr><td>grid_2_model_15</td>\n",
       "<td>[64, 0.4, 0.0, 0.34, 1024.0, 0.91, 2048, 0.48, u'UniformAdaptive', 5]</td>\n",
       "<td>0.8508978</td></tr>\n",
       "<tr><td>grid_2_model_8</td>\n",
       "<td>[16, 0.57, 0.0, 0.68, 4.0, 1.1, 4096, 0.58, u'RoundRobin', 1]</td>\n",
       "<td>0.8507440</td></tr>\n",
       "<tr><td>grid_2_model_3</td>\n",
       "<td>[256, 0.5, 1e-06, 0.81, 1024.0, 0.99, 4096, 0.76, u'QuantilesGlobal', 3]</td>\n",
       "<td>0.8506612</td></tr>\n",
       "<tr><td>grid_2_model_14</td>\n",
       "<td>[128, 0.5, 0.0, 0.92, 2.0, 0.94, 2048, 0.61, u'RoundRobin', 1]</td>\n",
       "<td>0.8506376</td></tr>\n",
       "<tr><td>grid_2_model_9</td>\n",
       "<td>[256, 0.44, 1e-06, 0.38, 16.0, 1.03, 512, 0.55, u'QuantilesGlobal', 2]</td>\n",
       "<td>0.8504024</td></tr>\n",
       "<tr><td>grid_2_model_2</td>\n",
       "<td>[128, 0.47, 1e-08, 0.68, 64.0, 0.98, 128, 0.87, u'UniformAdaptive', 4]</td>\n",
       "<td>0.8501382</td></tr>\n",
       "<tr><td>grid_2_model_13</td>\n",
       "<td>[512, 0.32, 1e-08, 0.88, 512.0, 1.02, 1024, 0.46, u'UniformAdaptive', 4]</td>\n",
       "<td>0.8501054</td></tr>\n",
       "<tr><td>grid_2_model_7</td>\n",
       "<td>[1024, 0.75, 1e-06, 0.8, 32.0, 0.99, 512, 0.5, u'UniformAdaptive', 3]</td>\n",
       "<td>0.8500305</td></tr>\n",
       "<tr><td>grid_2_model_6</td>\n",
       "<td>[16, 0.6, 0.0, 0.89, 64.0, 1.0, 128, 0.64, u'UniformAdaptive', 2]</td>\n",
       "<td>0.8499188</td></tr>\n",
       "<tr><td>grid_2_model_5</td>\n",
       "<td>[128, 0.63, 0.0, 0.85, 2.0, 1.0, 4096, 0.37, u'RoundRobin', 3]</td>\n",
       "<td>0.8498899</td></tr>\n",
       "<tr><td>grid_2_model_12</td>\n",
       "<td>[32, 0.95, 0.0001, 0.29, 128.0, 1.03, 64, 0.7, u'UniformAdaptive', 3]</td>\n",
       "<td>0.8497992</td></tr>\n",
       "<tr><td>grid_2_model_11</td>\n",
       "<td>[16, 0.75, 0.0001, 0.6, 512.0, 0.94, 512, 0.5, u'QuantilesGlobal', 2]</td>\n",
       "<td>0.8497848</td></tr>\n",
       "<tr><td>grid_2_model_10</td>\n",
       "<td>[32, 0.67, 0.0, 0.21, 128.0, 1.04, 64, 0.6, u'UniformAdaptive', 3]</td>\n",
       "<td>0.8497572</td></tr>\n",
       "<tr><td>grid_2_model_4</td>\n",
       "<td>[64, 0.91, 1e-06, 0.97, 16.0, 1.02, 2048, 0.26, u'UniformAdaptive', 2]</td>\n",
       "<td>0.8489437</td></tr>\n",
       "<tr><td>grid_2_model_16</td>\n",
       "<td>[256, 0.9000000000000006, 1e-08, 0.37000000000000005, 2048.0, 0.9500000000000001, 1024, 0.6300000000000003, u'RoundRobin', 4]</td>\n",
       "<td>0.8140917</td></tr></table></div>"
      ],
      "text/plain": [
       "Model Id         Hyperparameters: [nbins, col_sample_rate, min_split_improvement, col_sample_rate_per_tree, min_rows, col_sample_rate_change_per_level, nbins_cats, sample_rate, histogram_type, max_depth]    auc(valid=True)\n",
       "---------------  --------------------------------------------------------------------------------------------------------------------------------------------------------------------------------------------  -----------------\n",
       "grid_2_model_0   [512, 0.5, 1e-08, 0.65, 1024.0, 1.02, 512, 0.64, u'RoundRobin', 3]                                                                                                                            0.851749\n",
       "grid_2_model_1   [16, 0.27, 1e-06, 0.39, 128.0, 1.07, 64, 0.57, u'RoundRobin', 3]                                                                                                                              0.851287\n",
       "grid_2_model_15  [64, 0.4, 0.0, 0.34, 1024.0, 0.91, 2048, 0.48, u'UniformAdaptive', 5]                                                                                                                         0.850898\n",
       "grid_2_model_8   [16, 0.57, 0.0, 0.68, 4.0, 1.1, 4096, 0.58, u'RoundRobin', 1]                                                                                                                                 0.850744\n",
       "grid_2_model_3   [256, 0.5, 1e-06, 0.81, 1024.0, 0.99, 4096, 0.76, u'QuantilesGlobal', 3]                                                                                                                      0.850661\n",
       "grid_2_model_14  [128, 0.5, 0.0, 0.92, 2.0, 0.94, 2048, 0.61, u'RoundRobin', 1]                                                                                                                                0.850638\n",
       "grid_2_model_9   [256, 0.44, 1e-06, 0.38, 16.0, 1.03, 512, 0.55, u'QuantilesGlobal', 2]                                                                                                                        0.850402\n",
       "grid_2_model_2   [128, 0.47, 1e-08, 0.68, 64.0, 0.98, 128, 0.87, u'UniformAdaptive', 4]                                                                                                                        0.850138\n",
       "grid_2_model_13  [512, 0.32, 1e-08, 0.88, 512.0, 1.02, 1024, 0.46, u'UniformAdaptive', 4]                                                                                                                      0.850105\n",
       "grid_2_model_7   [1024, 0.75, 1e-06, 0.8, 32.0, 0.99, 512, 0.5, u'UniformAdaptive', 3]                                                                                                                         0.85003\n",
       "grid_2_model_6   [16, 0.6, 0.0, 0.89, 64.0, 1.0, 128, 0.64, u'UniformAdaptive', 2]                                                                                                                             0.849919\n",
       "grid_2_model_5   [128, 0.63, 0.0, 0.85, 2.0, 1.0, 4096, 0.37, u'RoundRobin', 3]                                                                                                                                0.84989\n",
       "grid_2_model_12  [32, 0.95, 0.0001, 0.29, 128.0, 1.03, 64, 0.7, u'UniformAdaptive', 3]                                                                                                                         0.849799\n",
       "grid_2_model_11  [16, 0.75, 0.0001, 0.6, 512.0, 0.94, 512, 0.5, u'QuantilesGlobal', 2]                                                                                                                         0.849785\n",
       "grid_2_model_10  [32, 0.67, 0.0, 0.21, 128.0, 1.04, 64, 0.6, u'UniformAdaptive', 3]                                                                                                                            0.849757\n",
       "grid_2_model_4   [64, 0.91, 1e-06, 0.97, 16.0, 1.02, 2048, 0.26, u'UniformAdaptive', 2]                                                                                                                        0.848944\n",
       "grid_2_model_16  [256, 0.9000000000000006, 1e-08, 0.37000000000000005, 2048.0, 0.9500000000000001, 1024, 0.6300000000000003, u'RoundRobin', 4]                                                                 0.814092"
      ]
     },
     "metadata": {},
     "output_type": "display_data"
    },
    {
     "name": "stdout",
     "output_type": "stream",
     "text": [
      "\n"
     ]
    }
   ],
   "source": [
    "# print out the auc for all of the models on the validation set\n",
    "auc_table_2 = gs_2.sort_by('auc(valid=True)',increasing=False)\n",
    "print(auc_table_2)"
   ]
  },
  {
   "cell_type": "code",
   "execution_count": 102,
   "metadata": {
    "collapsed": false
   },
   "outputs": [
    {
     "name": "stdout",
     "output_type": "stream",
     "text": [
      "\n",
      "Grid Search Results for H2OGradientBoostingEstimator: \n"
     ]
    },
    {
     "data": {
      "text/html": [
       "<div style=\"overflow:auto\"><table style=\"width:50%\"><tr><td><b>Model Id</b></td>\n",
       "<td><b>Hyperparameters: [nbins, col_sample_rate, min_split_improvement, col_sample_rate_per_tree, min_rows, col_sample_rate_change_per_level, nbins_cats, sample_rate, histogram_type, max_depth]</b></td>\n",
       "<td><b>auc(valid=True)</b></td></tr>\n",
       "<tr><td>grid_2_model_63</td>\n",
       "<td>[512, 0.37, 1e-06, 0.23, 16.0, 0.94, 4096, 0.47, u'QuantilesGlobal', 7]</td>\n",
       "<td>0.8533899</td></tr>\n",
       "<tr><td>grid_2_model_1</td>\n",
       "<td>[16, 0.27, 1e-06, 0.39, 128.0, 1.07, 64, 0.57, u'RoundRobin', 3]</td>\n",
       "<td>0.8533827</td></tr>\n",
       "<tr><td>grid_2_model_80</td>\n",
       "<td>[32, 0.38, 0.0, 0.35, 512.0, 1.07, 128, 0.28, u'QuantilesGlobal', 9]</td>\n",
       "<td>0.8532276</td></tr>\n",
       "<tr><td>grid_2_model_15</td>\n",
       "<td>[64, 0.4, 0.0, 0.34, 1024.0, 0.91, 2048, 0.48, u'UniformAdaptive', 7]</td>\n",
       "<td>0.8532082</td></tr>\n",
       "<tr><td>grid_2_model_73</td>\n",
       "<td>[32, 0.22, 0.0001, 0.55, 512.0, 1.06, 16, 0.28, u'RoundRobin', 8]</td>\n",
       "<td>0.8531889</td></tr>\n",
       "<tr><td>---</td>\n",
       "<td>---</td>\n",
       "<td>---</td></tr>\n",
       "<tr><td>grid_2_model_24</td>\n",
       "<td>[512, 0.87, 1e-06, 0.7, 8.0, 0.9, 4096, 0.55, u'UniformAdaptive', 8]</td>\n",
       "<td>0.8364173</td></tr>\n",
       "<tr><td>grid_2_model_82</td>\n",
       "<td>[64, 0.44, 1e-06, 0.76, 8.0, 1.06, 256, 0.99, u'QuantilesGlobal', 8]</td>\n",
       "<td>0.8362865</td></tr>\n",
       "<tr><td>grid_2_model_48</td>\n",
       "<td>[256, 0.92, 0.0, 1.0, 1.0, 1.04, 16, 0.57, u'QuantilesGlobal', 9]</td>\n",
       "<td>0.8355161</td></tr>\n",
       "<tr><td>grid_2_model_4</td>\n",
       "<td>[64, 0.91, 1e-06, 0.97, 16.0, 1.02, 2048, 0.26, u'UniformAdaptive', 7]</td>\n",
       "<td>0.8345204</td></tr>\n",
       "<tr><td>grid_2_model_5</td>\n",
       "<td>[128, 0.63, 0.0, 0.85, 2.0, 1.0, 4096, 0.37, u'RoundRobin', 8]</td>\n",
       "<td>0.8336289</td></tr></table></div>"
      ],
      "text/plain": [
       "Model Id         Hyperparameters: [nbins, col_sample_rate, min_split_improvement, col_sample_rate_per_tree, min_rows, col_sample_rate_change_per_level, nbins_cats, sample_rate, histogram_type, max_depth]    auc(valid=True)\n",
       "---------------  --------------------------------------------------------------------------------------------------------------------------------------------------------------------------------------------  -----------------\n",
       "grid_2_model_63  [512, 0.37, 1e-06, 0.23, 16.0, 0.94, 4096, 0.47, u'QuantilesGlobal', 7]                                                                                                                       0.853389924948\n",
       "grid_2_model_1   [16, 0.27, 1e-06, 0.39, 128.0, 1.07, 64, 0.57, u'RoundRobin', 3]                                                                                                                              0.85338265719\n",
       "grid_2_model_80  [32, 0.38, 0.0, 0.35, 512.0, 1.07, 128, 0.28, u'QuantilesGlobal', 9]                                                                                                                          0.853227611669\n",
       "grid_2_model_15  [64, 0.4, 0.0, 0.34, 1024.0, 0.91, 2048, 0.48, u'UniformAdaptive', 7]                                                                                                                         0.853208230979\n",
       "grid_2_model_73  [32, 0.22, 0.0001, 0.55, 512.0, 1.06, 16, 0.28, u'RoundRobin', 8]                                                                                                                             0.853188850289\n",
       "---              ---                                                                                                                                                                                           ---\n",
       "grid_2_model_24  [512, 0.87, 1e-06, 0.7, 8.0, 0.9, 4096, 0.55, u'UniformAdaptive', 8]                                                                                                                          0.836417285637\n",
       "grid_2_model_82  [64, 0.44, 1e-06, 0.76, 8.0, 1.06, 256, 0.99, u'QuantilesGlobal', 8]                                                                                                                          0.83628646598\n",
       "grid_2_model_48  [256, 0.92, 0.0, 1.0, 1.0, 1.04, 16, 0.57, u'QuantilesGlobal', 9]                                                                                                                             0.83551608355\n",
       "grid_2_model_4   [64, 0.91, 1e-06, 0.97, 16.0, 1.02, 2048, 0.26, u'UniformAdaptive', 7]                                                                                                                        0.834520400599\n",
       "grid_2_model_5   [128, 0.63, 0.0, 0.85, 2.0, 1.0, 4096, 0.37, u'RoundRobin', 8]                                                                                                                                0.833628888857"
      ]
     },
     "metadata": {},
     "output_type": "display_data"
    },
    {
     "name": "stdout",
     "output_type": "stream",
     "text": [
      "\n",
      "See the whole table with table.as_data_frame()\n",
      "\n"
     ]
    }
   ],
   "source": [
    "# print out the auc for all of the models on the validation set\n",
    "auc_table_2 = gs_2.sort_by('auc(valid=True)',increasing=False)\n",
    "print(auc_table_2)\n"
   ]
  },
  {
   "cell_type": "code",
   "execution_count": 103,
   "metadata": {
    "collapsed": false
   },
   "outputs": [
    {
     "name": "stdout",
     "output_type": "stream",
     "text": [
      "0.860041773779\n"
     ]
    }
   ],
   "source": [
    "# get the best model from the list (the model name listed at the top of the table)\n",
    "best_model = h2o.get_model('grid_2_model_0')\n",
    "test_performance_model = best_model.model_performance(test)\n",
    "\n",
    "# get the performance on the test model\n",
    "print test_performance_model.auc()"
   ]
  },
  {
   "cell_type": "code",
   "execution_count": 104,
   "metadata": {
    "collapsed": false
   },
   "outputs": [
    {
     "name": "stdout",
     "output_type": "stream",
     "text": [
      "\n",
      "gbm prediction Progress: [##################################################] 100%\n"
     ]
    },
    {
     "data": {
      "text/html": [
       "<table>\n",
       "<tr><th>predict  </th><th style=\"text-align: right;\">      No</th><th style=\"text-align: right;\">      Yes</th></tr>\n",
       "<tr><td>No       </td><td style=\"text-align: right;\">0.97037 </td><td style=\"text-align: right;\">0.0296304</td></tr>\n",
       "<tr><td>No       </td><td style=\"text-align: right;\">0.97855 </td><td style=\"text-align: right;\">0.0214502</td></tr>\n",
       "<tr><td>Yes      </td><td style=\"text-align: right;\">0.618732</td><td style=\"text-align: right;\">0.381268 </td></tr>\n",
       "<tr><td>No       </td><td style=\"text-align: right;\">0.824716</td><td style=\"text-align: right;\">0.175284 </td></tr>\n",
       "<tr><td>Yes      </td><td style=\"text-align: right;\">0.523088</td><td style=\"text-align: right;\">0.476912 </td></tr>\n",
       "<tr><td>Yes      </td><td style=\"text-align: right;\">0.341982</td><td style=\"text-align: right;\">0.658018 </td></tr>\n",
       "<tr><td>Yes      </td><td style=\"text-align: right;\">0.460539</td><td style=\"text-align: right;\">0.539461 </td></tr>\n",
       "<tr><td>Yes      </td><td style=\"text-align: right;\">0.687619</td><td style=\"text-align: right;\">0.312381 </td></tr>\n",
       "<tr><td>No       </td><td style=\"text-align: right;\">0.978541</td><td style=\"text-align: right;\">0.0214587</td></tr>\n",
       "<tr><td>Yes      </td><td style=\"text-align: right;\">0.532255</td><td style=\"text-align: right;\">0.467745 </td></tr>\n",
       "</table>"
      ]
     },
     "metadata": {},
     "output_type": "display_data"
    },
    {
     "data": {
      "text/plain": []
     },
     "execution_count": 104,
     "metadata": {},
     "output_type": "execute_result"
    }
   ],
   "source": [
    "# save a csv of the predictions:\n",
    "# first get the predictions from the best model\n",
    "best_model_predictions = best_model.predict(test)\n",
    "best_model_predictions.head()"
   ]
  },
  {
   "cell_type": "code",
   "execution_count": 32,
   "metadata": {
    "collapsed": false
   },
   "outputs": [],
   "source": [
    "# export predictions as a csv to the data analysis directory\n",
    "# h2o.h2o.export_file(best_model_predictions, force=True)"
   ]
  },
  {
   "cell_type": "code",
   "execution_count": 1,
   "metadata": {
    "collapsed": false
   },
   "outputs": [],
   "source": [
    "# download a POJO of the best model (best_model)\n",
    "# h2o.download_pojo(best_model, force=True)"
   ]
  }
 ],
 "metadata": {
  "kernelspec": {
   "display_name": "Python 2",
   "language": "python",
   "name": "python2"
  },
  "language_info": {
   "codemirror_mode": {
    "name": "ipython",
    "version": 2
   },
   "file_extension": ".py",
   "mimetype": "text/x-python",
   "name": "python",
   "nbconvert_exporter": "python",
   "pygments_lexer": "ipython2",
   "version": "2.7.11"
  }
 },
 "nbformat": 4,
 "nbformat_minor": 0
}
