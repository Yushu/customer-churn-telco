{
 "cells": [
  {
   "cell_type": "code",
   "execution_count": 79,
   "metadata": {
    "collapsed": false
   },
   "outputs": [],
   "source": [
    "# h2o.shutdown()"
   ]
  },
  {
   "cell_type": "code",
   "execution_count": 3,
   "metadata": {
    "collapsed": false
   },
   "outputs": [
    {
     "data": {
      "text/html": [
       "<div style=\"overflow:auto\"><table style=\"width:50%\"><tr><td>H2O cluster uptime: </td>\n",
       "<td>8 hours 58 minutes 17 seconds 597 milliseconds </td></tr>\n",
       "<tr><td>H2O cluster version: </td>\n",
       "<td>3.8.2.6</td></tr>\n",
       "<tr><td>H2O cluster name: </td>\n",
       "<td>H2O_started_from_R_laurend_oyi538</td></tr>\n",
       "<tr><td>H2O cluster total nodes: </td>\n",
       "<td>1</td></tr>\n",
       "<tr><td>H2O cluster total free memory: </td>\n",
       "<td>3.54 GB</td></tr>\n",
       "<tr><td>H2O cluster total cores: </td>\n",
       "<td>8</td></tr>\n",
       "<tr><td>H2O cluster allowed cores: </td>\n",
       "<td>2</td></tr>\n",
       "<tr><td>H2O cluster healthy: </td>\n",
       "<td>True</td></tr>\n",
       "<tr><td>H2O Connection ip: </td>\n",
       "<td>127.0.0.1</td></tr>\n",
       "<tr><td>H2O Connection port: </td>\n",
       "<td>54321</td></tr>\n",
       "<tr><td>H2O Connection proxy: </td>\n",
       "<td>None</td></tr>\n",
       "<tr><td>Python Version: </td>\n",
       "<td>2.7.11</td></tr></table></div>"
      ],
      "text/plain": [
       "------------------------------  ----------------------------------------------\n",
       "H2O cluster uptime:             8 hours 58 minutes 17 seconds 597 milliseconds\n",
       "H2O cluster version:            3.8.2.6\n",
       "H2O cluster name:               H2O_started_from_R_laurend_oyi538\n",
       "H2O cluster total nodes:        1\n",
       "H2O cluster total free memory:  3.54 GB\n",
       "H2O cluster total cores:        8\n",
       "H2O cluster allowed cores:      2\n",
       "H2O cluster healthy:            True\n",
       "H2O Connection ip:              127.0.0.1\n",
       "H2O Connection port:            54321\n",
       "H2O Connection proxy:\n",
       "Python Version:                 2.7.11\n",
       "------------------------------  ----------------------------------------------"
      ]
     },
     "metadata": {},
     "output_type": "display_data"
    }
   ],
   "source": [
    "import h2o\n",
    "import numpy as np\n",
    "import math\n",
    "import warnings\n",
    "warnings.filterwarnings('ignore', category=DeprecationWarning, module='.*/jupyter/.*')\n",
    "h2o.init(nthreads = -1)\n"
   ]
  },
  {
   "cell_type": "markdown",
   "metadata": {},
   "source": [
    "# Summary Notes\n",
    "\n",
    "* use gbm (consider all options, for comparison)\n",
    "* AUC to set threshold\n",
    "* Compare machine learning models to regular group by models\n",
    "* remove the customerID since that is the same as a row index\n",
    "* todo: fill in missing values for TotalCharges column\n",
    "* todo: compare different stratified functions and parameter to see if they stratify in the same way *(i.e. split_frame(ratios=None, destination_frames=None, seed=None), stratified_kfold_column(n_folds=3, seed=-1), stratified_split(test_frac=0.2, seed=-1, and fold_assignment=\"Stratified\" for the GBM estimator)*\n",
    "\n",
    "### questions\n",
    "* should there be a learn_rate_annealing argument for python Grid Search?"
   ]
  },
  {
   "cell_type": "code",
   "execution_count": 4,
   "metadata": {
    "collapsed": false
   },
   "outputs": [
    {
     "name": "stdout",
     "output_type": "stream",
     "text": [
      "\n",
      "Parse Progress: [##################################################] 100%\n"
     ]
    }
   ],
   "source": [
    "# A small clean telecommunications sample dataset (https://www.ibm.com/communities/analytics/watson-analytics-blog/predictive-insights-in-the-telco-customer-churn-data-set/\n",
    "telco_dataset = h2o.import_file(\"/Users/laurend/Desktop/projects/WA_Fn-UseC_-Telco-Customer-Churn.csv\")"
   ]
  },
  {
   "cell_type": "code",
   "execution_count": 5,
   "metadata": {
    "collapsed": false
   },
   "outputs": [
    {
     "name": "stdout",
     "output_type": "stream",
     "text": [
      "[0.0, 0.0, 0.0, 0.0, 0.0, 0.0, 0.0, 0.0, 0.0, 0.0, 0.0, 0.0, 0.0, 0.0, 0.0, 0.0, 0.0, 0.0, 0.0, 11.0, 0.0]\n",
      "Rows:7,043 Cols:21\n",
      "\n",
      "Chunk compression summary: \n"
     ]
    },
    {
     "data": {
      "text/html": [
       "<div style=\"overflow:auto\"><table style=\"width:50%\"><tr><td><b>chunk_type</b></td>\n",
       "<td><b>chunk_name</b></td>\n",
       "<td><b>count</b></td>\n",
       "<td><b>count_percentage</b></td>\n",
       "<td><b>size</b></td>\n",
       "<td><b>size_percentage</b></td></tr>\n",
       "<tr><td>CBS</td>\n",
       "<td>Bits</td>\n",
       "<td>222</td>\n",
       "<td>33.035713</td>\n",
       "<td>   21.2 KB</td>\n",
       "<td>7.7945857</td></tr>\n",
       "<tr><td>CX0</td>\n",
       "<td>Zero Sparse Bits</td>\n",
       "<td>2</td>\n",
       "<td>0.2976190</td>\n",
       "<td>    254  B</td>\n",
       "<td>0.0910306</td></tr>\n",
       "<tr><td>C1N</td>\n",
       "<td>1-Byte Integers (w/o NAs)</td>\n",
       "<td>352</td>\n",
       "<td>52.380955</td>\n",
       "<td>   99.0 KB</td>\n",
       "<td>36.343796</td></tr>\n",
       "<tr><td>C2S</td>\n",
       "<td>2-Byte Fractions</td>\n",
       "<td>32</td>\n",
       "<td>4.7619047</td>\n",
       "<td>   16.4 KB</td>\n",
       "<td>6.0116043</td></tr>\n",
       "<tr><td>C4S</td>\n",
       "<td>4-Byte Fractions</td>\n",
       "<td>32</td>\n",
       "<td>4.7619047</td>\n",
       "<td>   30.1 KB</td>\n",
       "<td>11.059861</td></tr>\n",
       "<tr><td>CStr</td>\n",
       "<td>String</td>\n",
       "<td>32</td>\n",
       "<td>4.7619047</td>\n",
       "<td>  105.5 KB</td>\n",
       "<td>38.699123</td></tr></table></div>"
      ],
      "text/plain": [
       "chunk_type    chunk_name                 count    count_percentage    size      size_percentage\n",
       "------------  -------------------------  -------  ------------------  --------  -----------------\n",
       "CBS           Bits                       222      33.0357             21.2 KB   7.79459\n",
       "CX0           Zero Sparse Bits           2        0.297619            254  B    0.0910306\n",
       "C1N           1-Byte Integers (w/o NAs)  352      52.381              99.0 KB   36.3438\n",
       "C2S           2-Byte Fractions           32       4.7619              16.4 KB   6.0116\n",
       "C4S           4-Byte Fractions           32       4.7619              30.1 KB   11.0599\n",
       "CStr          String                     32       4.7619              105.5 KB  38.6991"
      ]
     },
     "metadata": {},
     "output_type": "display_data"
    },
    {
     "name": "stdout",
     "output_type": "stream",
     "text": [
      "\n",
      "Frame distribution summary: \n"
     ]
    },
    {
     "data": {
      "text/html": [
       "<div style=\"overflow:auto\"><table style=\"width:50%\"><tr><td><b></b></td>\n",
       "<td><b>size</b></td>\n",
       "<td><b>number_of_rows</b></td>\n",
       "<td><b>number_of_chunks_per_column</b></td>\n",
       "<td><b>number_of_chunks</b></td></tr>\n",
       "<tr><td>127.0.0.1:54321</td>\n",
       "<td>  272.5 KB</td>\n",
       "<td>7043.0</td>\n",
       "<td>32.0</td>\n",
       "<td>672.0</td></tr>\n",
       "<tr><td>mean</td>\n",
       "<td>  272.5 KB</td>\n",
       "<td>7043.0</td>\n",
       "<td>32.0</td>\n",
       "<td>672.0</td></tr>\n",
       "<tr><td>min</td>\n",
       "<td>  272.5 KB</td>\n",
       "<td>7043.0</td>\n",
       "<td>32.0</td>\n",
       "<td>672.0</td></tr>\n",
       "<tr><td>max</td>\n",
       "<td>  272.5 KB</td>\n",
       "<td>7043.0</td>\n",
       "<td>32.0</td>\n",
       "<td>672.0</td></tr>\n",
       "<tr><td>stddev</td>\n",
       "<td>      0  B</td>\n",
       "<td>0.0</td>\n",
       "<td>0.0</td>\n",
       "<td>0.0</td></tr>\n",
       "<tr><td>total</td>\n",
       "<td>  272.5 KB</td>\n",
       "<td>7043.0</td>\n",
       "<td>32.0</td>\n",
       "<td>672.0</td></tr></table></div>"
      ],
      "text/plain": [
       "                 size      number_of_rows    number_of_chunks_per_column    number_of_chunks\n",
       "---------------  --------  ----------------  -----------------------------  ------------------\n",
       "127.0.0.1:54321  272.5 KB  7043              32                             672\n",
       "mean             272.5 KB  7043              32                             672\n",
       "min              272.5 KB  7043              32                             672\n",
       "max              272.5 KB  7043              32                             672\n",
       "stddev           0  B      0                 0                              0\n",
       "total            272.5 KB  7043              32                             672"
      ]
     },
     "metadata": {},
     "output_type": "display_data"
    },
    {
     "name": "stdout",
     "output_type": "stream",
     "text": [
      "\n",
      "\n"
     ]
    },
    {
     "data": {
      "text/html": [
       "<table>\n",
       "<tr><th>       </th><th>customerID  </th><th>gender        </th><th>SeniorCitizen  </th><th>Partner       </th><th>Dependents    </th><th>tenure       </th><th>PhoneService  </th><th>MultipleLines   </th><th>InternetService  </th><th>OnlineSecurity  </th><th>OnlineBackup  </th><th>DeviceProtection  </th><th>TechSupport  </th><th>StreamingTV  </th><th>StreamingMovies  </th><th>Contract      </th><th>PaperlessBilling  </th><th>PaymentMethod            </th><th>MonthlyCharges  </th><th>TotalCharges  </th><th>Churn         </th></tr>\n",
       "<tr><td>type   </td><td>string      </td><td>enum          </td><td>int            </td><td>enum          </td><td>enum          </td><td>int          </td><td>enum          </td><td>enum            </td><td>enum             </td><td>enum            </td><td>enum          </td><td>enum              </td><td>enum         </td><td>enum         </td><td>enum             </td><td>enum          </td><td>enum              </td><td>enum                     </td><td>real            </td><td>real          </td><td>enum          </td></tr>\n",
       "<tr><td>mins   </td><td>NaN         </td><td>0.0           </td><td>0.0            </td><td>0.0           </td><td>0.0           </td><td>0.0          </td><td>0.0           </td><td>0.0             </td><td>0.0              </td><td>0.0             </td><td>0.0           </td><td>0.0               </td><td>0.0          </td><td>0.0          </td><td>0.0              </td><td>0.0           </td><td>0.0               </td><td>0.0                      </td><td>18.25           </td><td>18.8          </td><td>0.0           </td></tr>\n",
       "<tr><td>mean   </td><td>NaN         </td><td>0.504756495811</td><td>0.162146812438 </td><td>0.483032798523</td><td>0.299588243646</td><td>32.3711486582</td><td>0.903166264376</td><td>NaN             </td><td>NaN              </td><td>NaN             </td><td>NaN           </td><td>NaN               </td><td>NaN          </td><td>NaN          </td><td>NaN              </td><td>NaN           </td><td>0.592219224762    </td><td>NaN                      </td><td>64.7616924606   </td><td>2283.30044084 </td><td>0.265369870794</td></tr>\n",
       "<tr><td>maxs   </td><td>NaN         </td><td>1.0           </td><td>1.0            </td><td>1.0           </td><td>1.0           </td><td>72.0         </td><td>1.0           </td><td>2.0             </td><td>2.0              </td><td>2.0             </td><td>2.0           </td><td>2.0               </td><td>2.0          </td><td>2.0          </td><td>2.0              </td><td>2.0           </td><td>1.0               </td><td>3.0                      </td><td>118.75          </td><td>8684.8        </td><td>1.0           </td></tr>\n",
       "<tr><td>sigma  </td><td>NaN         </td><td>0.500012873647</td><td>0.36861160561  </td><td>0.49974751072 </td><td>0.45811016751 </td><td>24.5594810231</td><td>0.295752231784</td><td>NaN             </td><td>NaN              </td><td>NaN             </td><td>NaN           </td><td>NaN               </td><td>NaN          </td><td>NaN          </td><td>NaN              </td><td>NaN           </td><td>0.491456924049    </td><td>NaN                      </td><td>30.0900470977   </td><td>2266.77136188 </td><td>0.441561305122</td></tr>\n",
       "<tr><td>zeros  </td><td>0           </td><td>3488          </td><td>5901           </td><td>3641          </td><td>4933          </td><td>11           </td><td>682           </td><td>3390            </td><td>2421             </td><td>3498            </td><td>3088          </td><td>3095              </td><td>3473         </td><td>2810         </td><td>2785             </td><td>3875          </td><td>2872              </td><td>1544                     </td><td>0               </td><td>0             </td><td>5174          </td></tr>\n",
       "<tr><td>missing</td><td>0           </td><td>0             </td><td>0              </td><td>0             </td><td>0             </td><td>0            </td><td>0             </td><td>0               </td><td>0                </td><td>0               </td><td>0             </td><td>0                 </td><td>0            </td><td>0            </td><td>0                </td><td>0             </td><td>0                 </td><td>0                        </td><td>0               </td><td>11            </td><td>0             </td></tr>\n",
       "<tr><td>0      </td><td>7590-VHVEG  </td><td>Female        </td><td>0.0            </td><td>Yes           </td><td>No            </td><td>1.0          </td><td>No            </td><td>No phone service</td><td>DSL              </td><td>No              </td><td>Yes           </td><td>No                </td><td>No           </td><td>No           </td><td>No               </td><td>Month-to-month</td><td>Yes               </td><td>Electronic check         </td><td>29.85           </td><td>29.85         </td><td>No            </td></tr>\n",
       "<tr><td>1      </td><td>5575-GNVDE  </td><td>Male          </td><td>0.0            </td><td>No            </td><td>No            </td><td>34.0         </td><td>Yes           </td><td>No              </td><td>DSL              </td><td>Yes             </td><td>No            </td><td>Yes               </td><td>No           </td><td>No           </td><td>No               </td><td>One year      </td><td>No                </td><td>Mailed check             </td><td>56.95           </td><td>1889.5        </td><td>No            </td></tr>\n",
       "<tr><td>2      </td><td>3668-QPYBK  </td><td>Male          </td><td>0.0            </td><td>No            </td><td>No            </td><td>2.0          </td><td>Yes           </td><td>No              </td><td>DSL              </td><td>Yes             </td><td>Yes           </td><td>No                </td><td>No           </td><td>No           </td><td>No               </td><td>Month-to-month</td><td>Yes               </td><td>Mailed check             </td><td>53.85           </td><td>108.15        </td><td>Yes           </td></tr>\n",
       "<tr><td>3      </td><td>7795-CFOCW  </td><td>Male          </td><td>0.0            </td><td>No            </td><td>No            </td><td>45.0         </td><td>No            </td><td>No phone service</td><td>DSL              </td><td>Yes             </td><td>No            </td><td>Yes               </td><td>Yes          </td><td>No           </td><td>No               </td><td>One year      </td><td>No                </td><td>Bank transfer (automatic)</td><td>42.3            </td><td>1840.75       </td><td>No            </td></tr>\n",
       "<tr><td>4      </td><td>9237-HQITU  </td><td>Female        </td><td>0.0            </td><td>No            </td><td>No            </td><td>2.0          </td><td>Yes           </td><td>No              </td><td>Fiber optic      </td><td>No              </td><td>No            </td><td>No                </td><td>No           </td><td>No           </td><td>No               </td><td>Month-to-month</td><td>Yes               </td><td>Electronic check         </td><td>70.7            </td><td>151.65        </td><td>Yes           </td></tr>\n",
       "<tr><td>5      </td><td>9305-CDSKC  </td><td>Female        </td><td>0.0            </td><td>No            </td><td>No            </td><td>8.0          </td><td>Yes           </td><td>Yes             </td><td>Fiber optic      </td><td>No              </td><td>No            </td><td>Yes               </td><td>No           </td><td>Yes          </td><td>Yes              </td><td>Month-to-month</td><td>Yes               </td><td>Electronic check         </td><td>99.65           </td><td>820.5         </td><td>Yes           </td></tr>\n",
       "<tr><td>6      </td><td>1452-KIOVK  </td><td>Male          </td><td>0.0            </td><td>No            </td><td>Yes           </td><td>22.0         </td><td>Yes           </td><td>Yes             </td><td>Fiber optic      </td><td>No              </td><td>Yes           </td><td>No                </td><td>No           </td><td>Yes          </td><td>No               </td><td>Month-to-month</td><td>Yes               </td><td>Credit card (automatic)  </td><td>89.1            </td><td>1949.4        </td><td>No            </td></tr>\n",
       "<tr><td>7      </td><td>6713-OKOMC  </td><td>Female        </td><td>0.0            </td><td>No            </td><td>No            </td><td>10.0         </td><td>No            </td><td>No phone service</td><td>DSL              </td><td>Yes             </td><td>No            </td><td>No                </td><td>No           </td><td>No           </td><td>No               </td><td>Month-to-month</td><td>No                </td><td>Mailed check             </td><td>29.75           </td><td>301.9         </td><td>No            </td></tr>\n",
       "<tr><td>8      </td><td>7892-POOKP  </td><td>Female        </td><td>0.0            </td><td>Yes           </td><td>No            </td><td>28.0         </td><td>Yes           </td><td>Yes             </td><td>Fiber optic      </td><td>No              </td><td>No            </td><td>Yes               </td><td>Yes          </td><td>Yes          </td><td>Yes              </td><td>Month-to-month</td><td>Yes               </td><td>Electronic check         </td><td>104.8           </td><td>3046.05       </td><td>Yes           </td></tr>\n",
       "<tr><td>9      </td><td>6388-TABGU  </td><td>Male          </td><td>0.0            </td><td>No            </td><td>Yes           </td><td>62.0         </td><td>Yes           </td><td>No              </td><td>DSL              </td><td>Yes             </td><td>Yes           </td><td>No                </td><td>No           </td><td>No           </td><td>No               </td><td>One year      </td><td>No                </td><td>Bank transfer (automatic)</td><td>56.15           </td><td>3487.95       </td><td>No            </td></tr>\n",
       "</table>"
      ]
     },
     "metadata": {},
     "output_type": "display_data"
    }
   ],
   "source": [
    "# get a summary of the dataset\n",
    "print telco_dataset.nacnt()\n",
    "telco_dataset.describe()"
   ]
  },
  {
   "cell_type": "code",
   "execution_count": 6,
   "metadata": {
    "collapsed": false
   },
   "outputs": [
    {
     "data": {
      "text/plain": [
       "[u'customerID',\n",
       " u'gender',\n",
       " u'SeniorCitizen',\n",
       " u'Partner',\n",
       " u'Dependents',\n",
       " u'tenure',\n",
       " u'PhoneService',\n",
       " u'MultipleLines',\n",
       " u'InternetService',\n",
       " u'OnlineSecurity',\n",
       " u'OnlineBackup',\n",
       " u'DeviceProtection',\n",
       " u'TechSupport',\n",
       " u'StreamingTV',\n",
       " u'StreamingMovies',\n",
       " u'Contract',\n",
       " u'PaperlessBilling',\n",
       " u'PaymentMethod',\n",
       " u'MonthlyCharges',\n",
       " u'TotalCharges',\n",
       " u'Churn']"
      ]
     },
     "execution_count": 6,
     "metadata": {},
     "output_type": "execute_result"
    }
   ],
   "source": [
    "# what does each column tell you, make sure type is correct, and see if new features need to be created with strings\n",
    "telco_dataset.columns"
   ]
  },
  {
   "cell_type": "code",
   "execution_count": 7,
   "metadata": {
    "collapsed": false
   },
   "outputs": [
    {
     "data": {
      "text/plain": [
       "7043"
      ]
     },
     "execution_count": 7,
     "metadata": {},
     "output_type": "execute_result"
    }
   ],
   "source": [
    "# check whether the customerID column is unique per row, if so use as an index and remove from the predictors\n",
    "telco_dataset['customerID'].asfactor().unique().nrow\n"
   ]
  },
  {
   "cell_type": "code",
   "execution_count": 8,
   "metadata": {
    "collapsed": false
   },
   "outputs": [],
   "source": [
    "# select all columns as predictors except the customerID (which is like an index) and the response column\n",
    "features_list = list(telco_dataset.columns[1:-1])\n",
    "response_name = 'Churn'"
   ]
  },
  {
   "cell_type": "code",
   "execution_count": 9,
   "metadata": {
    "collapsed": false
   },
   "outputs": [
    {
     "name": "stdout",
     "output_type": "stream",
     "text": [
      "the response classes are: [['No', 'Yes']]\n",
      "number of classes: [2]\n",
      "\n",
      "Is the response column a categorical: [True]\n",
      "\n",
      "there are 11.0 missing values in the dataset\n",
      "there are 0.0 missing values in the labels\n",
      "\n",
      "check for class imbalace\n",
      "------------------------\n"
     ]
    },
    {
     "data": {
      "text/html": [
       "<table>\n",
       "<tr><th>Churn  </th><th style=\"text-align: right;\">  Count</th></tr>\n",
       "<tr><td>No     </td><td style=\"text-align: right;\">   5174</td></tr>\n",
       "<tr><td>Yes    </td><td style=\"text-align: right;\">   1869</td></tr>\n",
       "</table>"
      ]
     },
     "metadata": {},
     "output_type": "display_data"
    },
    {
     "data": {
      "text/plain": []
     },
     "execution_count": 9,
     "metadata": {},
     "output_type": "execute_result"
    }
   ],
   "source": [
    "# specify the response column\n",
    "response_col = telco_dataset['Churn']\n",
    "# get a list of the categorical levels in your response column\n",
    "print 'the response classes are:',response_col.levels()\n",
    "print 'number of classes:', response_col.nlevels()\n",
    "print ''\n",
    "# check that the response column is already interpreted as a factor (i.e. enum/categorical)\n",
    "print 'Is the response column a categorical:',response_col.isfactor()\n",
    "# check that there are two levels in our response column:\n",
    "response_col.nlevels()\n",
    "print ''\n",
    "# check for missing values in the training set and specifically the response column\n",
    "print 'there are {0} missing values in the dataset'.format(telco_dataset.isna().sum())\n",
    "print 'there are {0} missing values in the labels'.format(telco_dataset[response_col].isna().sum())\n",
    "print ''\n",
    "\n",
    "print 'check for class imbalace'\n",
    "print '------------------------'\n",
    "telco_dataset['Churn'].table()\n"
   ]
  },
  {
   "cell_type": "code",
   "execution_count": 10,
   "metadata": {
    "collapsed": false
   },
   "outputs": [
    {
     "name": "stdout",
     "output_type": "stream",
     "text": [
      "Question: How imbalanced is this dataset? Ans: no the dataset is not imbalanced\n"
     ]
    },
    {
     "data": {
      "text/html": [
       "<table>\n",
       "<tr><th style=\"text-align: right;\">  Count</th></tr>\n",
       "<tr><td style=\"text-align: right;\">0.73463</td></tr>\n",
       "<tr><td style=\"text-align: right;\">0.26537</td></tr>\n",
       "</table>"
      ]
     },
     "metadata": {},
     "output_type": "display_data"
    },
    {
     "data": {
      "text/plain": []
     },
     "execution_count": 10,
     "metadata": {},
     "output_type": "execute_result"
    }
   ],
   "source": [
    "print 'Question: How imbalanced is this dataset? Ans: no the dataset is not imbalanced'\n",
    "num_train_samples = telco_dataset.shape[0]  # Total number of training samples\n",
    "telco_dataset['Churn'].table()['Count']/num_train_samples"
   ]
  },
  {
   "cell_type": "code",
   "execution_count": 11,
   "metadata": {
    "collapsed": false
   },
   "outputs": [
    {
     "name": "stdout",
     "output_type": "stream",
     "text": [
      "gender      Count\n",
      "--------  -------\n",
      "Female       3488\n",
      "Male         3555\n",
      "\n",
      "[2 rows x 2 columns]\n",
      "~~~~~~~~~~~~~~~~~~~~~~~~~~~~~~~~~~~~~~\n",
      "  SeniorCitizen    Count\n",
      "---------------  -------\n",
      "              0     5901\n",
      "              1     1142\n",
      "\n",
      "[2 rows x 2 columns]\n",
      "~~~~~~~~~~~~~~~~~~~~~~~~~~~~~~~~~~~~~~\n",
      "Partner      Count\n",
      "---------  -------\n",
      "No            3641\n",
      "Yes           3402\n",
      "\n",
      "[2 rows x 2 columns]\n",
      "~~~~~~~~~~~~~~~~~~~~~~~~~~~~~~~~~~~~~~\n",
      "Dependents      Count\n",
      "------------  -------\n",
      "No               4933\n",
      "Yes              2110\n",
      "\n",
      "[2 rows x 2 columns]\n",
      "~~~~~~~~~~~~~~~~~~~~~~~~~~~~~~~~~~~~~~\n",
      "  tenure    Count\n",
      "--------  -------\n",
      "       0       11\n",
      "       1      613\n",
      "       2      238\n",
      "       3      200\n",
      "       4      176\n",
      "       5      133\n",
      "       6      110\n",
      "       7      131\n",
      "       8      123\n",
      "       9      119\n",
      "\n",
      "[73 rows x 2 columns]\n",
      "~~~~~~~~~~~~~~~~~~~~~~~~~~~~~~~~~~~~~~\n",
      "PhoneService      Count\n",
      "--------------  -------\n",
      "No                  682\n",
      "Yes                6361\n",
      "\n",
      "[2 rows x 2 columns]\n",
      "~~~~~~~~~~~~~~~~~~~~~~~~~~~~~~~~~~~~~~\n",
      "MultipleLines       Count\n",
      "----------------  -------\n",
      "No                   3390\n",
      "No phone service      682\n",
      "Yes                  2971\n",
      "\n",
      "[3 rows x 2 columns]\n",
      "~~~~~~~~~~~~~~~~~~~~~~~~~~~~~~~~~~~~~~\n",
      "InternetService      Count\n",
      "-----------------  -------\n",
      "DSL                   2421\n",
      "Fiber optic           3096\n",
      "No                    1526\n",
      "\n",
      "[3 rows x 2 columns]\n",
      "~~~~~~~~~~~~~~~~~~~~~~~~~~~~~~~~~~~~~~\n",
      "OnlineSecurity         Count\n",
      "-------------------  -------\n",
      "No                      3498\n",
      "No internet service     1526\n",
      "Yes                     2019\n",
      "\n",
      "[3 rows x 2 columns]\n",
      "~~~~~~~~~~~~~~~~~~~~~~~~~~~~~~~~~~~~~~\n",
      "OnlineBackup           Count\n",
      "-------------------  -------\n",
      "No                      3088\n",
      "No internet service     1526\n",
      "Yes                     2429\n",
      "\n",
      "[3 rows x 2 columns]\n",
      "~~~~~~~~~~~~~~~~~~~~~~~~~~~~~~~~~~~~~~\n",
      "DeviceProtection       Count\n",
      "-------------------  -------\n",
      "No                      3095\n",
      "No internet service     1526\n",
      "Yes                     2422\n",
      "\n",
      "[3 rows x 2 columns]\n",
      "~~~~~~~~~~~~~~~~~~~~~~~~~~~~~~~~~~~~~~\n",
      "TechSupport            Count\n",
      "-------------------  -------\n",
      "No                      3473\n",
      "No internet service     1526\n",
      "Yes                     2044\n",
      "\n",
      "[3 rows x 2 columns]\n",
      "~~~~~~~~~~~~~~~~~~~~~~~~~~~~~~~~~~~~~~\n",
      "StreamingTV            Count\n",
      "-------------------  -------\n",
      "No                      2810\n",
      "No internet service     1526\n",
      "Yes                     2707\n",
      "\n",
      "[3 rows x 2 columns]\n",
      "~~~~~~~~~~~~~~~~~~~~~~~~~~~~~~~~~~~~~~\n",
      "StreamingMovies        Count\n",
      "-------------------  -------\n",
      "No                      2785\n",
      "No internet service     1526\n",
      "Yes                     2732\n",
      "\n",
      "[3 rows x 2 columns]\n",
      "~~~~~~~~~~~~~~~~~~~~~~~~~~~~~~~~~~~~~~\n",
      "Contract          Count\n",
      "--------------  -------\n",
      "Month-to-month     3875\n",
      "One year           1473\n",
      "Two year           1695\n",
      "\n",
      "[3 rows x 2 columns]\n",
      "~~~~~~~~~~~~~~~~~~~~~~~~~~~~~~~~~~~~~~\n",
      "PaperlessBilling      Count\n",
      "------------------  -------\n",
      "No                     2872\n",
      "Yes                    4171\n",
      "\n",
      "[2 rows x 2 columns]\n",
      "~~~~~~~~~~~~~~~~~~~~~~~~~~~~~~~~~~~~~~\n",
      "PaymentMethod                Count\n",
      "-------------------------  -------\n",
      "Bank transfer (automatic)     1544\n",
      "Credit card (automatic)       1522\n",
      "Electronic check              2365\n",
      "Mailed check                  1612\n",
      "\n",
      "[4 rows x 2 columns]\n",
      "~~~~~~~~~~~~~~~~~~~~~~~~~~~~~~~~~~~~~~\n",
      "  MonthlyCharges    Counts\n",
      "----------------  --------\n",
      "           18.25         1\n",
      "           18.4          1\n",
      "           18.55         1\n",
      "           18.7          2\n",
      "           18.75         1\n",
      "           18.8          7\n",
      "           18.85         5\n",
      "           18.9          2\n",
      "           18.95         6\n",
      "           19            7\n",
      "\n",
      "[1585 rows x 2 columns]\n",
      "~~~~~~~~~~~~~~~~~~~~~~~~~~~~~~~~~~~~~~\n",
      "  TotalCharges    Counts\n",
      "--------------  --------\n",
      "         18.8          1\n",
      "         18.85         2\n",
      "         18.9          1\n",
      "         19            1\n",
      "         19.05         1\n",
      "         19.1          3\n",
      "         19.15         1\n",
      "         19.2          4\n",
      "         19.25         3\n",
      "         19.3          4\n",
      "\n",
      "[6530 rows x 2 columns]\n",
      "~~~~~~~~~~~~~~~~~~~~~~~~~~~~~~~~~~~~~~\n"
     ]
    }
   ],
   "source": [
    "for column_name in telco_dataset.columns[1:-1]:\n",
    "    print telco_dataset[str(column_name)].table()\n",
    "    print '~~~~~~~~~~~~~~~~~~~~~~~~~~~~~~~~~~~~~~'\n",
    "    "
   ]
  },
  {
   "cell_type": "code",
   "execution_count": 12,
   "metadata": {
    "collapsed": true
   },
   "outputs": [],
   "source": [
    "# split your datasets\n",
    "train, valid, test = telco_dataset.split_frame(ratios=[0.6,0.2], seed=1234)"
   ]
  },
  {
   "cell_type": "code",
   "execution_count": 13,
   "metadata": {
    "collapsed": false
   },
   "outputs": [
    {
     "name": "stdout",
     "output_type": "stream",
     "text": [
      "(4248, 21)\n",
      "(1415, 21)\n",
      "(1380, 21)\n",
      "7043\n"
     ]
    }
   ],
   "source": [
    "# check that the split went as expected\n",
    "print train.shape\n",
    "print valid.shape\n",
    "print test.shape\n",
    "print train.shape[0] + valid.shape[0] + test.shape[0]"
   ]
  },
  {
   "cell_type": "code",
   "execution_count": 26,
   "metadata": {
    "collapsed": true
   },
   "outputs": [],
   "source": [
    "# run gbm estimator with the default parameters to establish a benchmark model (set seed for reproducibility)\n",
    "# import GBM\n",
    "from h2o.estimators.gbm import H2OGradientBoostingEstimator\n",
    "default_model = H2OGradientBoostingEstimator(seed = 1234)\n",
    "\n",
    "# model_1 = H2OGradientBoostingEstimator(distribution='bernoulli',\n",
    "#                                     ntrees=100,\n",
    "#                                     max_depth=4,\n",
    "#                                     learn_rate=0.1,\n",
    "#                                     seed = 1234)"
   ]
  },
  {
   "cell_type": "code",
   "execution_count": 27,
   "metadata": {
    "collapsed": false
   },
   "outputs": [
    {
     "name": "stdout",
     "output_type": "stream",
     "text": [
      "\n",
      "gbm Model Build Progress: [##################################################] 100%\n"
     ]
    }
   ],
   "source": [
    "# train the default model\n",
    "default_model.train(x=features_list, y=response_name, training_frame=train)"
   ]
  },
  {
   "cell_type": "code",
   "execution_count": 28,
   "metadata": {
    "collapsed": false
   },
   "outputs": [
    {
     "name": "stdout",
     "output_type": "stream",
     "text": [
      "train auc: 0.908830586543\n",
      "validation auc: 0.847424663727\n"
     ]
    }
   ],
   "source": [
    "# get the AUC for the training set\n",
    "print 'train auc:', default_model.auc() \n",
    "\n",
    "# get the AUC for the validation set\n",
    "default_perf_on_valid = default_model.model_performance(valid)\n",
    "print 'validation auc:', default_perf_on_valid.auc()"
   ]
  },
  {
   "cell_type": "code",
   "execution_count": 29,
   "metadata": {
    "collapsed": true
   },
   "outputs": [],
   "source": [
    "# using parameters from https://github.com/h2oai/h2o-3/blob/master/h2o-docs/src/product/tutorials/gbm/gbmTuning.Rmd\n",
    "# this model overfits less on the training set\n",
    "model_0 = H2OGradientBoostingEstimator(distribution='bernoulli',\n",
    "                                    ntrees=10000,\n",
    "                                    max_depth=4,\n",
    "                                    learn_rate=0.01,\n",
    "                                    stopping_rounds = 5, stopping_tolerance = 1e-4, stopping_metric = \"AUC\",\n",
    "                                    sample_rate = 0.8,\n",
    "                                    col_sample_rate = 0.8,\n",
    "                                    seed = 1234,\n",
    "                                    score_tree_interval = 10)"
   ]
  },
  {
   "cell_type": "code",
   "execution_count": 30,
   "metadata": {
    "collapsed": false
   },
   "outputs": [
    {
     "name": "stdout",
     "output_type": "stream",
     "text": [
      "\n",
      "gbm Model Build Progress: [##################################################] 100%\n"
     ]
    }
   ],
   "source": [
    "model_0.train(x=features_list, \n",
    "              y=response_name, \n",
    "              training_frame=train,\n",
    "              validation_frame = valid)"
   ]
  },
  {
   "cell_type": "code",
   "execution_count": 31,
   "metadata": {
    "collapsed": false
   },
   "outputs": [
    {
     "name": "stdout",
     "output_type": "stream",
     "text": [
      "train auc: 0.868352080745\n",
      "validation auc: 0.848603394534\n"
     ]
    }
   ],
   "source": [
    "# get the AUC for the training set\n",
    "print 'train auc:', model_0.auc() \n",
    "\n",
    "# get the AUC for the validation set\n",
    "model_0_perf_on_valid = model_0.model_performance(valid)\n",
    "print 'validation auc:', model_0_perf_on_valid.auc()"
   ]
  },
  {
   "cell_type": "markdown",
   "metadata": {},
   "source": [
    "## Grid Search\n",
    "First we want to know what value of max_depth to use because it has a big impact on the model training time and optimal values depend strongly on the dataset. We'll do a quick Cartesian grid search to get a rough idea of good candidate max_depth values. Each model in the grid search will use early stopping to tune the number of trees using the validation set AUC, as before."
   ]
  },
  {
   "cell_type": "code",
   "execution_count": 34,
   "metadata": {
    "collapsed": false
   },
   "outputs": [],
   "source": [
    "# using grid to get the best max_depths\n",
    "hyper_params = {'max_depth' : range(1,30,2)}\n",
    "search_criteria = {'strategy': \"Cartesian\"}"
   ]
  },
  {
   "cell_type": "code",
   "execution_count": 54,
   "metadata": {
    "collapsed": false
   },
   "outputs": [],
   "source": [
    "# todo: check why learn_rate_annealing breaks\n",
    "from h2o.grid.grid_search import H2OGridSearch\n",
    "gs_1 = H2OGridSearch(H2OGradientBoostingEstimator(distribution='bernoulli',\n",
    "                                    ntrees=10000,\n",
    "                                    learn_rate=0.05,\n",
    "                                    # learn_rate_annealing = 0.99, \n",
    "                                    sample_rate = 0.8,\n",
    "                                    col_sample_rate = 0.8,\n",
    "                                    seed = 1234,\n",
    "                                    score_tree_interval = 10,              \n",
    "                                    stopping_rounds = 5,\n",
    "                                    stopping_metric = \"AUC\",\n",
    "                                    stopping_tolerance = 1e-4),\n",
    "                                    hyper_params = hyper_params,\n",
    "                                    grid_id = 'grid_determines_max_depth',\n",
    "                                    search_criteria = search_criteria)"
   ]
  },
  {
   "cell_type": "code",
   "execution_count": 55,
   "metadata": {
    "collapsed": false
   },
   "outputs": [
    {
     "name": "stdout",
     "output_type": "stream",
     "text": [
      "\n",
      "gbm Grid Build Progress: [##################################################] 100%\n"
     ]
    }
   ],
   "source": [
    "# train grid search\n",
    "gs_1.train(x=features_list, \n",
    "           y=response_name, \n",
    "           training_frame=train,\n",
    "           validation_frame = valid)"
   ]
  },
  {
   "cell_type": "code",
   "execution_count": 57,
   "metadata": {
    "collapsed": false
   },
   "outputs": [
    {
     "name": "stdout",
     "output_type": "stream",
     "text": [
      "      max_depth                           model_ids   logloss\n",
      "0             1   grid_determines_max_depth_model_0  0.402824\n",
      "1             3   grid_determines_max_depth_model_1  0.405411\n",
      "2             5   grid_determines_max_depth_model_2  0.410130\n",
      "3             7   grid_determines_max_depth_model_3  0.420164\n",
      "4             9   grid_determines_max_depth_model_4  0.449661\n",
      "5            11   grid_determines_max_depth_model_5  0.449793\n",
      "6            13   grid_determines_max_depth_model_6  0.459783\n",
      "7            15   grid_determines_max_depth_model_7  0.461172\n",
      "8            19   grid_determines_max_depth_model_9  0.462638\n",
      "9            17   grid_determines_max_depth_model_8  0.465534\n",
      "10           23  grid_determines_max_depth_model_11  0.466646\n",
      "11           21  grid_determines_max_depth_model_10  0.466922\n",
      "12           29  grid_determines_max_depth_model_14  0.469878\n",
      "13           27  grid_determines_max_depth_model_13  0.470511\n",
      "14           25  grid_determines_max_depth_model_12  0.473390\n",
      "\n"
     ]
    }
   ],
   "source": [
    "# get the grid search results to see which max_depth performed the best\n",
    "print(gs_1)"
   ]
  },
  {
   "cell_type": "code",
   "execution_count": 58,
   "metadata": {
    "collapsed": false
   },
   "outputs": [
    {
     "name": "stdout",
     "output_type": "stream",
     "text": [
      "\n",
      "Grid Search Results for H2OGradientBoostingEstimator: \n"
     ]
    },
    {
     "data": {
      "text/html": [
       "<div style=\"overflow:auto\"><table style=\"width:50%\"><tr><td><b>Model Id</b></td>\n",
       "<td><b>Hyperparameters: [max_depth]</b></td>\n",
       "<td><b>auc(valid=True)</b></td></tr>\n",
       "<tr><td>grid_determines_max_depth_model_0</td>\n",
       "<td>[1]</td>\n",
       "<td>0.8507848</td></tr>\n",
       "<tr><td>grid_determines_max_depth_model_1</td>\n",
       "<td>[3]</td>\n",
       "<td>0.8483866</td></tr>\n",
       "<tr><td>grid_determines_max_depth_model_2</td>\n",
       "<td>[5]</td>\n",
       "<td>0.8442249</td></tr>\n",
       "<tr><td>grid_determines_max_depth_model_3</td>\n",
       "<td>[7]</td>\n",
       "<td>0.8389147</td></tr>\n",
       "<tr><td>grid_determines_max_depth_model_4</td>\n",
       "<td>[9]</td>\n",
       "<td>0.8278475</td></tr>\n",
       "<tr><td>grid_determines_max_depth_model_5</td>\n",
       "<td>[11]</td>\n",
       "<td>0.8256214</td></tr>\n",
       "<tr><td>grid_determines_max_depth_model_9</td>\n",
       "<td>[19]</td>\n",
       "<td>0.8240774</td></tr>\n",
       "<tr><td>grid_determines_max_depth_model_7</td>\n",
       "<td>[15]</td>\n",
       "<td>0.8237686</td></tr>\n",
       "<tr><td>grid_determines_max_depth_model_11</td>\n",
       "<td>[23]</td>\n",
       "<td>0.8234782</td></tr>\n",
       "<tr><td>grid_determines_max_depth_model_8</td>\n",
       "<td>[17]</td>\n",
       "<td>0.8234190</td></tr>\n",
       "<tr><td>grid_determines_max_depth_model_6</td>\n",
       "<td>[13]</td>\n",
       "<td>0.8227396</td></tr>\n",
       "<tr><td>grid_determines_max_depth_model_10</td>\n",
       "<td>[21]</td>\n",
       "<td>0.8220655</td></tr>\n",
       "<tr><td>grid_determines_max_depth_model_14</td>\n",
       "<td>[29]</td>\n",
       "<td>0.8205898</td></tr>\n",
       "<tr><td>grid_determines_max_depth_model_13</td>\n",
       "<td>[27]</td>\n",
       "<td>0.8201798</td></tr>\n",
       "<tr><td>grid_determines_max_depth_model_12</td>\n",
       "<td>[25]</td>\n",
       "<td>0.8187291</td></tr></table></div>"
      ],
      "text/plain": [
       "Model Id                            Hyperparameters: [max_depth]    auc(valid=True)\n",
       "----------------------------------  ------------------------------  -----------------\n",
       "grid_determines_max_depth_model_0   [1]                             0.850785\n",
       "grid_determines_max_depth_model_1   [3]                             0.848387\n",
       "grid_determines_max_depth_model_2   [5]                             0.844225\n",
       "grid_determines_max_depth_model_3   [7]                             0.838915\n",
       "grid_determines_max_depth_model_4   [9]                             0.827847\n",
       "grid_determines_max_depth_model_5   [11]                            0.825621\n",
       "grid_determines_max_depth_model_9   [19]                            0.824077\n",
       "grid_determines_max_depth_model_7   [15]                            0.823769\n",
       "grid_determines_max_depth_model_11  [23]                            0.823478\n",
       "grid_determines_max_depth_model_8   [17]                            0.823419\n",
       "grid_determines_max_depth_model_6   [13]                            0.82274\n",
       "grid_determines_max_depth_model_10  [21]                            0.822066\n",
       "grid_determines_max_depth_model_14  [29]                            0.82059\n",
       "grid_determines_max_depth_model_13  [27]                            0.82018\n",
       "grid_determines_max_depth_model_12  [25]                            0.818729"
      ]
     },
     "metadata": {},
     "output_type": "display_data"
    },
    {
     "name": "stdout",
     "output_type": "stream",
     "text": [
      "\n"
     ]
    }
   ],
   "source": [
    "# print out the auc for all models, sorted from best to worst\n",
    "auc_table = gs_1.sort_by('auc(valid=True)',increasing=False)\n",
    "print(auc_table)"
   ]
  },
  {
   "cell_type": "code",
   "execution_count": 60,
   "metadata": {
    "collapsed": false
   },
   "outputs": [
    {
     "name": "stdout",
     "output_type": "stream",
     "text": [
      "([5], [7], [9], [11], [19], [15], [23], [17])\n"
     ]
    }
   ],
   "source": [
    "# find the range of the max_depth for the top ten models\n",
    "new_auc_table = auc_table[1:10]\n",
    "max_depths_to_use = new_auc_table['Hyperparameters: [max_depth]']\n",
    "print max_depths_to_use\n",
    "\n",
    "# get the max depths as a list\n",
    "new_maxmin_list = []\n",
    "for element in max_depths_to_use:\n",
    "    new_maxmin_list.append(element[0])\n",
    "new_max = max(new_maxmin_list)\n",
    "new_min = min(new_maxmin_list)"
   ]
  },
  {
   "cell_type": "markdown",
   "metadata": {},
   "source": [
    "Now that we know a good range for max_depth, we can tune all other parameters in more detail. Since we don't know what combinations of hyper-parameters will result in the best model, we'll use random hyper-parameter search to \"let the machine get luckier than a best guess of any human\"."
   ]
  },
  {
   "cell_type": "code",
   "execution_count": 63,
   "metadata": {
    "collapsed": false
   },
   "outputs": [],
   "source": [
    "# variable used in the dictionary:\n",
    "log_val = math.log(train.nrow,2)-1\n",
    "\n",
    "# create hyperameter and search criteria lists\n",
    "hyper_params_2 = {'max_depth' : list(np.arange(new_min,new_max,1)),\n",
    "                'sample_rate': list(np.arange(0.3,1,0.01)),\n",
    "                'col_sample_rate' : list(np.arange(0.3,1,0.01)),\n",
    "                'col_sample_rate_per_tree': list(np.arange(0.3,1,0.01)),\n",
    "                'col_sample_rate_change_per_level': list(np.arange(0.9,1.1,0.01)),\n",
    "                'min_rows': list(2**np.arange(0,log_val,1)),\n",
    "                'nbins': list(2**np.arange(4,10,1)),\n",
    "                'nbins_cats': list(2**np.arange(4,12,1)),\n",
    "                'min_split_improvement': [0,1e-8,1e-6,1e-4],\n",
    "                'histogram_type': [\"UniformAdaptive\",\"QuantilesGlobal\",\"RoundRobin\"]}\n",
    "search_criteria_2 = {'strategy': \"RandomDiscrete\",\n",
    "                   'max_runtime_secs': 36000,\n",
    "                   'max_models' :50,\n",
    "                   'seed' : 1234,\n",
    "                   'stopping_rounds' : 5,\n",
    "                   'stopping_metric' : \"AUC\",\n",
    "                   }"
   ]
  },
  {
   "cell_type": "code",
   "execution_count": 64,
   "metadata": {
    "collapsed": false
   },
   "outputs": [],
   "source": [
    "gs_2 = H2OGridSearch(H2OGradientBoostingEstimator(distribution='bernoulli',\n",
    "                                    ntrees=10000,\n",
    "                                    learn_rate=0.05,\n",
    "                                    #learn_rate_annealing = 0.99,\n",
    "                                    stopping_rounds = 5,\n",
    "                                    stopping_tolerance = 1e-4,\n",
    "                                    stopping_metric = \"AUC\", \n",
    "                                    score_tree_interval = 10),\n",
    "                                    hyper_params = hyper_params_2,\n",
    "                                    grid_id = 'grid_2',\n",
    "                                    search_criteria = search_criteria_2)"
   ]
  },
  {
   "cell_type": "code",
   "execution_count": 65,
   "metadata": {
    "collapsed": false
   },
   "outputs": [
    {
     "name": "stdout",
     "output_type": "stream",
     "text": [
      "\n",
      "gbm Grid Build Progress: [##################################################] 100%\n",
      "       histogram_type  nbins_cats  sample_rate  nbins  min_rows  \\\n",
      "0          RoundRobin          64         0.43     32      32.0   \n",
      "1     UniformAdaptive        2048         0.42    128     128.0   \n",
      "2     QuantilesGlobal        2048         0.66     32     512.0   \n",
      "3          RoundRobin          64         0.97     16     512.0   \n",
      "4     QuantilesGlobal          32         0.73    256    1024.0   \n",
      "5          RoundRobin        1024         0.71    512    1024.0   \n",
      "6          RoundRobin         256         0.77    512    1024.0   \n",
      "7     QuantilesGlobal        2048         0.41     16     128.0   \n",
      "8          RoundRobin          64         0.92    512       1.0   \n",
      "9          RoundRobin          64         0.33     16     256.0   \n",
      "10    QuantilesGlobal        1024         0.50    512     256.0   \n",
      "11    UniformAdaptive         128         0.41    128       8.0   \n",
      "12    QuantilesGlobal          64         0.78     16       1.0   \n",
      "13    QuantilesGlobal        2048         0.37    512     128.0   \n",
      "14    QuantilesGlobal        2048         0.60     64     512.0   \n",
      "15    QuantilesGlobal        2048         0.76     64     256.0   \n",
      "16         RoundRobin        2048         0.57     64     128.0   \n",
      "17         RoundRobin        2048         0.38     16      32.0   \n",
      "18    QuantilesGlobal        1024         0.82    512     256.0   \n",
      "19    UniformAdaptive         256         0.65    256     128.0   \n",
      "20    UniformAdaptive        2048         0.94     64     256.0   \n",
      "21    UniformAdaptive        2048         0.90     32       4.0   \n",
      "22         RoundRobin        2048         0.46     16      16.0   \n",
      "23    QuantilesGlobal         128         0.48     32      32.0   \n",
      "24    QuantilesGlobal          16         0.99     64      64.0   \n",
      "25    UniformAdaptive          16         0.89    256      32.0   \n",
      "26    UniformAdaptive         128         0.47    128       4.0   \n",
      "27    UniformAdaptive          16         0.47    256      32.0   \n",
      "28         RoundRobin          32         0.35     64      16.0   \n",
      "29    UniformAdaptive        2048         0.35    512      16.0   \n",
      "30         RoundRobin        1024         0.64    256      16.0   \n",
      "31    QuantilesGlobal         512         0.41     32      16.0   \n",
      "32    UniformAdaptive         128         0.35    512       8.0   \n",
      "33    UniformAdaptive         128         0.76     64       8.0   \n",
      "34    QuantilesGlobal          64         0.88     64       1.0   \n",
      "35    QuantilesGlobal         256         0.41     64    2048.0   \n",
      "36    QuantilesGlobal          16         0.90     64    2048.0   \n",
      "37         RoundRobin        1024         0.63     32    2048.0   \n",
      "38    QuantilesGlobal         256         0.63    512    2048.0   \n",
      "39    UniformAdaptive          32         0.97     64    2048.0   \n",
      "40    UniformAdaptive         512         0.85     32       4.0   \n",
      "41    UniformAdaptive         512         0.87     16    2048.0   \n",
      "42         RoundRobin        1024         0.80     32    2048.0   \n",
      "43         RoundRobin        2048         0.75     16       8.0   \n",
      "44    QuantilesGlobal          32         0.89     32       1.0   \n",
      "45    QuantilesGlobal         512         0.43     32       2.0   \n",
      "46    UniformAdaptive          16         0.50    512       4.0   \n",
      "47    UniformAdaptive         128         0.82     16       2.0   \n",
      "48         RoundRobin        2048         0.30     16       1.0   \n",
      "49    QuantilesGlobal        2048         0.63    256       2.0   \n",
      "\n",
      "    col_sample_rate_change_per_level  min_split_improvement  max_depth  \\\n",
      "0                               1.05           1.000000e-06         20   \n",
      "1                               1.05           1.000000e-04         10   \n",
      "2                               1.10           1.000000e-06          5   \n",
      "3                               1.00           1.000000e-06         10   \n",
      "4                               0.92           0.000000e+00         12   \n",
      "5                               1.02           1.000000e-04         21   \n",
      "6                               1.08           1.000000e-06         22   \n",
      "7                               1.08           1.000000e-06          8   \n",
      "8                               1.01           0.000000e+00          5   \n",
      "9                               0.91           1.000000e-04          7   \n",
      "10                              0.97           1.000000e-04         11   \n",
      "11                              0.94           1.000000e-04          5   \n",
      "12                              0.97           1.000000e-08          7   \n",
      "13                              0.92           1.000000e-08         21   \n",
      "14                              0.98           0.000000e+00         13   \n",
      "15                              1.03           1.000000e-08         15   \n",
      "16                              0.92           1.000000e-04         16   \n",
      "17                              0.99           1.000000e-04          6   \n",
      "18                              1.10           1.000000e-08         10   \n",
      "19                              1.07           1.000000e-06         20   \n",
      "20                              1.03           1.000000e-08          8   \n",
      "21                              0.94           1.000000e-06          5   \n",
      "22                              0.91           1.000000e-08         16   \n",
      "23                              0.98           1.000000e-04         13   \n",
      "24                              0.91           1.000000e-04          7   \n",
      "25                              1.01           1.000000e-06         19   \n",
      "26                              1.04           1.000000e-04          6   \n",
      "27                              0.96           1.000000e-06         18   \n",
      "28                              1.04           0.000000e+00         19   \n",
      "29                              0.91           1.000000e-08         17   \n",
      "30                              1.06           1.000000e-04         12   \n",
      "31                              1.09           0.000000e+00         18   \n",
      "32                              0.94           1.000000e-06         15   \n",
      "33                              0.93           1.000000e-08         11   \n",
      "34                              0.92           0.000000e+00         15   \n",
      "35                              0.97           1.000000e-08         16   \n",
      "36                              0.94           1.000000e-08         18   \n",
      "37                              1.02           0.000000e+00         14   \n",
      "38                              0.94           1.000000e-06         13   \n",
      "39                              1.03           1.000000e-06         10   \n",
      "40                              0.99           1.000000e-04         18   \n",
      "41                              0.95           1.000000e-04          5   \n",
      "42                              1.09           1.000000e-06         12   \n",
      "43                              0.93           1.000000e-04         12   \n",
      "44                              1.01           1.000000e-08         15   \n",
      "45                              0.99           1.000000e-08         12   \n",
      "46                              1.05           1.000000e-06         16   \n",
      "47                              1.07           0.000000e+00         16   \n",
      "48                              1.10           1.000000e-06         14   \n",
      "49                              0.94           1.000000e-04         22   \n",
      "\n",
      "    col_sample_rate  col_sample_rate_per_tree        model_ids   logloss  \n",
      "0              0.43                      0.31  grid_2_model_41  0.402529  \n",
      "1              0.91                      0.69   grid_2_model_3  0.403610  \n",
      "2              0.36                      0.95  grid_2_model_21  0.403638  \n",
      "3              0.36                      0.69  grid_2_model_28  0.403909  \n",
      "4              0.32                      0.67  grid_2_model_44  0.404147  \n",
      "5              0.74                      0.35   grid_2_model_8  0.404156  \n",
      "6              0.97                      0.39   grid_2_model_7  0.404497  \n",
      "7              0.77                      0.88   grid_2_model_2  0.404786  \n",
      "8              0.42                      0.82  grid_2_model_19  0.405160  \n",
      "9              0.48                      0.96  grid_2_model_12  0.405255  \n",
      "10             0.90                      0.47  grid_2_model_38  0.405524  \n",
      "11             0.93                      0.45  grid_2_model_23  0.405617  \n",
      "12             0.46                      0.30  grid_2_model_34  0.405720  \n",
      "13             0.86                      0.63   grid_2_model_0  0.405726  \n",
      "14             0.72                      0.96   grid_2_model_5  0.405728  \n",
      "15             0.36                      0.51  grid_2_model_33  0.405748  \n",
      "16             0.97                      0.83  grid_2_model_29  0.406191  \n",
      "17             0.89                      0.53  grid_2_model_25  0.406652  \n",
      "18             0.33                      0.38  grid_2_model_18  0.406783  \n",
      "19             0.71                      0.92  grid_2_model_40  0.406821  \n",
      "20             0.57                      0.72   grid_2_model_9  0.407185  \n",
      "21             0.91                      0.97  grid_2_model_30  0.407599  \n",
      "22             0.39                      0.40  grid_2_model_26  0.408210  \n",
      "23             0.59                      0.45  grid_2_model_42  0.409659  \n",
      "24             0.82                      0.42   grid_2_model_6  0.410801  \n",
      "25             0.59                      0.46  grid_2_model_36  0.413608  \n",
      "26             0.39                      0.68  grid_2_model_43  0.414859  \n",
      "27             0.48                      0.75  grid_2_model_11  0.415628  \n",
      "28             0.57                      0.38  grid_2_model_39  0.418052  \n",
      "29             0.65                      0.78  grid_2_model_35  0.419711  \n",
      "30             0.60                      0.57  grid_2_model_10  0.420012  \n",
      "31             0.78                      0.97  grid_2_model_47  0.422772  \n",
      "32             0.48                      0.50  grid_2_model_13  0.426840  \n",
      "33             0.35                      0.76  grid_2_model_17  0.431069  \n",
      "34             0.31                      0.50  grid_2_model_48  0.432509  \n",
      "35             0.69                      0.84  grid_2_model_46  0.441138  \n",
      "36             0.50                      0.86  grid_2_model_24  0.441150  \n",
      "37             0.98                      0.82  grid_2_model_37  0.441487  \n",
      "38             0.71                      0.97  grid_2_model_27  0.442068  \n",
      "39             0.79                      0.82  grid_2_model_45  0.442243  \n",
      "40             0.98                      0.35  grid_2_model_16  0.442520  \n",
      "41             0.30                      0.64  grid_2_model_20  0.443176  \n",
      "42             0.36                      0.44  grid_2_model_22  0.444396  \n",
      "43             0.83                      0.92  grid_2_model_32  0.450827  \n",
      "44             0.98                      0.73   grid_2_model_1  0.461687  \n",
      "45             0.33                      0.52  grid_2_model_49  0.463476  \n",
      "46             0.94                      0.86   grid_2_model_4  0.481599  \n",
      "47             0.56                      0.42  grid_2_model_31  0.544609  \n",
      "48             0.75                      0.81  grid_2_model_14  0.661971  \n",
      "49             0.88                      0.99  grid_2_model_15  0.734570  \n",
      "\n"
     ]
    }
   ],
   "source": [
    "# train the grid and print results\n",
    "gs_2.train(x=features_list, \n",
    "           y=response_name, \n",
    "           training_frame=train,\n",
    "           validation_frame = valid)\n",
    "print(gs_2)"
   ]
  },
  {
   "cell_type": "code",
   "execution_count": 66,
   "metadata": {
    "collapsed": false
   },
   "outputs": [
    {
     "name": "stdout",
     "output_type": "stream",
     "text": [
      "\n",
      "Grid Search Results for H2OGradientBoostingEstimator: \n"
     ]
    },
    {
     "data": {
      "text/html": [
       "<div style=\"overflow:auto\"><table style=\"width:50%\"><tr><td><b>Model Id</b></td>\n",
       "<td><b>Hyperparameters: [nbins, col_sample_rate, min_split_improvement, col_sample_rate_per_tree, min_rows, col_sample_rate_change_per_level, nbins_cats, sample_rate, histogram_type, max_depth]</b></td>\n",
       "<td><b>auc(valid=True)</b></td></tr>\n",
       "<tr><td>grid_2_model_41</td>\n",
       "<td>[32, 0.4300000000000001, 1e-06, 0.31, 32.0, 1.0500000000000003, 64, 0.4300000000000001, u'RoundRobin', 20]</td>\n",
       "<td>0.8519609</td></tr>\n",
       "<tr><td>grid_2_model_21</td>\n",
       "<td>[32, 0.36000000000000004, 1e-06, 0.9500000000000006, 512.0, 1.1, 2048, 0.6600000000000004, u'QuantilesGlobal', 5]</td>\n",
       "<td>0.8512263</td></tr>\n",
       "<tr><td>grid_2_model_44</td>\n",
       "<td>[256, 0.32, 0.0, 0.6700000000000004, 1024.0, 0.92, 32, 0.7300000000000004, u'QuantilesGlobal', 12]</td>\n",
       "<td>0.8509898</td></tr>\n",
       "<tr><td>grid_2_model_3</td>\n",
       "<td>[128, 0.9100000000000006, 0.0001, 0.6900000000000004, 128.0, 1.0500000000000003, 2048, 0.4200000000000001, u'UniformAdaptive', 10]</td>\n",
       "<td>0.8509241</td></tr>\n",
       "<tr><td>grid_2_model_28</td>\n",
       "<td>[16, 0.36000000000000004, 1e-06, 0.6900000000000004, 512.0, 1.0, 64, 0.9700000000000006, u'RoundRobin', 10]</td>\n",
       "<td>0.8508781</td></tr>\n",
       "<tr><td>---</td>\n",
       "<td>---</td>\n",
       "<td>---</td></tr>\n",
       "<tr><td>grid_2_model_46</td>\n",
       "<td>[64, 0.6900000000000004, 1e-08, 0.8400000000000005, 2048.0, 0.9700000000000001, 256, 0.4100000000000001, u'QuantilesGlobal', 16]</td>\n",
       "<td>0.8151416</td></tr>\n",
       "<tr><td>grid_2_model_20</td>\n",
       "<td>[16, 0.3, 0.0001, 0.6400000000000003, 2048.0, 0.9500000000000001, 512, 0.8700000000000006, u'UniformAdaptive', 5]</td>\n",
       "<td>0.8145358</td></tr>\n",
       "<tr><td>grid_2_model_37</td>\n",
       "<td>[32, 0.9800000000000006, 0.0, 0.8200000000000005, 2048.0, 1.02, 1024, 0.6300000000000003, u'RoundRobin', 14]</td>\n",
       "<td>0.8140904</td></tr>\n",
       "<tr><td>grid_2_model_45</td>\n",
       "<td>[64, 0.7900000000000005, 1e-06, 0.8200000000000005, 2048.0, 1.0300000000000002, 32, 0.9700000000000006, u'UniformAdaptive', 10]</td>\n",
       "<td>0.8136961</td></tr>\n",
       "<tr><td>grid_2_model_27</td>\n",
       "<td>[512, 0.7100000000000004, 1e-06, 0.9700000000000006, 2048.0, 0.9400000000000001, 256, 0.6300000000000003, u'QuantilesGlobal', 13]</td>\n",
       "<td>0.8136226</td></tr></table></div>"
      ],
      "text/plain": [
       "Model Id         Hyperparameters: [nbins, col_sample_rate, min_split_improvement, col_sample_rate_per_tree, min_rows, col_sample_rate_change_per_level, nbins_cats, sample_rate, histogram_type, max_depth]    auc(valid=True)\n",
       "---------------  --------------------------------------------------------------------------------------------------------------------------------------------------------------------------------------------  -----------------\n",
       "grid_2_model_41  [32, 0.4300000000000001, 1e-06, 0.31, 32.0, 1.0500000000000003, 64, 0.4300000000000001, u'RoundRobin', 20]                                                                                    0.851960871919\n",
       "grid_2_model_21  [32, 0.36000000000000004, 1e-06, 0.9500000000000006, 512.0, 1.1, 2048, 0.6600000000000004, u'QuantilesGlobal', 5]                                                                             0.851226300546\n",
       "grid_2_model_44  [256, 0.32, 0.0, 0.6700000000000004, 1024.0, 0.92, 32, 0.7300000000000004, u'QuantilesGlobal', 12]                                                                                            0.850989765936\n",
       "grid_2_model_3   [128, 0.9100000000000006, 0.0001, 0.6900000000000004, 128.0, 1.0500000000000003, 2048, 0.4200000000000001, u'UniformAdaptive', 10]                                                            0.850924061877\n",
       "grid_2_model_28  [16, 0.36000000000000004, 1e-06, 0.6900000000000004, 512.0, 1.0, 64, 0.9700000000000006, u'RoundRobin', 10]                                                                                   0.850878069037\n",
       "---              ---                                                                                                                                                                                           ---\n",
       "grid_2_model_46  [64, 0.6900000000000004, 1e-08, 0.8400000000000005, 2048.0, 0.9700000000000001, 256, 0.4100000000000001, u'QuantilesGlobal', 16]                                                              0.815141631668\n",
       "grid_2_model_20  [16, 0.3, 0.0001, 0.6400000000000003, 2048.0, 0.9500000000000001, 512, 0.8700000000000006, u'UniformAdaptive', 5]                                                                             0.81453584025\n",
       "grid_2_model_37  [32, 0.9800000000000006, 0.0, 0.8200000000000005, 2048.0, 1.02, 1024, 0.6300000000000003, u'RoundRobin', 14]                                                                                  0.814090366734\n",
       "grid_2_model_45  [64, 0.7900000000000005, 1e-06, 0.8200000000000005, 2048.0, 1.0300000000000002, 32, 0.9700000000000006, u'UniformAdaptive', 10]                                                               0.813696142383\n",
       "grid_2_model_27  [512, 0.7100000000000004, 1e-06, 0.9700000000000006, 2048.0, 0.9400000000000001, 256, 0.6300000000000003, u'QuantilesGlobal', 13]                                                             0.813622553838"
      ]
     },
     "metadata": {},
     "output_type": "display_data"
    },
    {
     "name": "stdout",
     "output_type": "stream",
     "text": [
      "\n",
      "See the whole table with table.as_data_frame()\n",
      "\n"
     ]
    }
   ],
   "source": [
    "# print out the auc for all of the models\n",
    "auc_table_2 = gs_2.sort_by('auc(valid=True)',increasing=False)\n",
    "print(auc_table_2)\n"
   ]
  },
  {
   "cell_type": "code",
   "execution_count": 75,
   "metadata": {
    "collapsed": false
   },
   "outputs": [
    {
     "name": "stdout",
     "output_type": "stream",
     "text": [
      "0.854453627181\n"
     ]
    }
   ],
   "source": [
    "# get the best model from the list (the model name listed at the top of the table)\n",
    "best_model = h2o.get_model('grid_2_model_41')\n",
    "test_performance_model = best_model.model_performance(test)\n",
    "\n",
    "# get the performance on the test model\n",
    "print test_performance_model.auc()"
   ]
  },
  {
   "cell_type": "code",
   "execution_count": 76,
   "metadata": {
    "collapsed": false
   },
   "outputs": [
    {
     "name": "stdout",
     "output_type": "stream",
     "text": [
      "\n",
      "gbm prediction Progress: [##################################################] 100%\n"
     ]
    },
    {
     "data": {
      "text/html": [
       "<table>\n",
       "<tr><th>predict  </th><th style=\"text-align: right;\">      No</th><th style=\"text-align: right;\">      Yes</th></tr>\n",
       "<tr><td>No       </td><td style=\"text-align: right;\">0.955283</td><td style=\"text-align: right;\">0.0447171</td></tr>\n",
       "<tr><td>No       </td><td style=\"text-align: right;\">0.973112</td><td style=\"text-align: right;\">0.0268878</td></tr>\n",
       "<tr><td>Yes      </td><td style=\"text-align: right;\">0.619852</td><td style=\"text-align: right;\">0.380148 </td></tr>\n",
       "<tr><td>No       </td><td style=\"text-align: right;\">0.893143</td><td style=\"text-align: right;\">0.106857 </td></tr>\n",
       "<tr><td>No       </td><td style=\"text-align: right;\">0.787657</td><td style=\"text-align: right;\">0.212343 </td></tr>\n",
       "<tr><td>Yes      </td><td style=\"text-align: right;\">0.614936</td><td style=\"text-align: right;\">0.385064 </td></tr>\n",
       "<tr><td>Yes      </td><td style=\"text-align: right;\">0.251622</td><td style=\"text-align: right;\">0.748378 </td></tr>\n",
       "<tr><td>No       </td><td style=\"text-align: right;\">0.96329 </td><td style=\"text-align: right;\">0.0367105</td></tr>\n",
       "<tr><td>Yes      </td><td style=\"text-align: right;\">0.484014</td><td style=\"text-align: right;\">0.515986 </td></tr>\n",
       "<tr><td>No       </td><td style=\"text-align: right;\">0.702905</td><td style=\"text-align: right;\">0.297095 </td></tr>\n",
       "</table>"
      ]
     },
     "metadata": {},
     "output_type": "display_data"
    },
    {
     "data": {
      "text/plain": []
     },
     "execution_count": 76,
     "metadata": {},
     "output_type": "execute_result"
    }
   ],
   "source": [
    "# save a csv of the predictions:\n",
    "# first get the predictions from the best model\n",
    "best_model_predictions = best_model.predict(test)\n",
    "best_model_predictions.head()"
   ]
  },
  {
   "cell_type": "code",
   "execution_count": 78,
   "metadata": {
    "collapsed": false
   },
   "outputs": [
    {
     "name": "stdout",
     "output_type": "stream",
     "text": [
      "\n",
      "Export File Progress: [##################################################] 100%\n"
     ]
    }
   ],
   "source": [
    "# export predictions as a csv to the data analysis directory\n",
    "h2o.h2o.export_file(best_model_predictions, path =\"/Users/laurend/Code/repos/customer-churn/data/best_model_prediction.csv\")"
   ]
  },
  {
   "cell_type": "code",
   "execution_count": null,
   "metadata": {
    "collapsed": true
   },
   "outputs": [],
   "source": []
  }
 ],
 "metadata": {
  "kernelspec": {
   "display_name": "Python 2",
   "language": "python",
   "name": "python2"
  },
  "language_info": {
   "codemirror_mode": {
    "name": "ipython",
    "version": 2
   },
   "file_extension": ".py",
   "mimetype": "text/x-python",
   "name": "python",
   "nbconvert_exporter": "python",
   "pygments_lexer": "ipython2",
   "version": "2.7.11"
  }
 },
 "nbformat": 4,
 "nbformat_minor": 0
}
