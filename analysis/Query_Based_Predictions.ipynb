{
 "cells": [
  {
   "cell_type": "markdown",
   "metadata": {},
   "source": [
    "### Business Analysis\n",
    "\n",
    "This notebook provides steps a business analysit might take to determine which customers are likely to churn. The intention is to compare these analyst prediction to the predictions of a machine learning algorithm for the same data set."
   ]
  },
  {
   "cell_type": "code",
   "execution_count": 1,
   "metadata": {
    "collapsed": false
   },
   "outputs": [],
   "source": [
    "import pandas as pd\n",
    "import io\n",
    "import requests\n",
    "import numpy as np\n",
    "import matplotlib\n",
    "import matplotlib.pyplot as plt\n",
    "%matplotlib inline\n",
    "\n",
    "# # import the telco data as a pandas dataframe\n",
    "# url = \"https://raw.githubusercontent.com/navdeep-G/customer-churn/master/data/TelcoChurn.csv\"\n",
    "# content = requests.get(url).content\n",
    "# telco_df = pd.read_csv(io.StringIO(content.decode('utf-8')))\n",
    "telco_df = pd.read_csv('/Users/laurend/Code/repos/customer-churn/data/TelcoChurn.csv')"
   ]
  },
  {
   "cell_type": "code",
   "execution_count": 127,
   "metadata": {
    "collapsed": false
   },
   "outputs": [
    {
     "data": {
      "text/plain": [
       "(7043, 21)"
      ]
     },
     "execution_count": 127,
     "metadata": {},
     "output_type": "execute_result"
    }
   ],
   "source": [
    "# get the dataframe dimensions\n",
    "telco_df.shape"
   ]
  },
  {
   "cell_type": "code",
   "execution_count": 226,
   "metadata": {
    "collapsed": false
   },
   "outputs": [
    {
     "name": "stdout",
     "output_type": "stream",
     "text": [
      "<class 'pandas.core.frame.DataFrame'>\n",
      "RangeIndex: 7043 entries, 0 to 7042\n",
      "Data columns (total 22 columns):\n",
      "customerID          7043 non-null object\n",
      "gender              7043 non-null object\n",
      "SeniorCitizen       7043 non-null int64\n",
      "Partner             7043 non-null object\n",
      "Dependents          7043 non-null object\n",
      "tenure              7043 non-null int64\n",
      "PhoneService        7043 non-null object\n",
      "MultipleLines       7043 non-null object\n",
      "InternetService     7043 non-null object\n",
      "OnlineSecurity      7043 non-null object\n",
      "OnlineBackup        7043 non-null object\n",
      "DeviceProtection    7043 non-null object\n",
      "TechSupport         7043 non-null object\n",
      "StreamingTV         7043 non-null object\n",
      "StreamingMovies     7043 non-null object\n",
      "Contract            7043 non-null object\n",
      "PaperlessBilling    7043 non-null object\n",
      "PaymentMethod       7043 non-null object\n",
      "MonthlyCharges      7043 non-null float64\n",
      "TotalCharges        7032 non-null float64\n",
      "Churn               7043 non-null object\n",
      "count               7043 non-null int64\n",
      "dtypes: float64(2), int64(3), object(17)\n",
      "memory usage: 1.2+ MB\n"
     ]
    }
   ],
   "source": [
    "# get the type of each column\n",
    "telco_df.info()"
   ]
  },
  {
   "cell_type": "code",
   "execution_count": 2,
   "metadata": {
    "collapsed": false
   },
   "outputs": [
    {
     "name": "stdout",
     "output_type": "stream",
     "text": [
      "customerID\n",
      "gender\n",
      "SeniorCitizen\n",
      "Partner\n",
      "Dependents\n",
      "tenure\n",
      "PhoneService\n",
      "MultipleLines\n",
      "InternetService\n",
      "OnlineSecurity\n",
      "OnlineBackup\n",
      "DeviceProtection\n",
      "TechSupport\n",
      "StreamingTV\n",
      "StreamingMovies\n",
      "Contract\n",
      "PaperlessBilling\n",
      "PaymentMethod\n",
      "MonthlyCharges\n",
      "TotalCharges\n",
      "Churn\n"
     ]
    }
   ],
   "source": [
    "# get a list of the column names\n",
    "for col in telco_df.columns:\n",
    "    print col"
   ]
  },
  {
   "cell_type": "code",
   "execution_count": 110,
   "metadata": {
    "collapsed": false
   },
   "outputs": [
    {
     "name": "stdout",
     "output_type": "stream",
     "text": [
      "('customerID', 7043)\n",
      "('gender', 2)\n",
      "('SeniorCitizen', 2)\n",
      "('Partner', 2)\n",
      "('Dependents', 2)\n",
      "('tenure', 73)\n",
      "('PhoneService', 2)\n",
      "('MultipleLines', 3)\n",
      "('InternetService', 3)\n",
      "('OnlineSecurity', 3)\n",
      "('OnlineBackup', 3)\n",
      "('DeviceProtection', 3)\n",
      "('TechSupport', 3)\n",
      "('StreamingTV', 3)\n",
      "('StreamingMovies', 3)\n",
      "('Contract', 3)\n",
      "('PaperlessBilling', 2)\n",
      "('PaymentMethod', 4)\n",
      "('MonthlyCharges', 1585)\n",
      "('TotalCharges', 6530)\n",
      "('Churn', 2)\n"
     ]
    }
   ],
   "source": [
    "# get a list of the column names\n",
    "column_names = telco_df.columns\n",
    "feature_list = column_names.drop(\"customerID\")\n",
    "\n",
    "# get number of unique values and types of each column\n",
    "for col in column_names:\n",
    "    print(col, telco_df[col].nunique())\n",
    "    if telco_df[col].nunique() < 5:\n",
    "        #print(col, telco_df[col].unique())\n",
    "        None"
   ]
  },
  {
   "cell_type": "code",
   "execution_count": 4,
   "metadata": {
    "collapsed": false
   },
   "outputs": [
    {
     "name": "stdout",
     "output_type": "stream",
     "text": [
      "number of missing values TotalCharges is 11\n"
     ]
    }
   ],
   "source": [
    "# convert all numeric string columns to floats\n",
    "# if there is an empty string coerce that to an NA\n",
    "telco_df[\"MonthlyCharges\"] = pd.to_numeric(telco_df[\"MonthlyCharges\"], errors = 'coerce')\n",
    "telco_df['TotalCharges'] = pd.to_numeric(telco_df['TotalCharges'], errors='coerce')\n",
    "\n",
    "# check for missing values in each column\n",
    "for col in column_names:\n",
    "    if telco_df[col].isnull().sum() > 0:\n",
    "        print('number of missing values {0} is {1}'.format(col,telco_df[col].isnull().sum()))"
   ]
  },
  {
   "cell_type": "code",
   "execution_count": 22,
   "metadata": {
    "collapsed": false
   },
   "outputs": [
    {
     "name": "stdout",
     "output_type": "stream",
     "text": [
      "('max:', 118.75)\n",
      "('min:', 18.25)\n",
      "99\n"
     ]
    }
   ],
   "source": [
    "# get a sense of the unique types of monthly charges, by rounding floats to integers\n",
    "feature_data = telco_df[\"MonthlyCharges\"]\n",
    "print('max:',max(feature_data))\n",
    "print('min:', min(feature_data))\n",
    "# round the monthly charges to get a sense of how many unique monthly charges there are\n",
    "int_feature = feature_data.apply(int)\n",
    "unique_charges = int_feature .nunique()\n",
    "print(int_feature .nunique()) "
   ]
  },
  {
   "cell_type": "code",
   "execution_count": 51,
   "metadata": {
    "collapsed": false
   },
   "outputs": [
    {
     "name": "stdout",
     "output_type": "stream",
     "text": [
      "('max:', 8684)\n",
      "('min:', 0)\n"
     ]
    },
    {
     "data": {
      "text/plain": [
       "(array([ 1192.,   573.,   447.,   356.,   336.,   313.,   314.,   251.,\n",
       "          227.]),\n",
       " array([   0,  200,  400,  600,  800, 1000, 1200, 1400, 1600, 1800]),\n",
       " <a list of 9 Patch objects>)"
      ]
     },
     "execution_count": 51,
     "metadata": {},
     "output_type": "execute_result"
    },
    {
     "data": {
      "image/png": "[encoded data removed]",
      "text/plain": [
       "<matplotlib.figure.Figure at 0x10a40a750>"
      ]
     },
     "metadata": {},
     "output_type": "display_data"
    }
   ],
   "source": [
    "# creat bins for monthly and total charges, based off the min and max and then create a histogram\n",
    "# replace na values with 0 for the Total Charges which has 11 missing values (these can be calcalted and filled later)\n",
    "feature_data = telco_df[\"TotalCharges\"].fillna(0)\n",
    "int_feature = feature_data.apply(int)\n",
    "print('max:',int(max(feature_data)))\n",
    "print('min:', int(min(feature_data)))\n",
    "max_feature = int(max(feature_data))\n",
    "min_feature = int(min(feature_data))\n",
    "num_of_bins = 10\n",
    "binwidth =  (max_feature - min_feature)/num_of_bins\n",
    "plt.hist(int_feature, bins=range(min_feature, max_feature + binwidth, binwidth))\n",
    "plt.title(\"Total Charges\")\n",
    "\n",
    "# focus on the lower end of total changes, limit to the max value where there is drop off plateaus\n",
    "set_max_value = 2000\n",
    "num_of_bins = 10\n",
    "binwidth =  (set_max_value - min_feature)/num_of_bins\n",
    "plt.hist(int_feature, bins=range(min_feature, set_max_value, binwidth))"
   ]
  },
  {
   "cell_type": "code",
   "execution_count": 50,
   "metadata": {
    "collapsed": false
   },
   "outputs": [
    {
     "name": "stdout",
     "output_type": "stream",
     "text": [
      "('max:', 118)\n",
      "('min:', 18)\n"
     ]
    },
    {
     "data": {
      "text/plain": [
       "<matplotlib.text.Text at 0x10a7fa110>"
      ]
     },
     "execution_count": 50,
     "metadata": {},
     "output_type": "execute_result"
    },
    {
     "data": {
      "image/png": "[encoded data removed]",
      "text/plain": [
       "<matplotlib.figure.Figure at 0x10a32c550>"
      ]
     },
     "metadata": {},
     "output_type": "display_data"
    }
   ],
   "source": [
    "# creat bins for monthly and total charges, based off the min and max and then create a histogram\n",
    "# replace na values with 0 for the Total Charges which has 11 missing values (these can be calcalted and filled later)\n",
    "feature_data = telco_df[\"MonthlyCharges\"]\n",
    "int_feature = feature_data.apply(int)\n",
    "print('max:',int(max(feature_data)))\n",
    "print('min:', int(min(feature_data)))\n",
    "max_feature = int(max(feature_data))\n",
    "min_feature = int(min(feature_data))\n",
    "num_of_bins = 10\n",
    "binwidth =  (max_feature - min_feature)/num_of_bins\n",
    "plt.hist(int_feature, bins=range(min_feature, max_feature + binwidth, binwidth))\n",
    "plt.title(\"Monthly Charges\")\n",
    "# # focus on the lower end of total changes, limit to the max value where there is drop off plateaus\n",
    "# set_max_value = 2000\n",
    "# num_of_bins = 10\n",
    "# binwidth =  (set_max_value - min_feature)/num_of_bins\n",
    "# plt.hist(int_feature, bins=range(min_feature, set_max_value, binwidth))"
   ]
  },
  {
   "cell_type": "code",
   "execution_count": 113,
   "metadata": {
    "collapsed": false
   },
   "outputs": [
    {
     "data": {
      "text/plain": [
       "<matplotlib.axes._subplots.AxesSubplot at 0x10e22fe50>"
      ]
     },
     "execution_count": 113,
     "metadata": {},
     "output_type": "execute_result"
    },
    {
     "data": {
      "image/png": "[encoded data removed]",
      "text/plain": [
       "<matplotlib.figure.Figure at 0x10d245e90>"
      ]
     },
     "metadata": {},
     "output_type": "display_data"
    }
   ],
   "source": [
    "# get histogram of tenure (how long a person has been a customer in months)\n",
    "telco_df['tenure'].hist()"
   ]
  },
  {
   "cell_type": "code",
   "execution_count": 115,
   "metadata": {
    "collapsed": false
   },
   "outputs": [
    {
     "data": {
      "text/plain": [
       "<matplotlib.axes._subplots.AxesSubplot at 0x10cf81590>"
      ]
     },
     "execution_count": 115,
     "metadata": {},
     "output_type": "execute_result"
    },
    {
     "data": {
      "image/png": "[encoded data removed]",
      "text/plain": [
       "<matplotlib.figure.Figure at 0x10da34fd0>"
      ]
     },
     "metadata": {},
     "output_type": "display_data"
    },
    {
     "data": {
      "image/png": "[encoded data removed]",
      "text/plain": [
       "<matplotlib.figure.Figure at 0x10b953490>"
      ]
     },
     "metadata": {},
     "output_type": "display_data"
    },
    {
     "data": {
      "image/png": "[encoded data removed]",
      "text/plain": [
       "<matplotlib.figure.Figure at 0x10db46990>"
      ]
     },
     "metadata": {},
     "output_type": "display_data"
    },
    {
     "data": {
      "image/png": "[encoded data removed]",
      "text/plain": [
       "<matplotlib.figure.Figure at 0x10d21a5d0>"
      ]
     },
     "metadata": {},
     "output_type": "display_data"
    },
    {
     "data": {
      "image/png": "[encoded data removed]",
      "text/plain": [
       "<matplotlib.figure.Figure at 0x10b6ae550>"
      ]
     },
     "metadata": {},
     "output_type": "display_data"
    },
    {
     "data": {
      "image/png": "[encoded data removed]",
      "text/plain": [
       "<matplotlib.figure.Figure at 0x10e5ca4d0>"
      ]
     },
     "metadata": {},
     "output_type": "display_data"
    },
    {
     "data": {
      "image/png": "[encoded data removed]",
      "text/plain": [
       "<matplotlib.figure.Figure at 0x10b651250>"
      ]
     },
     "metadata": {},
     "output_type": "display_data"
    },
    {
     "data": {
      "image/png": "[encoded data removed]",
      "text/plain": [
       "<matplotlib.figure.Figure at 0x10b3aa110>"
      ]
     },
     "metadata": {},
     "output_type": "display_data"
    },
    {
     "data": {
      "image/png": "[encoded data removed]",
      "text/plain": [
       "<matplotlib.figure.Figure at 0x10b51cdd0>"
      ]
     },
     "metadata": {},
     "output_type": "display_data"
    },
    {
     "data": {
      "image/png": "[encoded data removed]",
      "text/plain": [
       "<matplotlib.figure.Figure at 0x10db54190>"
      ]
     },
     "metadata": {},
     "output_type": "display_data"
    },
    {
     "data": {
      "image/png": "[encoded data removed]",
      "text/plain": [
       "<matplotlib.figure.Figure at 0x10eefd890>"
      ]
     },
     "metadata": {},
     "output_type": "display_data"
    },
    {
     "data": {
      "image/png": "[encoded data removed]",
      "text/plain": [
       "<matplotlib.figure.Figure at 0x10bb24ad0>"
      ]
     },
     "metadata": {},
     "output_type": "display_data"
    },
    {
     "data": {
      "image/png": "[encoded data removed]",
      "text/plain": [
       "<matplotlib.figure.Figure at 0x10b333190>"
      ]
     },
     "metadata": {},
     "output_type": "display_data"
    },
    {
     "data": {
      "image/png": "[encoded data removed]",
      "text/plain": [
       "<matplotlib.figure.Figure at 0x10e0afa10>"
      ]
     },
     "metadata": {},
     "output_type": "display_data"
    },
    {
     "data": {
      "image/png": "[encoded data removed]",
      "text/plain": [
       "<matplotlib.figure.Figure at 0x10b751e50>"
      ]
     },
     "metadata": {},
     "output_type": "display_data"
    },
    {
     "data": {
      "image/png": "[encoded data removed]",
      "text/plain": [
       "<matplotlib.figure.Figure at 0x10cf813d0>"
      ]
     },
     "metadata": {},
     "output_type": "display_data"
    }
   ],
   "source": [
    "# plot all categorical features\n",
    "feature_list_new = feature_list.drop('tenure')\n",
    "for col in feature_list_new [:-3]:\n",
    "    plt.figure()\n",
    "    #telco_df[col].value_counts().plot(ax=axes[num,0],kind='bar', subplot=True, color='#FFC222')\n",
    "    telco_df[col].value_counts().plot(kind='barh', color='#EE3224')\n",
    "    plt.title(col)\n",
    "telco_df[col].value_counts().plot(kind='barh', color='#EE3224')"
   ]
  },
  {
   "cell_type": "code",
   "execution_count": 120,
   "metadata": {
    "collapsed": false
   },
   "outputs": [
    {
     "data": {
      "text/plain": [
       "Churn\n",
       "No     5174\n",
       "Yes    1869\n",
       "Name: gender, dtype: int64"
      ]
     },
     "execution_count": 120,
     "metadata": {},
     "output_type": "execute_result"
    }
   ],
   "source": [
    "# for each column get the number of people who churn for each category, this will provide \n",
    "# insight into what feature levels are tied to churn rates\n",
    "# what percentage of each category level churned\n",
    "\n",
    "grouped_test = telco_df['gender'].groupby(telco_df['Churn'])\n",
    "\n",
    "# set a limit or rule to that say if this person has 3 or more features that would make them likely to churn\n",
    "# mark them as churned\n",
    "\n",
    "grouped_test.count()\n",
    "# create a ranking system of who is likely to churn"
   ]
  },
  {
   "cell_type": "code",
   "execution_count": 181,
   "metadata": {
    "collapsed": false
   },
   "outputs": [],
   "source": [
    "# telco_df[\"gender\"].sum()"
   ]
  },
  {
   "cell_type": "code",
   "execution_count": 182,
   "metadata": {
    "collapsed": false
   },
   "outputs": [
    {
     "data": {
      "text/html": [
       "<div>\n",
       "<table border=\"1\" class=\"dataframe\">\n",
       "  <thead>\n",
       "    <tr style=\"text-align: right;\">\n",
       "      <th>col_0</th>\n",
       "      <th>count</th>\n",
       "    </tr>\n",
       "    <tr>\n",
       "      <th>gender</th>\n",
       "      <th></th>\n",
       "    </tr>\n",
       "  </thead>\n",
       "  <tbody>\n",
       "    <tr>\n",
       "      <th>Female</th>\n",
       "      <td>0.495244</td>\n",
       "    </tr>\n",
       "    <tr>\n",
       "      <th>Male</th>\n",
       "      <td>0.504756</td>\n",
       "    </tr>\n",
       "  </tbody>\n",
       "</table>\n",
       "</div>"
      ],
      "text/plain": [
       "col_0      count\n",
       "gender          \n",
       "Female  0.495244\n",
       "Male    0.504756"
      ]
     },
     "execution_count": 182,
     "metadata": {},
     "output_type": "execute_result"
    }
   ],
   "source": [
    "# create a frequency table\n",
    "gender_table = pd.crosstab(index= telco_df[\"gender\"], columns=\"count\") \n",
    "gender_table/gender_table.sum()"
   ]
  },
  {
   "cell_type": "code",
   "execution_count": 186,
   "metadata": {
    "collapsed": false
   },
   "outputs": [
    {
     "data": {
      "text/html": [
       "<div>\n",
       "<table border=\"1\" class=\"dataframe\">\n",
       "  <thead>\n",
       "    <tr style=\"text-align: right;\">\n",
       "      <th></th>\n",
       "      <th>Female</th>\n",
       "      <th>Male</th>\n",
       "      <th>rowtotal</th>\n",
       "    </tr>\n",
       "  </thead>\n",
       "  <tbody>\n",
       "    <tr>\n",
       "      <th>Yes</th>\n",
       "      <td>2549</td>\n",
       "      <td>2625</td>\n",
       "      <td>5174</td>\n",
       "    </tr>\n",
       "    <tr>\n",
       "      <th>No</th>\n",
       "      <td>939</td>\n",
       "      <td>930</td>\n",
       "      <td>1869</td>\n",
       "    </tr>\n",
       "    <tr>\n",
       "      <th>coltotal</th>\n",
       "      <td>3488</td>\n",
       "      <td>3555</td>\n",
       "      <td>7043</td>\n",
       "    </tr>\n",
       "  </tbody>\n",
       "</table>\n",
       "</div>"
      ],
      "text/plain": [
       "          Female  Male  rowtotal\n",
       "Yes         2549  2625      5174\n",
       "No           939   930      1869\n",
       "coltotal    3488  3555      7043"
      ]
     },
     "execution_count": 186,
     "metadata": {},
     "output_type": "execute_result"
    }
   ],
   "source": [
    "# Table of churn vs. gender\n",
    "gender_churn = pd.crosstab(index=telco_df[\"Churn\"], \n",
    "                           columns=telco_df[\"gender\"],\n",
    "                           margins=True)   # Include row and column totals\n",
    "\n",
    "gender_churn.columns = [\"Female\",\"Male\",\"rowtotal\"]\n",
    "gender_churn.index= [\"Yes\",\"No\",\"coltotal\"]\n",
    "\n",
    "\n",
    "gender_churn\n"
   ]
  },
  {
   "cell_type": "code",
   "execution_count": 187,
   "metadata": {
    "collapsed": false
   },
   "outputs": [
    {
     "data": {
      "text/html": [
       "<div>\n",
       "<table border=\"1\" class=\"dataframe\">\n",
       "  <thead>\n",
       "    <tr style=\"text-align: right;\">\n",
       "      <th></th>\n",
       "      <th>Female</th>\n",
       "      <th>Male</th>\n",
       "      <th>rowtotal</th>\n",
       "    </tr>\n",
       "  </thead>\n",
       "  <tbody>\n",
       "    <tr>\n",
       "      <th>Yes</th>\n",
       "      <td>0.361920</td>\n",
       "      <td>0.372710</td>\n",
       "      <td>0.73463</td>\n",
       "    </tr>\n",
       "    <tr>\n",
       "      <th>No</th>\n",
       "      <td>0.133324</td>\n",
       "      <td>0.132046</td>\n",
       "      <td>0.26537</td>\n",
       "    </tr>\n",
       "    <tr>\n",
       "      <th>coltotal</th>\n",
       "      <td>0.495244</td>\n",
       "      <td>0.504756</td>\n",
       "      <td>1.00000</td>\n",
       "    </tr>\n",
       "  </tbody>\n",
       "</table>\n",
       "</div>"
      ],
      "text/plain": [
       "            Female      Male  rowtotal\n",
       "Yes       0.361920  0.372710   0.73463\n",
       "No        0.133324  0.132046   0.26537\n",
       "coltotal  0.495244  0.504756   1.00000"
      ]
     },
     "execution_count": 187,
     "metadata": {},
     "output_type": "execute_result"
    }
   ],
   "source": [
    "#to get the total proportion of counts in each cell, divide the table by the grand total:\n",
    "gender_churn/gender_churn.ix[\"coltotal\",\"rowtotal\"]"
   ]
  },
  {
   "cell_type": "code",
   "execution_count": 188,
   "metadata": {
    "collapsed": false
   },
   "outputs": [
    {
     "data": {
      "text/html": [
       "<div>\n",
       "<table border=\"1\" class=\"dataframe\">\n",
       "  <thead>\n",
       "    <tr style=\"text-align: right;\">\n",
       "      <th></th>\n",
       "      <th>Female</th>\n",
       "      <th>Male</th>\n",
       "      <th>rowtotal</th>\n",
       "    </tr>\n",
       "  </thead>\n",
       "  <tbody>\n",
       "    <tr>\n",
       "      <th>Yes</th>\n",
       "      <td>0.730791</td>\n",
       "      <td>0.738397</td>\n",
       "      <td>0.73463</td>\n",
       "    </tr>\n",
       "    <tr>\n",
       "      <th>No</th>\n",
       "      <td>0.269209</td>\n",
       "      <td>0.261603</td>\n",
       "      <td>0.26537</td>\n",
       "    </tr>\n",
       "    <tr>\n",
       "      <th>coltotal</th>\n",
       "      <td>1.000000</td>\n",
       "      <td>1.000000</td>\n",
       "      <td>1.00000</td>\n",
       "    </tr>\n",
       "  </tbody>\n",
       "</table>\n",
       "</div>"
      ],
      "text/plain": [
       "            Female      Male  rowtotal\n",
       "Yes       0.730791  0.738397   0.73463\n",
       "No        0.269209  0.261603   0.26537\n",
       "coltotal  1.000000  1.000000   1.00000"
      ]
     },
     "execution_count": 188,
     "metadata": {},
     "output_type": "execute_result"
    }
   ],
   "source": [
    "#To get the proportion of counts along each column (in this case, the survival rate within each passenger class)\n",
    "# divide by the column totals:\n",
    "gender_churn/gender_churn.ix[\"coltotal\"]"
   ]
  },
  {
   "cell_type": "code",
   "execution_count": 191,
   "metadata": {
    "collapsed": false
   },
   "outputs": [
    {
     "name": "stdout",
     "output_type": "stream",
     "text": [
      "Of the people who churned we show how many of them were men compared to women\n"
     ]
    },
    {
     "data": {
      "text/html": [
       "<div>\n",
       "<table border=\"1\" class=\"dataframe\">\n",
       "  <thead>\n",
       "    <tr style=\"text-align: right;\">\n",
       "      <th></th>\n",
       "      <th>Female</th>\n",
       "      <th>Male</th>\n",
       "      <th>rowtotal</th>\n",
       "    </tr>\n",
       "  </thead>\n",
       "  <tbody>\n",
       "    <tr>\n",
       "      <th>Yes</th>\n",
       "      <td>0.492656</td>\n",
       "      <td>0.507344</td>\n",
       "      <td>1.0</td>\n",
       "    </tr>\n",
       "    <tr>\n",
       "      <th>No</th>\n",
       "      <td>0.502408</td>\n",
       "      <td>0.497592</td>\n",
       "      <td>1.0</td>\n",
       "    </tr>\n",
       "    <tr>\n",
       "      <th>coltotal</th>\n",
       "      <td>0.495244</td>\n",
       "      <td>0.504756</td>\n",
       "      <td>1.0</td>\n",
       "    </tr>\n",
       "  </tbody>\n",
       "</table>\n",
       "</div>"
      ],
      "text/plain": [
       "            Female      Male  rowtotal\n",
       "Yes       0.492656  0.507344       1.0\n",
       "No        0.502408  0.497592       1.0\n",
       "coltotal  0.495244  0.504756       1.0"
      ]
     },
     "execution_count": 191,
     "metadata": {},
     "output_type": "execute_result"
    }
   ],
   "source": [
    "#To get the proportion of counts along each row divide by the row totals. \n",
    "#The division operator functions on a row-by-row basis when used on DataFrames by default. \n",
    "#In this case we want to divide each column by the rowtotals column. To get division to work on a column\n",
    "# by column basis, use df.div() with the axis set to 0 (or \"index\"):\n",
    "print('Of the people who churned we show how many of them were men compared to women')\n",
    "\n",
    "gender_churn.div(gender_churn[\"rowtotal\"],\n",
    "                   axis=0)\n"
   ]
  },
  {
   "cell_type": "code",
   "execution_count": 208,
   "metadata": {
    "collapsed": false
   },
   "outputs": [
    {
     "data": {
      "text/html": [
       "<div>\n",
       "<table border=\"1\" class=\"dataframe\">\n",
       "  <thead>\n",
       "    <tr>\n",
       "      <th>Contract</th>\n",
       "      <th colspan=\"2\" halign=\"left\">Month-to-month</th>\n",
       "      <th colspan=\"2\" halign=\"left\">One year</th>\n",
       "      <th colspan=\"2\" halign=\"left\">Two year</th>\n",
       "      <th>All</th>\n",
       "    </tr>\n",
       "    <tr>\n",
       "      <th>gender</th>\n",
       "      <th>Female</th>\n",
       "      <th>Male</th>\n",
       "      <th>Female</th>\n",
       "      <th>Male</th>\n",
       "      <th>Female</th>\n",
       "      <th>Male</th>\n",
       "      <th></th>\n",
       "    </tr>\n",
       "    <tr>\n",
       "      <th>Churn</th>\n",
       "      <th></th>\n",
       "      <th></th>\n",
       "      <th></th>\n",
       "      <th></th>\n",
       "      <th></th>\n",
       "      <th></th>\n",
       "      <th></th>\n",
       "    </tr>\n",
       "  </thead>\n",
       "  <tbody>\n",
       "    <tr>\n",
       "      <th>No</th>\n",
       "      <td>1083</td>\n",
       "      <td>1137</td>\n",
       "      <td>643</td>\n",
       "      <td>664</td>\n",
       "      <td>823</td>\n",
       "      <td>824</td>\n",
       "      <td>5174</td>\n",
       "    </tr>\n",
       "    <tr>\n",
       "      <th>Yes</th>\n",
       "      <td>842</td>\n",
       "      <td>813</td>\n",
       "      <td>75</td>\n",
       "      <td>91</td>\n",
       "      <td>22</td>\n",
       "      <td>26</td>\n",
       "      <td>1869</td>\n",
       "    </tr>\n",
       "    <tr>\n",
       "      <th>All</th>\n",
       "      <td>1925</td>\n",
       "      <td>1950</td>\n",
       "      <td>718</td>\n",
       "      <td>755</td>\n",
       "      <td>845</td>\n",
       "      <td>850</td>\n",
       "      <td>7043</td>\n",
       "    </tr>\n",
       "  </tbody>\n",
       "</table>\n",
       "</div>"
      ],
      "text/plain": [
       "Contract Month-to-month       One year      Two year        All\n",
       "gender           Female  Male   Female Male   Female Male      \n",
       "Churn                                                          \n",
       "No                 1083  1137      643  664      823  824  5174\n",
       "Yes                 842   813       75   91       22   26  1869\n",
       "All                1925  1950      718  755      845  850  7043"
      ]
     },
     "execution_count": 208,
     "metadata": {},
     "output_type": "execute_result"
    }
   ],
   "source": [
    "gender_contract_churn = pd.crosstab(index =telco_df[\"Churn\"], \n",
    "                             columns=[telco_df[\"Contract\"],\n",
    "                                      telco_df[\"gender\"]],\n",
    "                             margins=True)   # Include row and column totals\n",
    "\n",
    "gender_contract_churn\n",
    "\n"
   ]
  },
  {
   "cell_type": "code",
   "execution_count": 223,
   "metadata": {
    "collapsed": false
   },
   "outputs": [
    {
     "data": {
      "text/html": [
       "<div>\n",
       "<table border=\"1\" class=\"dataframe\">\n",
       "  <thead>\n",
       "    <tr>\n",
       "      <th>Contract</th>\n",
       "      <th colspan=\"2\" halign=\"left\">Month-to-month</th>\n",
       "      <th colspan=\"2\" halign=\"left\">One year</th>\n",
       "      <th colspan=\"2\" halign=\"left\">Two year</th>\n",
       "      <th>All</th>\n",
       "    </tr>\n",
       "    <tr>\n",
       "      <th>gender</th>\n",
       "      <th>Female</th>\n",
       "      <th>Male</th>\n",
       "      <th>Female</th>\n",
       "      <th>Male</th>\n",
       "      <th>Female</th>\n",
       "      <th>Male</th>\n",
       "      <th></th>\n",
       "    </tr>\n",
       "    <tr>\n",
       "      <th>Churn</th>\n",
       "      <th></th>\n",
       "      <th></th>\n",
       "      <th></th>\n",
       "      <th></th>\n",
       "      <th></th>\n",
       "      <th></th>\n",
       "      <th></th>\n",
       "    </tr>\n",
       "  </thead>\n",
       "  <tbody>\n",
       "    <tr>\n",
       "      <th>No</th>\n",
       "      <td>0.562597</td>\n",
       "      <td>0.583077</td>\n",
       "      <td>0.895543</td>\n",
       "      <td>0.87947</td>\n",
       "      <td>0.973964</td>\n",
       "      <td>0.969412</td>\n",
       "      <td>0.73463</td>\n",
       "    </tr>\n",
       "    <tr>\n",
       "      <th>Yes</th>\n",
       "      <td>0.437403</td>\n",
       "      <td>0.416923</td>\n",
       "      <td>0.104457</td>\n",
       "      <td>0.12053</td>\n",
       "      <td>0.026036</td>\n",
       "      <td>0.030588</td>\n",
       "      <td>0.26537</td>\n",
       "    </tr>\n",
       "    <tr>\n",
       "      <th>All</th>\n",
       "      <td>1.000000</td>\n",
       "      <td>1.000000</td>\n",
       "      <td>1.000000</td>\n",
       "      <td>1.00000</td>\n",
       "      <td>1.000000</td>\n",
       "      <td>1.000000</td>\n",
       "      <td>1.00000</td>\n",
       "    </tr>\n",
       "  </tbody>\n",
       "</table>\n",
       "</div>"
      ],
      "text/plain": [
       "Contract Month-to-month            One year           Two year            \\\n",
       "gender           Female      Male    Female     Male    Female      Male   \n",
       "Churn                                                                      \n",
       "No             0.562597  0.583077  0.895543  0.87947  0.973964  0.969412   \n",
       "Yes            0.437403  0.416923  0.104457  0.12053  0.026036  0.030588   \n",
       "All            1.000000  1.000000  1.000000  1.00000  1.000000  1.000000   \n",
       "\n",
       "Contract      All  \n",
       "gender             \n",
       "Churn              \n",
       "No        0.73463  \n",
       "Yes       0.26537  \n",
       "All       1.00000  "
      ]
     },
     "execution_count": 223,
     "metadata": {},
     "output_type": "execute_result"
    }
   ],
   "source": [
    "# divide by column totals\n",
    "gender_contract_churn/gender_contract_churn.ix[\"All\"] "
   ]
  },
  {
   "cell_type": "code",
   "execution_count": 225,
   "metadata": {
    "collapsed": false
   },
   "outputs": [
    {
     "data": {
      "text/plain": [
       "<matplotlib.axes._subplots.AxesSubplot at 0x10ac04750>"
      ]
     },
     "execution_count": 225,
     "metadata": {},
     "output_type": "execute_result"
    },
    {
     "data": {
      "image/png": "[encoded data removed]",
      "text/plain": [
       "<matplotlib.figure.Figure at 0x10e2ece10>"
      ]
     },
     "metadata": {},
     "output_type": "display_data"
    }
   ],
   "source": [
    "gender_contract= pd.crosstab(index =telco_df[\"Churn\"], \n",
    "                             columns=[telco_df[\"Contract\"],\n",
    "                                      telco_df[\"gender\"]])\n",
    "\n",
    "\n",
    "gender_contract.plot(kind=\"bar\", \n",
    "                 figsize=(8,8),\n",
    "                 stacked=True)"
   ]
  },
  {
   "cell_type": "code",
   "execution_count": 227,
   "metadata": {
    "collapsed": false
   },
   "outputs": [
    {
     "name": "stdout",
     "output_type": "stream",
     "text": [
      "gender  Churn\n",
      "Female  No       2549\n",
      "        Yes       939\n",
      "Male    No       2625\n",
      "        Yes       930\n",
      "dtype: int64\n",
      "SeniorCitizen  Churn\n",
      "0              No       4508\n",
      "               Yes      1393\n",
      "1              No        666\n",
      "               Yes       476\n",
      "dtype: int64\n",
      "Partner  Churn\n",
      "No       No       2441\n",
      "         Yes      1200\n",
      "Yes      No       2733\n",
      "         Yes       669\n",
      "dtype: int64\n",
      "Dependents  Churn\n",
      "No          No       3390\n",
      "            Yes      1543\n",
      "Yes         No       1784\n",
      "            Yes       326\n",
      "dtype: int64\n",
      "PhoneService  Churn\n",
      "No            No        512\n",
      "              Yes       170\n",
      "Yes           No       4662\n",
      "              Yes      1699\n",
      "dtype: int64\n",
      "MultipleLines     Churn\n",
      "No                No       2541\n",
      "                  Yes       849\n",
      "No phone service  No        512\n",
      "                  Yes       170\n",
      "Yes               No       2121\n",
      "                  Yes       850\n",
      "dtype: int64\n",
      "InternetService  Churn\n",
      "DSL              No       1962\n",
      "                 Yes       459\n",
      "Fiber optic      No       1799\n",
      "                 Yes      1297\n",
      "No               No       1413\n",
      "                 Yes       113\n",
      "dtype: int64\n",
      "OnlineSecurity       Churn\n",
      "No                   No       2037\n",
      "                     Yes      1461\n",
      "No internet service  No       1413\n",
      "                     Yes       113\n",
      "Yes                  No       1724\n",
      "                     Yes       295\n",
      "dtype: int64\n",
      "OnlineBackup         Churn\n",
      "No                   No       1855\n",
      "                     Yes      1233\n",
      "No internet service  No       1413\n",
      "                     Yes       113\n",
      "Yes                  No       1906\n",
      "                     Yes       523\n",
      "dtype: int64\n",
      "DeviceProtection     Churn\n",
      "No                   No       1884\n",
      "                     Yes      1211\n",
      "No internet service  No       1413\n",
      "                     Yes       113\n",
      "Yes                  No       1877\n",
      "                     Yes       545\n",
      "dtype: int64\n",
      "TechSupport          Churn\n",
      "No                   No       2027\n",
      "                     Yes      1446\n",
      "No internet service  No       1413\n",
      "                     Yes       113\n",
      "Yes                  No       1734\n",
      "                     Yes       310\n",
      "dtype: int64\n",
      "StreamingTV          Churn\n",
      "No                   No       1868\n",
      "                     Yes       942\n",
      "No internet service  No       1413\n",
      "                     Yes       113\n",
      "Yes                  No       1893\n",
      "                     Yes       814\n",
      "dtype: int64\n",
      "StreamingMovies      Churn\n",
      "No                   No       1847\n",
      "                     Yes       938\n",
      "No internet service  No       1413\n",
      "                     Yes       113\n",
      "Yes                  No       1914\n",
      "                     Yes       818\n",
      "dtype: int64\n",
      "Contract        Churn\n",
      "Month-to-month  No       2220\n",
      "                Yes      1655\n",
      "One year        No       1307\n",
      "                Yes       166\n",
      "Two year        No       1647\n",
      "                Yes        48\n",
      "dtype: int64\n",
      "PaperlessBilling  Churn\n",
      "No                No       2403\n",
      "                  Yes       469\n",
      "Yes               No       2771\n",
      "                  Yes      1400\n",
      "dtype: int64\n",
      "PaymentMethod              Churn\n",
      "Bank transfer (automatic)  No       1286\n",
      "                           Yes       258\n",
      "Credit card (automatic)    No       1290\n",
      "                           Yes       232\n",
      "Electronic check           No       1294\n",
      "                           Yes      1071\n",
      "Mailed check               No       1304\n",
      "                           Yes       308\n",
      "dtype: int64\n",
      "MonthlyCharges  Churn\n",
      "18.25           No        1\n",
      "18.40           No        1\n",
      "18.55           No        1\n",
      "18.70           No        2\n",
      "18.75           No        1\n",
      "18.80           No        7\n",
      "18.85           No        4\n",
      "                Yes       1\n",
      "18.90           No        2\n",
      "18.95           No        5\n",
      "                Yes       1\n",
      "19.00           No        6\n",
      "                Yes       1\n",
      "19.05           No        9\n",
      "19.10           No       11\n",
      "                Yes       1\n",
      "19.15           No       11\n",
      "19.20           No       17\n",
      "19.25           No       15\n",
      "                Yes       3\n",
      "19.30           No       21\n",
      "                Yes       3\n",
      "19.35           No       23\n",
      "                Yes       2\n",
      "19.40           No       27\n",
      "                Yes       4\n",
      "19.45           No       25\n",
      "                Yes       3\n",
      "19.50           No       29\n",
      "                Yes       3\n",
      "                         ..\n",
      "115.80          No        4\n",
      "115.85          No        1\n",
      "116.00          No        1\n",
      "116.05          No        3\n",
      "116.10          No        2\n",
      "116.15          No        1\n",
      "116.20          Yes       1\n",
      "116.25          No        3\n",
      "116.30          No        1\n",
      "116.40          No        1\n",
      "116.45          No        1\n",
      "116.50          No        1\n",
      "116.55          No        1\n",
      "116.60          No        2\n",
      "116.75          No        1\n",
      "116.80          No        1\n",
      "116.85          No        1\n",
      "116.95          No        1\n",
      "117.15          No        1\n",
      "117.20          No        1\n",
      "117.35          No        1\n",
      "117.45          Yes       1\n",
      "117.50          No        1\n",
      "117.60          No        1\n",
      "117.80          Yes       1\n",
      "118.20          No        1\n",
      "118.35          Yes       1\n",
      "118.60          No        2\n",
      "118.65          No        1\n",
      "118.75          No        1\n",
      "dtype: int64\n",
      "TotalCharges  Churn\n",
      "18.80         No       1\n",
      "18.85         No       1\n",
      "              Yes      1\n",
      "18.90         No       1\n",
      "19.00         No       1\n",
      "19.05         No       1\n",
      "19.10         No       2\n",
      "              Yes      1\n",
      "19.15         No       1\n",
      "19.20         No       4\n",
      "19.25         No       2\n",
      "              Yes      1\n",
      "19.30         No       2\n",
      "              Yes      2\n",
      "19.40         No       3\n",
      "              Yes      1\n",
      "19.45         No       3\n",
      "              Yes      3\n",
      "19.50         No       3\n",
      "              Yes      1\n",
      "19.55         No       6\n",
      "              Yes      1\n",
      "19.60         Yes      2\n",
      "19.65         No       6\n",
      "              Yes      2\n",
      "19.70         No       1\n",
      "              Yes      1\n",
      "19.75         No       7\n",
      "              Yes      2\n",
      "19.80         No       1\n",
      "                      ..\n",
      "8317.95       No       1\n",
      "8331.95       No       1\n",
      "8332.15       No       1\n",
      "8333.95       No       1\n",
      "8337.45       No       1\n",
      "8349.45       No       1\n",
      "8349.70       No       1\n",
      "8375.05       No       1\n",
      "8399.15       No       1\n",
      "8404.90       No       1\n",
      "8405.00       No       1\n",
      "8424.90       No       1\n",
      "8425.15       No       1\n",
      "8425.30       No       1\n",
      "8436.25       No       1\n",
      "8443.70       No       1\n",
      "8456.75       No       1\n",
      "8468.20       No       1\n",
      "8476.50       No       1\n",
      "8477.60       No       1\n",
      "8477.70       No       1\n",
      "8496.70       No       1\n",
      "8529.50       No       1\n",
      "8543.25       No       1\n",
      "8547.15       No       1\n",
      "8564.75       No       1\n",
      "8594.40       No       1\n",
      "8670.10       No       1\n",
      "8672.45       No       1\n",
      "8684.80       Yes      1\n",
      "dtype: int64\n",
      "Churn  Churn\n",
      "No     No       5174\n",
      "Yes    Yes      1869\n",
      "dtype: int64\n"
     ]
    }
   ],
   "source": [
    "for col in feature_list_new:\n",
    "    telco_df['count']\n",
    "    print telco_df.groupby([col, 'Churn']).size()\n"
   ]
  },
  {
   "cell_type": "code",
   "execution_count": 116,
   "metadata": {
    "collapsed": false
   },
   "outputs": [],
   "source": [
    "# looking at the plots, identify features that have the most people\n",
    "# ie: payment method = electorinic check\n",
    "# contract: month-to-month\n",
    "# tech support = No\n",
    "# anyone who has no internet service (not as dedicated of a customer)\n",
    "# non senior citizens\n",
    "# tenure under 24 months\n",
    "## anyone on a two year contract that has a tenure of 20 - 24 months"
   ]
  },
  {
   "cell_type": "code",
   "execution_count": 7,
   "metadata": {
    "collapsed": true
   },
   "outputs": [],
   "source": [
    "# let's get a list of all our most loyal customers by looking at people with\n",
    "# the longest tenure, \n",
    "# highest TotalCharges,\n",
    "# type of contract\n",
    "\n",
    "\n",
    "# let's also get a few groupings of people who we think are likely to churn:\n",
    "# people with month-to-month contracs (Contract)\n",
    "# people who pay with electronic check or mail check (PaymentMethod)\n",
    "# people who only have one or none of the following internet services (DeviceProtection,TechSupport,StreamingTV,StreamingMovies)\n",
    "\n",
    "\n",
    "# lets also get a group of people who we think would be persuaded to stay if they got a coupon\n",
    "#\n"
   ]
  }
 ],
 "metadata": {
  "kernelspec": {
   "display_name": "Python 2",
   "language": "python",
   "name": "python2"
  },
  "language_info": {
   "codemirror_mode": {
    "name": "ipython",
    "version": 2
   },
   "file_extension": ".py",
   "mimetype": "text/x-python",
   "name": "python",
   "nbconvert_exporter": "python",
   "pygments_lexer": "ipython2",
   "version": "2.7.11"
  }
 },
 "nbformat": 4,
 "nbformat_minor": 0
}
