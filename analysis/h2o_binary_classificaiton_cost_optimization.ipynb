{
 "cells": [
  {
   "cell_type": "code",
   "execution_count": 1,
   "metadata": {
    "collapsed": false
   },
   "outputs": [
    {
     "name": "stdout",
     "output_type": "stream",
     "text": [
      "\n",
      "\n",
      "No instance found at ip and port: localhost:54321. Trying to start local jar...\n",
      "\n",
      "\n",
      "JVM stdout: /var/folders/k_/kpp1czqs3957vq2pr5qngck00000gn/T/tmpvlbU_u/h2o_laurend_started_from_python.out\n",
      "JVM stderr: /var/folders/k_/kpp1czqs3957vq2pr5qngck00000gn/T/tmpXvhOkJ/h2o_laurend_started_from_python.err\n",
      "Using ice_root: /var/folders/k_/kpp1czqs3957vq2pr5qngck00000gn/T/tmpYASHvj\n",
      "\n",
      "\n",
      "Java Version: java version \"1.8.0_73\"\n",
      "Java(TM) SE Runtime Environment (build 1.8.0_73-b02)\n",
      "Java HotSpot(TM) 64-Bit Server VM (build 25.73-b02, mixed mode)\n",
      "\n",
      "\n",
      "Starting H2O JVM and connecting: .............. Connection successful!\n"
     ]
    },
    {
     "data": {
      "text/html": [
       "<div style=\"overflow:auto\"><table style=\"width:50%\"><tr><td>H2O cluster uptime: </td>\n",
       "<td>1 seconds 601 milliseconds </td></tr>\n",
       "<tr><td>H2O cluster version: </td>\n",
       "<td>3.8.3.2</td></tr>\n",
       "<tr><td>H2O cluster name: </td>\n",
       "<td>H2O_started_from_python_laurend_cqe986</td></tr>\n",
       "<tr><td>H2O cluster total nodes: </td>\n",
       "<td>1</td></tr>\n",
       "<tr><td>H2O cluster total free memory: </td>\n",
       "<td>3.56 GB</td></tr>\n",
       "<tr><td>H2O cluster total cores: </td>\n",
       "<td>8</td></tr>\n",
       "<tr><td>H2O cluster allowed cores: </td>\n",
       "<td>8</td></tr>\n",
       "<tr><td>H2O cluster healthy: </td>\n",
       "<td>True</td></tr>\n",
       "<tr><td>H2O Connection ip: </td>\n",
       "<td>127.0.0.1</td></tr>\n",
       "<tr><td>H2O Connection port: </td>\n",
       "<td>54321</td></tr>\n",
       "<tr><td>H2O Connection proxy: </td>\n",
       "<td>None</td></tr>\n",
       "<tr><td>Python Version: </td>\n",
       "<td>2.7.11</td></tr></table></div>"
      ],
      "text/plain": [
       "------------------------------  --------------------------------------\n",
       "H2O cluster uptime:             1 seconds 601 milliseconds\n",
       "H2O cluster version:            3.8.3.2\n",
       "H2O cluster name:               H2O_started_from_python_laurend_cqe986\n",
       "H2O cluster total nodes:        1\n",
       "H2O cluster total free memory:  3.56 GB\n",
       "H2O cluster total cores:        8\n",
       "H2O cluster allowed cores:      8\n",
       "H2O cluster healthy:            True\n",
       "H2O Connection ip:              127.0.0.1\n",
       "H2O Connection port:            54321\n",
       "H2O Connection proxy:\n",
       "Python Version:                 2.7.11\n",
       "------------------------------  --------------------------------------"
      ]
     },
     "metadata": {},
     "output_type": "display_data"
    },
    {
     "data": {
      "text/html": [
       "<div style=\"overflow:auto\"><table style=\"width:50%\"><tr><td>H2O cluster uptime: </td>\n",
       "<td>1 seconds 664 milliseconds </td></tr>\n",
       "<tr><td>H2O cluster version: </td>\n",
       "<td>3.8.3.2</td></tr>\n",
       "<tr><td>H2O cluster name: </td>\n",
       "<td>H2O_started_from_python_laurend_cqe986</td></tr>\n",
       "<tr><td>H2O cluster total nodes: </td>\n",
       "<td>1</td></tr>\n",
       "<tr><td>H2O cluster total free memory: </td>\n",
       "<td>3.56 GB</td></tr>\n",
       "<tr><td>H2O cluster total cores: </td>\n",
       "<td>8</td></tr>\n",
       "<tr><td>H2O cluster allowed cores: </td>\n",
       "<td>8</td></tr>\n",
       "<tr><td>H2O cluster healthy: </td>\n",
       "<td>True</td></tr>\n",
       "<tr><td>H2O Connection ip: </td>\n",
       "<td>127.0.0.1</td></tr>\n",
       "<tr><td>H2O Connection port: </td>\n",
       "<td>54321</td></tr>\n",
       "<tr><td>H2O Connection proxy: </td>\n",
       "<td>None</td></tr>\n",
       "<tr><td>Python Version: </td>\n",
       "<td>2.7.11</td></tr></table></div>"
      ],
      "text/plain": [
       "------------------------------  --------------------------------------\n",
       "H2O cluster uptime:             1 seconds 664 milliseconds\n",
       "H2O cluster version:            3.8.3.2\n",
       "H2O cluster name:               H2O_started_from_python_laurend_cqe986\n",
       "H2O cluster total nodes:        1\n",
       "H2O cluster total free memory:  3.56 GB\n",
       "H2O cluster total cores:        8\n",
       "H2O cluster allowed cores:      8\n",
       "H2O cluster healthy:            True\n",
       "H2O Connection ip:              127.0.0.1\n",
       "H2O Connection port:            54321\n",
       "H2O Connection proxy:\n",
       "Python Version:                 2.7.11\n",
       "------------------------------  --------------------------------------"
      ]
     },
     "metadata": {},
     "output_type": "display_data"
    }
   ],
   "source": [
    "# silence warning messages\n",
    "import h2o\n",
    "import numpy as np\n",
    "import math\n",
    "import warnings\n",
    "warnings.filterwarnings('ignore', category=DeprecationWarning, module='.*/jupyter/.*')\n",
    "h2o.init(nthreads = -1)\n",
    "\n",
    "# Load the H2O library and start up the H2O cluter locally on your machine\n",
    "import h2o\n",
    "\n",
    "# Number of threads, nthreads = -1, means use all cores on your machine\n",
    "# max_mem_size is the maximum memory (in GB) to allocate to H2O\n",
    "h2o.init(nthreads = -1, max_mem_size = 8)"
   ]
  },
  {
   "cell_type": "code",
   "execution_count": 2,
   "metadata": {
    "collapsed": true
   },
   "outputs": [],
   "source": [
    "#h2o.shutdown(prompt=False)\n",
    "#h2o.init(nthreads = -1, max_mem_size = 8)"
   ]
  },
  {
   "cell_type": "markdown",
   "metadata": {},
   "source": [
    "## Train a binary classification GBM model"
   ]
  },
  {
   "cell_type": "code",
   "execution_count": 3,
   "metadata": {
    "collapsed": false
   },
   "outputs": [
    {
     "name": "stdout",
     "output_type": "stream",
     "text": [
      "\n",
      "Parse Progress: [##################################################] 100%\n"
     ]
    }
   ],
   "source": [
    "# A small clean telecommunications sample dataset (https://www.ibm.com/communities/analytics/watson-analytics-blog/predictive-insights-in-the-telco-customer-churn-data-set/\n",
    "telco_dataset = h2o.import_file(\"https://s3.amazonaws.com/h2o-smalldata/TelcoChurn.csv\")\n",
    "# select all columns as predictors except the customerID (which is like an index) and the response column\n",
    "features_list = list(telco_dataset.columns[1:-1])\n",
    "response_name = 'Churn'"
   ]
  },
  {
   "cell_type": "code",
   "execution_count": 4,
   "metadata": {
    "collapsed": true
   },
   "outputs": [],
   "source": [
    "# Partition data into 70%, 15%, 15% chunks\n",
    "# Setting a seed will guarantee reproducibility\n",
    "splits = telco_dataset.split_frame(ratios=[0.75,0.15], seed=1234)\n",
    "\n",
    "train = splits[0]\n",
    "valid = splits[1]\n",
    "test = splits[2]"
   ]
  },
  {
   "cell_type": "code",
   "execution_count": 5,
   "metadata": {
    "collapsed": true
   },
   "outputs": [],
   "source": [
    "# Import H2O GBM:\n",
    "from h2o.estimators.gbm import H2OGradientBoostingEstimator"
   ]
  },
  {
   "cell_type": "code",
   "execution_count": 6,
   "metadata": {
    "collapsed": false
   },
   "outputs": [
    {
     "name": "stdout",
     "output_type": "stream",
     "text": [
      "\n",
      "gbm Model Build Progress: [##################################################] 100%\n"
     ]
    }
   ],
   "source": [
    "# Initialize and train the GBM estimator:\n",
    "\n",
    "gbm_fit1 = H2OGradientBoostingEstimator(model_id='gbm_fit1', seed=1234)\n",
    "gbm_fit1.train(x=features_list, y=response_name, training_frame=train)"
   ]
  },
  {
   "cell_type": "code",
   "execution_count": 7,
   "metadata": {
    "collapsed": false
   },
   "outputs": [
    {
     "name": "stdout",
     "output_type": "stream",
     "text": [
      "\n",
      "gbm prediction Progress: [##################################################] 100%\n"
     ]
    }
   ],
   "source": [
    "pred = gbm_fit1.predict(valid)"
   ]
  },
  {
   "cell_type": "code",
   "execution_count": 8,
   "metadata": {
    "collapsed": false
   },
   "outputs": [
    {
     "name": "stdout",
     "output_type": "stream",
     "text": [
      "0.900653373457\n",
      "0.853859853927\n"
     ]
    }
   ],
   "source": [
    "performance_train = gbm_fit1.model_performance(train)\n",
    "print performance_train.auc()\n",
    "performance_valid = gbm_fit1.model_performance(valid)\n",
    "print performance_valid.auc()"
   ]
  },
  {
   "cell_type": "code",
   "execution_count": 9,
   "metadata": {
    "collapsed": false
   },
   "outputs": [
    {
     "name": "stdout",
     "output_type": "stream",
     "text": [
      "\n",
      "gbm prediction Progress: [##################################################] 100%\n",
      "predict           No        Yes\n",
      "---------  ---------  ---------\n",
      "Yes        0.49132    0.50868\n",
      "No         0.824918   0.175082\n",
      "Yes        0.0922927  0.907707\n",
      "No         0.956509   0.0434913\n",
      "No         0.750771   0.249229\n",
      "Yes        0.276651   0.723349\n",
      "No         0.921678   0.0783222\n",
      "Yes        0.272807   0.727193\n",
      "No         0.949678   0.0503224\n",
      "Yes        0.316944   0.683056\n",
      "\n",
      "[1029 rows x 3 columns]\n"
     ]
    }
   ],
   "source": [
    "models_predictions = gbm_fit1.predict(valid)\n",
    "print models_predictions "
   ]
  },
  {
   "cell_type": "code",
   "execution_count": 10,
   "metadata": {
    "collapsed": true
   },
   "outputs": [],
   "source": [
    "intervention_cost = 3.0  # Cost of classification \n",
    "effectiveness = 0.1      # 10% of users will be influenced by this particular intervention"
   ]
  },
  {
   "cell_type": "code",
   "execution_count": 11,
   "metadata": {
    "collapsed": false
   },
   "outputs": [
    {
     "name": "stdout",
     "output_type": "stream",
     "text": [
      "\n",
      "gbm prediction Progress: [##################################################] 100%\n"
     ]
    }
   ],
   "source": [
    "# this is temporary for debubgging only\n",
    "# we can set a threshold to use for now (this will be a variable in the future)\n",
    "newdata = valid\n",
    "model = gbm_fit1\n",
    "threshold = 0.6\n",
    "pred = model.predict(newdata)\n",
    "pred['predict'] = pred['Yes']>threshold"
   ]
  },
  {
   "cell_type": "code",
   "execution_count": 12,
   "metadata": {
    "collapsed": false
   },
   "outputs": [
    {
     "data": {
      "text/html": [
       "<table>\n",
       "<tr><th style=\"text-align: right;\">  predict</th><th style=\"text-align: right;\">       No</th><th style=\"text-align: right;\">      Yes</th></tr>\n",
       "<tr><td style=\"text-align: right;\">        0</td><td style=\"text-align: right;\">0.49132  </td><td style=\"text-align: right;\">0.50868  </td></tr>\n",
       "<tr><td style=\"text-align: right;\">        0</td><td style=\"text-align: right;\">0.824918 </td><td style=\"text-align: right;\">0.175082 </td></tr>\n",
       "<tr><td style=\"text-align: right;\">        1</td><td style=\"text-align: right;\">0.0922927</td><td style=\"text-align: right;\">0.907707 </td></tr>\n",
       "<tr><td style=\"text-align: right;\">        0</td><td style=\"text-align: right;\">0.956509 </td><td style=\"text-align: right;\">0.0434913</td></tr>\n",
       "<tr><td style=\"text-align: right;\">        0</td><td style=\"text-align: right;\">0.750771 </td><td style=\"text-align: right;\">0.249229 </td></tr>\n",
       "<tr><td style=\"text-align: right;\">        1</td><td style=\"text-align: right;\">0.276651 </td><td style=\"text-align: right;\">0.723349 </td></tr>\n",
       "<tr><td style=\"text-align: right;\">        0</td><td style=\"text-align: right;\">0.921678 </td><td style=\"text-align: right;\">0.0783222</td></tr>\n",
       "<tr><td style=\"text-align: right;\">        1</td><td style=\"text-align: right;\">0.272807 </td><td style=\"text-align: right;\">0.727193 </td></tr>\n",
       "<tr><td style=\"text-align: right;\">        0</td><td style=\"text-align: right;\">0.949678 </td><td style=\"text-align: right;\">0.0503224</td></tr>\n",
       "<tr><td style=\"text-align: right;\">        1</td><td style=\"text-align: right;\">0.316944 </td><td style=\"text-align: right;\">0.683056 </td></tr>\n",
       "</table>"
      ]
     },
     "metadata": {},
     "output_type": "display_data"
    },
    {
     "data": {
      "text/plain": []
     },
     "execution_count": 12,
     "metadata": {},
     "output_type": "execute_result"
    }
   ],
   "source": [
    "pred"
   ]
  },
  {
   "cell_type": "markdown",
   "metadata": {},
   "source": [
    "Now that we have a trained model and predictions (0/1) on a validation set, we can compute the confusion matrix to get the numbers of TP, FP, TN, FN."
   ]
  },
  {
   "cell_type": "code",
   "execution_count": 13,
   "metadata": {
    "collapsed": false
   },
   "outputs": [
    {
     "name": "stdout",
     "output_type": "stream",
     "text": [
      "\n",
      "Confusion Matrix (Act/Pred) for max f1 @ threshold = 0.338346064197: \n"
     ]
    },
    {
     "data": {
      "text/html": [
       "<div style=\"overflow:auto\"><table style=\"width:50%\"><tr><td><b></b></td>\n",
       "<td><b>No</b></td>\n",
       "<td><b>Yes</b></td>\n",
       "<td><b>Error</b></td>\n",
       "<td><b>Rate</b></td></tr>\n",
       "<tr><td>No</td>\n",
       "<td>3238.0</td>\n",
       "<td>644.0</td>\n",
       "<td>0.1659</td>\n",
       "<td> (644.0/3882.0)</td></tr>\n",
       "<tr><td>Yes</td>\n",
       "<td>272.0</td>\n",
       "<td>1143.0</td>\n",
       "<td>0.1922</td>\n",
       "<td> (272.0/1415.0)</td></tr>\n",
       "<tr><td>Total</td>\n",
       "<td>3510.0</td>\n",
       "<td>1787.0</td>\n",
       "<td>0.1729</td>\n",
       "<td> (916.0/5297.0)</td></tr></table></div>"
      ],
      "text/plain": [
       "       No    Yes    Error    Rate\n",
       "-----  ----  -----  -------  --------------\n",
       "No     3238  644    0.1659   (644.0/3882.0)\n",
       "Yes    272   1143   0.1922   (272.0/1415.0)\n",
       "Total  3510  1787   0.1729   (916.0/5297.0)"
      ]
     },
     "metadata": {},
     "output_type": "display_data"
    },
    {
     "name": "stdout",
     "output_type": "stream",
     "text": [
      "\n",
      "<class 'h2o.model.confusion_matrix.ConfusionMatrix'>\n"
     ]
    }
   ],
   "source": [
    "conf = model.confusion_matrix()\n",
    "print conf\n",
    "print type(conf)"
   ]
  },
  {
   "cell_type": "code",
   "execution_count": 14,
   "metadata": {
    "collapsed": false
   },
   "outputs": [
    {
     "name": "stdout",
     "output_type": "stream",
     "text": [
      "              No     Yes   Error             Rate\n",
      "0     No  3238.0   644.0  0.1659   (644.0/3882.0)\n",
      "1    Yes   272.0  1143.0  0.1922   (272.0/1415.0)\n",
      "2  Total  3510.0  1787.0  0.1729   (916.0/5297.0)\n"
     ]
    }
   ],
   "source": [
    "conf_df = conf.table.as_data_frame()\n",
    "print conf_df"
   ]
  },
  {
   "cell_type": "code",
   "execution_count": 15,
   "metadata": {
    "collapsed": false
   },
   "outputs": [],
   "source": [
    "TN = conf_df.ix[0,1]  #True Negative\n",
    "FN = conf_df.ix[0,2]  #False Negative\n",
    "FP = conf_df.ix[1,1]  #False Positive\n",
    "TP = conf_df.ix[1,2]  #True Positive"
   ]
  },
  {
   "cell_type": "markdown",
   "metadata": {},
   "source": [
    "## Define cost parameters\n",
    "\n",
    "- `unit_full_price`: Unit cost in USD, e.g. \"cost of a Starbucks coffee\"\n",
    "- `unit_discount`: The discount of the coupon, e.g. 0.4 = 40% off\n",
    "- `discount_effectiveness`: The effectiveness of the coupon to prevent churn, e.g. 0.3 = 30% of people who would have churned, but received the coupon, will decide to buy the unit at a discounted price instead of not buying (churning)."
   ]
  },
  {
   "cell_type": "code",
   "execution_count": 16,
   "metadata": {
    "collapsed": false
   },
   "outputs": [
    {
     "name": "stdout",
     "output_type": "stream",
     "text": [
      "0.6\n"
     ]
    }
   ],
   "source": [
    "unit_full_price = 1.00\n",
    "unit_discount = 0.4\n",
    "discount_effectiveness = 0.3\n",
    "discounted_unit_price = (1 - unit_discount) * unit_full_price\n",
    "print discounted_unit_price"
   ]
  },
  {
   "cell_type": "markdown",
   "metadata": {},
   "source": [
    "### Send coupon to people who are predicted to churn\n",
    "\n",
    "For all the people who we predict as \"Will Churn\", we send them a coupon to try to get them not to churn.  There are two groups in this population:\n",
    "\n",
    "1. TP: Apply the coupon and 30% of these folks will decide to buy the discounted item instead of not buying.  Company makes money.\n",
    "2. FP: These people were not going to churn -- so now they have 40% off coupon for something they were going to pay full price for.  Company loses money."
   ]
  },
  {
   "cell_type": "code",
   "execution_count": 17,
   "metadata": {
    "collapsed": false
   },
   "outputs": [
    {
     "name": "stdout",
     "output_type": "stream",
     "text": [
      "205.74\n",
      "-108.8\n"
     ]
    }
   ],
   "source": [
    "# Total reward of TP group: TP * 0.6 * 0.3  #Discounted price is $0.60, which is 40% off of $1.00\n",
    "TP_value = TP * discounted_unit_price * discount_effectiveness \n",
    "print TP_value\n",
    "\n",
    "# Total cost of FP group: FP * 0.4 * 1.00  #Coupon is $0.40, which is 40% of $1.00, lost for each FP\n",
    "FP_value = FP * unit_full_price * unit_discount * -1\n",
    "print FP_value"
   ]
  },
  {
   "cell_type": "markdown",
   "metadata": {},
   "source": [
    "### Don't send coupon to people who are not predicted to churn\n",
    "\n",
    "For all the people who we predict as \"Will Not Churn\", we don't bother to send them a coupon.  There are two groups in this population:\n",
    "\n",
    "1. TN: These people were not going to churn, and they didn't get a coupon, so there's no loss or gain here.\n",
    "2. FN: These people do churn, and since they didn't get an inticing coupon in the mail, there is nothing to prevent them from churning.  These are lost customers.  Company loses money."
   ]
  },
  {
   "cell_type": "code",
   "execution_count": 18,
   "metadata": {
    "collapsed": false
   },
   "outputs": [
    {
     "name": "stdout",
     "output_type": "stream",
     "text": [
      "-115.92\n",
      "0.0\n"
     ]
    }
   ],
   "source": [
    "# Total cost of FN group: 30% of these churns could have been saved at a 40% discount\n",
    "FN_value = FN * discounted_unit_price * discount_effectiveness * -1\n",
    "print FN_value\n",
    "\n",
    "# Total cost/reward of TN group: Nothing, the intervention has no effect on the outcome for this population\n",
    "TN_value = 0.00\n",
    "print TN_value "
   ]
  },
  {
   "cell_type": "code",
   "execution_count": 19,
   "metadata": {
    "collapsed": false
   },
   "outputs": [
    {
     "name": "stdout",
     "output_type": "stream",
     "text": [
      "-18.98\n"
     ]
    }
   ],
   "source": [
    "intervention_net_value = TP_value + FP_value + TN_value + FN_value\n",
    "print intervention_net_value"
   ]
  },
  {
   "cell_type": "markdown",
   "metadata": {},
   "source": [
    "### Intervention Value Function\n",
    "\n",
    "Ok, lets wrap all this up in a function and try different interventions."
   ]
  },
  {
   "cell_type": "code",
   "execution_count": 20,
   "metadata": {
    "collapsed": false
   },
   "outputs": [],
   "source": [
    "def intervention_value(intervention_params, newdata, model, threshold = None):\n",
    "    ''' \n",
    "    intervention_params is a dict specifying intervention parameters\n",
    "    model must be a binomial H2O model\n",
    "    threshold is a number between 0 and 1\n",
    "    newdata is an H2OFrame of test data\n",
    "    '''\n",
    "    \n",
    "    # Parse parameters\n",
    "    unit_full_price = intervention_params['unit_full_price']\n",
    "    unit_discount = intervention_params['unit_discount']\n",
    "    discount_effectiveness = intervention_params['discount_effectiveness']\n",
    "    discounted_unit_price = (1 - unit_discount) * unit_full_price #CHANGED THIS FROM unit_cost\n",
    "    \n",
    "#     assert(unit_discount > 0.0)\n",
    "    \n",
    "    if threshold is not None:\n",
    "        # Update the predictions using specified threshold\n",
    "        pred = model.predict(newdata)\n",
    "        pred['predict'] = pred['Yes']>threshold\n",
    "    \n",
    "    # Confusion matrix\n",
    "    conf = model.confusion_matrix()\n",
    "    print conf\n",
    "    conf_df = conf.table.as_data_frame()\n",
    "    TN = conf_df.ix[0,1]  #True Negative\n",
    "    FN = conf_df.ix[0,2]  #False Negative\n",
    "    FP = conf_df.ix[1,1]  #False Positive\n",
    "    TP = conf_df.ix[1,2]  #True Positive\n",
    "    \n",
    "    # Total reward of TP group: TP * 0.6 * 0.3  #Discounted price is $0.60, which is 40% off of $1.00\n",
    "    TP_value = TP * discounted_unit_price * discount_effectiveness \n",
    "    print TP_value\n",
    "\n",
    "    # Total cost of FP group: FP * 0.4 * 1.00  #Coupon is $0.40, which is 40% of $1.00, lost for each FP\n",
    "    FP_value = FP * unit_full_price * unit_discount * -1\n",
    "    print FP_value\n",
    "    \n",
    "    # Total cost of FN group: 30% of these churns could have been saved at a 40% discount\n",
    "    FN_value = TN * discounted_unit_price * discount_effectiveness * -1\n",
    "    print FN_value\n",
    "\n",
    "    # Total cost/reward of TN group: Nothing, the intervention has no effect on the outcome for this population\n",
    "    TN_value = 0.00\n",
    "    print TN_value \n",
    "    \n",
    "    intervention_net_value = TP_value + FP_value + TN_value + FN_value\n",
    "    print 'Value of intervention is %.2f'%intervention_net_value\n",
    "    return intervention_net_value\n",
    "    "
   ]
  },
  {
   "cell_type": "code",
   "execution_count": 21,
   "metadata": {
    "collapsed": false
   },
   "outputs": [
    {
     "name": "stdout",
     "output_type": "stream",
     "text": [
      "\n",
      "gbm prediction Progress: [##################################################] 100%\n",
      "\n",
      "Confusion Matrix (Act/Pred) for max f1 @ threshold = 0.338346064197: \n"
     ]
    },
    {
     "data": {
      "text/html": [
       "<div style=\"overflow:auto\"><table style=\"width:50%\"><tr><td><b></b></td>\n",
       "<td><b>No</b></td>\n",
       "<td><b>Yes</b></td>\n",
       "<td><b>Error</b></td>\n",
       "<td><b>Rate</b></td></tr>\n",
       "<tr><td>No</td>\n",
       "<td>3238.0</td>\n",
       "<td>644.0</td>\n",
       "<td>0.1659</td>\n",
       "<td> (644.0/3882.0)</td></tr>\n",
       "<tr><td>Yes</td>\n",
       "<td>272.0</td>\n",
       "<td>1143.0</td>\n",
       "<td>0.1922</td>\n",
       "<td> (272.0/1415.0)</td></tr>\n",
       "<tr><td>Total</td>\n",
       "<td>3510.0</td>\n",
       "<td>1787.0</td>\n",
       "<td>0.1729</td>\n",
       "<td> (916.0/5297.0)</td></tr></table></div>"
      ],
      "text/plain": [
       "       No    Yes    Error    Rate\n",
       "-----  ----  -----  -------  --------------\n",
       "No     3238  644    0.1659   (644.0/3882.0)\n",
       "Yes    272   1143   0.1922   (272.0/1415.0)\n",
       "Total  3510  1787   0.1729   (916.0/5297.0)"
      ]
     },
     "metadata": {},
     "output_type": "display_data"
    },
    {
     "name": "stdout",
     "output_type": "stream",
     "text": [
      "\n",
      "205.74\n",
      "-108.8\n",
      "-582.84\n",
      "0.0\n",
      "Value of intervention is -485.90\n"
     ]
    }
   ],
   "source": [
    "# Let's try some interventions:\n",
    "\n",
    "intervention1 = {'unit_full_price': 1.00,\n",
    "                 'unit_discount': 0.4,\n",
    "                 'discount_effectiveness': 0.3}\n",
    "\n",
    "ival1 = intervention_value(intervention_params = intervention1, newdata = test, model = model, threshold = 0.2)"
   ]
  },
  {
   "cell_type": "code",
   "execution_count": 22,
   "metadata": {
    "collapsed": false
   },
   "outputs": [
    {
     "name": "stdout",
     "output_type": "stream",
     "text": [
      "\n",
      "gbm prediction Progress: [##################################################] 100%\n",
      "\n",
      "Confusion Matrix (Act/Pred) for max f1 @ threshold = 0.338346064197: \n"
     ]
    },
    {
     "data": {
      "text/html": [
       "<div style=\"overflow:auto\"><table style=\"width:50%\"><tr><td><b></b></td>\n",
       "<td><b>No</b></td>\n",
       "<td><b>Yes</b></td>\n",
       "<td><b>Error</b></td>\n",
       "<td><b>Rate</b></td></tr>\n",
       "<tr><td>No</td>\n",
       "<td>3238.0</td>\n",
       "<td>644.0</td>\n",
       "<td>0.1659</td>\n",
       "<td> (644.0/3882.0)</td></tr>\n",
       "<tr><td>Yes</td>\n",
       "<td>272.0</td>\n",
       "<td>1143.0</td>\n",
       "<td>0.1922</td>\n",
       "<td> (272.0/1415.0)</td></tr>\n",
       "<tr><td>Total</td>\n",
       "<td>3510.0</td>\n",
       "<td>1787.0</td>\n",
       "<td>0.1729</td>\n",
       "<td> (916.0/5297.0)</td></tr></table></div>"
      ],
      "text/plain": [
       "       No    Yes    Error    Rate\n",
       "-----  ----  -----  -------  --------------\n",
       "No     3238  644    0.1659   (644.0/3882.0)\n",
       "Yes    272   1143   0.1922   (272.0/1415.0)\n",
       "Total  3510  1787   0.1729   (916.0/5297.0)"
      ]
     },
     "metadata": {},
     "output_type": "display_data"
    },
    {
     "name": "stdout",
     "output_type": "stream",
     "text": [
      "\n",
      "308.61\n",
      "-27.2\n",
      "-874.26\n",
      "0.0\n",
      "Value of intervention is -592.85\n"
     ]
    }
   ],
   "source": [
    "# A unit discount of $0.00 should produce a value of intervention of 0.00\n",
    "\n",
    "intervention2 = {'unit_full_price': 1.00,\n",
    "                 'unit_discount': 0.1,\n",
    "                 'discount_effectiveness': 0.3}\n",
    "\n",
    "ival2 = intervention_value(intervention_params = intervention2, newdata = test, model = model, threshold = 0.2)"
   ]
  },
  {
   "cell_type": "code",
   "execution_count": 23,
   "metadata": {
    "collapsed": false
   },
   "outputs": [
    {
     "name": "stdout",
     "output_type": "stream",
     "text": [
      "\n",
      "Confusion Matrix (Act/Pred) for max f1 @ threshold = 0.338346064197: \n"
     ]
    },
    {
     "data": {
      "text/html": [
       "<div style=\"overflow:auto\"><table style=\"width:50%\"><tr><td><b></b></td>\n",
       "<td><b>No</b></td>\n",
       "<td><b>Yes</b></td>\n",
       "<td><b>Error</b></td>\n",
       "<td><b>Rate</b></td></tr>\n",
       "<tr><td>No</td>\n",
       "<td>3238.0</td>\n",
       "<td>644.0</td>\n",
       "<td>0.1659</td>\n",
       "<td> (644.0/3882.0)</td></tr>\n",
       "<tr><td>Yes</td>\n",
       "<td>272.0</td>\n",
       "<td>1143.0</td>\n",
       "<td>0.1922</td>\n",
       "<td> (272.0/1415.0)</td></tr>\n",
       "<tr><td>Total</td>\n",
       "<td>3510.0</td>\n",
       "<td>1787.0</td>\n",
       "<td>0.1729</td>\n",
       "<td> (916.0/5297.0)</td></tr></table></div>"
      ],
      "text/plain": [
       "       No    Yes    Error    Rate\n",
       "-----  ----  -----  -------  --------------\n",
       "No     3238  644    0.1659   (644.0/3882.0)\n",
       "Yes    272   1143   0.1922   (272.0/1415.0)\n",
       "Total  3510  1787   0.1729   (916.0/5297.0)"
      ]
     },
     "metadata": {},
     "output_type": "display_data"
    },
    {
     "name": "stdout",
     "output_type": "stream",
     "text": [
      "\n",
      "342.9\n",
      "-0.0\n",
      "-971.4\n",
      "0.0\n",
      "Value of intervention is -628.50\n"
     ]
    }
   ],
   "source": [
    "# A unit discount of $0.00 should produce a value of intervention of 0.00... hmm maybe something is wrong above?\n",
    "\n",
    "intervention2 = {'unit_full_price': 1.00,\n",
    "                 'unit_discount': 0.0,\n",
    "                 'discount_effectiveness': 0.3}\n",
    "\n",
    "ival = intervention_value(intervention_params = intervention2, newdata = test, model = model, threshold = None)"
   ]
  },
  {
   "cell_type": "code",
   "execution_count": null,
   "metadata": {
    "collapsed": true
   },
   "outputs": [],
   "source": []
  }
 ],
 "metadata": {
  "kernelspec": {
   "display_name": "Python 2",
   "language": "python",
   "name": "python2"
  },
  "language_info": {
   "codemirror_mode": {
    "name": "ipython",
    "version": 2
   },
   "file_extension": ".py",
   "mimetype": "text/x-python",
   "name": "python",
   "nbconvert_exporter": "python",
   "pygments_lexer": "ipython2",
   "version": "2.7.11"
  }
 },
 "nbformat": 4,
 "nbformat_minor": 0
}
